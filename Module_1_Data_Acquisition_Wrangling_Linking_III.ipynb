{
  "cells": [
    {
      "cell_type": "markdown",
      "metadata": {
        "id": "view-in-github",
        "colab_type": "text"
      },
      "source": [
        "<a href=\"https://colab.research.google.com/github/zackives/upenn-cis5450-hw/blob/main/Module_1_Data_Acquisition_Wrangling_Linking_III.ipynb\" target=\"_parent\"><img src=\"https://colab.research.google.com/assets/colab-badge.svg\" alt=\"Open In Colab\"/></a>"
      ]
    },
    {
      "cell_type": "markdown",
      "metadata": {
        "id": "G_jsTACdAaZe"
      },
      "source": [
        "# Part I of Big Data Analytics - Notebook 3\n",
        "\n",
        "## Recall\n",
        "\n",
        "As we start our journey into Big Data Analytics, the first thing we need to do is **get the data** in the form we need for analysis!  We'll start with an overview of how to acquire and *wrangle* data.\n",
        "\n",
        "This notebook will be built incrementally to consider several tasks:\n",
        "\n",
        "* Acquiring data from files and remote sources\n",
        "* Information extraction over HTML content\n",
        "* A basic \"vocabulary\" of operators over tables (the relational algebra)\n",
        "* Basic manipulation using SQL in DuckDB\n",
        "\n",
        "* \"Data wrangling\" or integration:\n",
        "  * Cleaning and filtering data, using rules and based operations\n",
        "  * Linking data across dataframes or relations\n",
        "  * The need for approximate match and record linking\n",
        "  * Different techniques\n",
        "\n",
        "## Before you start this notebook\n",
        "\n",
        "Make sure you did the exercises in [Notebook 1](https://colab.research.google.com/github/zackives/upenn-cis-2450/blob/main/Module_1_Data_Acquisition.ipynb)! and [Notebook 2](https://colab.research.google.com/github/zackives/upenn-cis-2450/blob/main/Module_1_Data_Acquisition_Wrangling_II.ipynb)."
      ]
    },
    {
      "cell_type": "markdown",
      "metadata": {
        "id": "N01ql5zclw7M"
      },
      "source": [
        "## The Motivating Question\n",
        "To illustrate the principles, we focus on the question of **how old company CEOs and founders** (in general, leaders) are.  The question was in part motivated by the following New York Times article:\n",
        "\n",
        "* Founders of Successful Tech Companies Are Mostly Middle-Aged: https://www.nytimes.com/2019/08/29/business/tech-start-up-founders-nest.html?searchResultPosition=2\n",
        "\n",
        "So let's test this hypothesis!"
      ]
    },
    {
      "cell_type": "markdown",
      "metadata": {
        "id": "dyfHtQ-qaspJ"
      },
      "source": [
        "# 3.0: Validating and Cleaning Data\n",
        "\n",
        "How do we know our data is good?  We can create rules that trigger when the data fails some particular set of **constraints**."
      ]
    },
    {
      "cell_type": "markdown",
      "metadata": {
        "id": "v7P39UsKpdoK"
      },
      "source": [
        "## Libraries\n"
      ]
    },
    {
      "cell_type": "markdown",
      "source": [
        "This will take a while to install and requires that you Restart your runtime after."
      ],
      "metadata": {
        "id": "vV6Jte-ZdMk_"
      }
    },
    {
      "cell_type": "code",
      "source": [
        "!pip3 install setuptools==72.2.0"
      ],
      "metadata": {
        "id": "MNkS-RGDdLgo",
        "colab": {
          "base_uri": "https://localhost:8080/",
          "height": 342
        },
        "outputId": "b1a13670-dbba-4022-cc61-f1a4dc75cb0b"
      },
      "execution_count": 2,
      "outputs": [
        {
          "output_type": "stream",
          "name": "stdout",
          "text": [
            "Collecting setuptools==72.2.0\n",
            "  Downloading setuptools-72.2.0-py3-none-any.whl.metadata (6.6 kB)\n",
            "Downloading setuptools-72.2.0-py3-none-any.whl (2.3 MB)\n",
            "\u001b[?25l   \u001b[90m━━━━━━━━━━━━━━━━━━━━━━━━━━━━━━━━━━━━━━━━\u001b[0m \u001b[32m0.0/2.3 MB\u001b[0m \u001b[31m?\u001b[0m eta \u001b[36m-:--:--\u001b[0m\r\u001b[2K   \u001b[91m━━━━━━━━━━━━━━━━━━━━━━━━━━━━━━━━━━━━━━━\u001b[0m\u001b[91m╸\u001b[0m \u001b[32m2.3/2.3 MB\u001b[0m \u001b[31m132.5 MB/s\u001b[0m eta \u001b[36m0:00:01\u001b[0m\r\u001b[2K   \u001b[90m━━━━━━━━━━━━━━━━━━━━━━━━━━━━━━━━━━━━━━━━\u001b[0m \u001b[32m2.3/2.3 MB\u001b[0m \u001b[31m61.1 MB/s\u001b[0m eta \u001b[36m0:00:00\u001b[0m\n",
            "\u001b[?25hInstalling collected packages: setuptools\n",
            "  Attempting uninstall: setuptools\n",
            "    Found existing installation: setuptools 75.2.0\n",
            "    Uninstalling setuptools-75.2.0:\n",
            "      Successfully uninstalled setuptools-75.2.0\n",
            "\u001b[31mERROR: pip's dependency resolver does not currently take into account all the packages that are installed. This behaviour is the source of the following dependency conflicts.\n",
            "ipython 7.34.0 requires jedi>=0.16, which is not installed.\u001b[0m\u001b[31m\n",
            "\u001b[0mSuccessfully installed setuptools-72.2.0\n"
          ]
        },
        {
          "output_type": "display_data",
          "data": {
            "application/vnd.colab-display-data+json": {
              "pip_warning": {
                "packages": [
                  "_distutils_hack"
                ]
              },
              "id": "ae7ac2f84f1c4221aa03b01bf474ccf9"
            }
          },
          "metadata": {}
        }
      ]
    },
    {
      "cell_type": "code",
      "source": [
        "!pip3 install git+https://github.com/anhaidgroup/py_stringsimjoin.git@rel_0_3_6"
      ],
      "metadata": {
        "colab": {
          "base_uri": "https://localhost:8080/",
          "height": 898
        },
        "id": "VBeK_DFmc-4u",
        "outputId": "2a495c62-64fa-4479-a79b-7e1434737726"
      },
      "execution_count": 1,
      "outputs": [
        {
          "output_type": "stream",
          "name": "stdout",
          "text": [
            "Collecting git+https://github.com/anhaidgroup/py_stringsimjoin.git@rel_0_3_6\n",
            "  Cloning https://github.com/anhaidgroup/py_stringsimjoin.git (to revision rel_0_3_6) to /tmp/pip-req-build-1sbl1sq0\n",
            "  Running command git clone --filter=blob:none --quiet https://github.com/anhaidgroup/py_stringsimjoin.git /tmp/pip-req-build-1sbl1sq0\n",
            "  Running command git checkout -b rel_0_3_6 --track origin/rel_0_3_6\n",
            "  Switched to a new branch 'rel_0_3_6'\n",
            "  Branch 'rel_0_3_6' set up to track remote branch 'rel_0_3_6' from 'origin'.\n",
            "  Resolved https://github.com/anhaidgroup/py_stringsimjoin.git to commit d3ab2b31a8f9515e11bfa7abf9c33722cf6c9938\n",
            "  Preparing metadata (setup.py) ... \u001b[?25l\u001b[?25hdone\n",
            "Requirement already satisfied: joblib in /usr/local/lib/python3.12/dist-packages (from py-stringsimjoin==0.3.6) (1.5.2)\n",
            "Requirement already satisfied: pandas>=0.16.0 in /usr/local/lib/python3.12/dist-packages (from py-stringsimjoin==0.3.6) (2.2.2)\n",
            "Collecting PyPrind>=2.9.3 (from py-stringsimjoin==0.3.6)\n",
            "  Downloading PyPrind-2.11.3-py2.py3-none-any.whl.metadata (1.1 kB)\n",
            "Collecting py_stringmatching>=0.2.1 (from py-stringsimjoin==0.3.6)\n",
            "  Downloading py-stringmatching-0.4.6.tar.gz (849 kB)\n",
            "\u001b[2K     \u001b[90m━━━━━━━━━━━━━━━━━━━━━━━━━━━━━━━━━━━━━━\u001b[0m \u001b[32m849.6/849.6 kB\u001b[0m \u001b[31m34.9 MB/s\u001b[0m eta \u001b[36m0:00:00\u001b[0m\n",
            "\u001b[?25h  Preparing metadata (setup.py) ... \u001b[?25l\u001b[?25hdone\n",
            "Requirement already satisfied: six in /usr/local/lib/python3.12/dist-packages (from py-stringsimjoin==0.3.6) (1.17.0)\n",
            "Requirement already satisfied: numpy>=1.26.0 in /usr/local/lib/python3.12/dist-packages (from pandas>=0.16.0->py-stringsimjoin==0.3.6) (2.0.2)\n",
            "Requirement already satisfied: python-dateutil>=2.8.2 in /usr/local/lib/python3.12/dist-packages (from pandas>=0.16.0->py-stringsimjoin==0.3.6) (2.9.0.post0)\n",
            "Requirement already satisfied: pytz>=2020.1 in /usr/local/lib/python3.12/dist-packages (from pandas>=0.16.0->py-stringsimjoin==0.3.6) (2025.2)\n",
            "Requirement already satisfied: tzdata>=2022.7 in /usr/local/lib/python3.12/dist-packages (from pandas>=0.16.0->py-stringsimjoin==0.3.6) (2025.2)\n",
            "Collecting numpy>=1.26.0 (from pandas>=0.16.0->py-stringsimjoin==0.3.6)\n",
            "  Using cached numpy-1.26.4-cp312-cp312-manylinux_2_17_x86_64.manylinux2014_x86_64.whl.metadata (61 kB)\n",
            "Downloading PyPrind-2.11.3-py2.py3-none-any.whl (8.4 kB)\n",
            "Using cached numpy-1.26.4-cp312-cp312-manylinux_2_17_x86_64.manylinux2014_x86_64.whl (18.0 MB)\n",
            "Building wheels for collected packages: py-stringsimjoin, py_stringmatching\n",
            "  Building wheel for py-stringsimjoin (setup.py) ... \u001b[?25l\u001b[?25hdone\n",
            "  Created wheel for py-stringsimjoin: filename=py_stringsimjoin-0.3.6-cp312-cp312-linux_x86_64.whl size=5573025 sha256=87aa487ff82ac89808dcb25aa865f5fbbd05e1b7526b6967d60c52d3febee04b\n",
            "  Stored in directory: /tmp/pip-ephem-wheel-cache-5q4mswnp/wheels/49/9e/6e/a623bd632bbe8cfb32ddd479180422e40974303efb1d75c803\n",
            "  Building wheel for py_stringmatching (setup.py) ... \u001b[?25l\u001b[?25hdone\n",
            "  Created wheel for py_stringmatching: filename=py_stringmatching-0.4.6-cp312-cp312-linux_x86_64.whl size=3094136 sha256=bf068ab359aaf68dcc28ec2890e594ddd86cb780eb97ee8c0cd5cf1c6d0a469a\n",
            "  Stored in directory: /root/.cache/pip/wheels/98/a6/58/9884032e3ffbd48e67d67aeecea8efd6c54978f39ac0b46ee0\n",
            "Successfully built py-stringsimjoin py_stringmatching\n",
            "Installing collected packages: PyPrind, numpy, py_stringmatching, py-stringsimjoin\n",
            "  Attempting uninstall: numpy\n",
            "    Found existing installation: numpy 2.0.2\n",
            "    Uninstalling numpy-2.0.2:\n",
            "      Successfully uninstalled numpy-2.0.2\n",
            "\u001b[31mERROR: pip's dependency resolver does not currently take into account all the packages that are installed. This behaviour is the source of the following dependency conflicts.\n",
            "thinc 8.3.6 requires numpy<3.0.0,>=2.0.0, but you have numpy 1.26.4 which is incompatible.\n",
            "opencv-python-headless 4.12.0.88 requires numpy<2.3.0,>=2; python_version >= \"3.9\", but you have numpy 1.26.4 which is incompatible.\n",
            "opencv-contrib-python 4.12.0.88 requires numpy<2.3.0,>=2; python_version >= \"3.9\", but you have numpy 1.26.4 which is incompatible.\n",
            "opencv-python 4.12.0.88 requires numpy<2.3.0,>=2; python_version >= \"3.9\", but you have numpy 1.26.4 which is incompatible.\u001b[0m\u001b[31m\n",
            "\u001b[0mSuccessfully installed PyPrind-2.11.3 numpy-1.26.4 py-stringsimjoin-0.3.6 py_stringmatching-0.4.6\n"
          ]
        },
        {
          "output_type": "display_data",
          "data": {
            "application/vnd.colab-display-data+json": {
              "pip_warning": {
                "packages": [
                  "numpy"
                ]
              },
              "id": "b1160e8fb65945bdb1f5e060428d81e9"
            }
          },
          "metadata": {}
        }
      ]
    },
    {
      "cell_type": "code",
      "source": [
        "!pip install editdistance\n",
        "!pip install validators"
      ],
      "metadata": {
        "colab": {
          "base_uri": "https://localhost:8080/"
        },
        "id": "_ISH9CX6dFV5",
        "outputId": "6caf0094-3778-4286-f313-5dffbf076f36"
      },
      "execution_count": 1,
      "outputs": [
        {
          "output_type": "stream",
          "name": "stdout",
          "text": [
            "Requirement already satisfied: editdistance in /usr/local/lib/python3.12/dist-packages (0.8.1)\n",
            "Collecting validators\n",
            "  Downloading validators-0.35.0-py3-none-any.whl.metadata (3.9 kB)\n",
            "Downloading validators-0.35.0-py3-none-any.whl (44 kB)\n",
            "\u001b[2K   \u001b[90m━━━━━━━━━━━━━━━━━━━━━━━━━━━━━━━━━━━━━━━━\u001b[0m \u001b[32m44.7/44.7 kB\u001b[0m \u001b[31m3.6 MB/s\u001b[0m eta \u001b[36m0:00:00\u001b[0m\n",
            "\u001b[?25hInstalling collected packages: validators\n",
            "Successfully installed validators-0.35.0\n"
          ]
        }
      ]
    },
    {
      "cell_type": "code",
      "source": [
        "!pip install https://www.cis.upenn.edu/~zives/linktransformer-0.1.17-py3-none-any.whl"
      ],
      "metadata": {
        "colab": {
          "base_uri": "https://localhost:8080/",
          "height": 1000
        },
        "id": "UMt-aq-avfQc",
        "outputId": "3bfe00eb-fdbd-4ff9-c0b2-7d9bddf393ee"
      },
      "execution_count": 2,
      "outputs": [
        {
          "output_type": "stream",
          "name": "stdout",
          "text": [
            "Collecting linktransformer==0.1.17\n",
            "  Downloading https://www.cis.upenn.edu/~zives/linktransformer-0.1.17-py3-none-any.whl (1.5 MB)\n",
            "\u001b[2K     \u001b[90m━━━━━━━━━━━━━━━━━━━━━━━━━━━━━━━━━━━━━━━━\u001b[0m \u001b[32m1.5/1.5 MB\u001b[0m \u001b[31m1.1 MB/s\u001b[0m eta \u001b[36m0:00:00\u001b[0m\n",
            "\u001b[?25hCollecting scikit-learn==1.3.2 (from linktransformer==0.1.17)\n",
            "  Downloading scikit_learn-1.3.2-cp312-cp312-manylinux_2_17_x86_64.manylinux2014_x86_64.whl.metadata (11 kB)\n",
            "Collecting faiss-cpu==1.8.0 (from linktransformer==0.1.17)\n",
            "  Downloading faiss_cpu-1.8.0-cp312-cp312-manylinux_2_17_x86_64.manylinux2014_x86_64.whl.metadata (3.6 kB)\n",
            "Collecting hdbscan==0.8.36 (from linktransformer==0.1.17)\n",
            "  Downloading hdbscan-0.8.36.tar.gz (6.1 MB)\n",
            "\u001b[2K     \u001b[90m━━━━━━━━━━━━━━━━━━━━━━━━━━━━━━━━━━━━━━━━\u001b[0m \u001b[32m6.1/6.1 MB\u001b[0m \u001b[31m7.3 MB/s\u001b[0m eta \u001b[36m0:00:00\u001b[0m\n",
            "\u001b[?25h  Installing build dependencies ... \u001b[?25l\u001b[?25hdone\n",
            "  Getting requirements to build wheel ... \u001b[?25l\u001b[?25hdone\n",
            "  Preparing metadata (pyproject.toml) ... \u001b[?25l\u001b[?25hdone\n",
            "Collecting networkx==3.1 (from linktransformer==0.1.17)\n",
            "  Downloading networkx-3.1-py3-none-any.whl.metadata (5.3 kB)\n",
            "Collecting torch==2.5.1 (from linktransformer==0.1.17)\n",
            "  Downloading torch-2.5.1-cp312-cp312-manylinux1_x86_64.whl.metadata (28 kB)\n",
            "Collecting sentence-transformers==2.3.1 (from linktransformer==0.1.17)\n",
            "  Downloading sentence_transformers-2.3.1-py3-none-any.whl.metadata (11 kB)\n",
            "Collecting transformers==4.48.1 (from linktransformer==0.1.17)\n",
            "  Downloading transformers-4.48.1-py3-none-any.whl.metadata (44 kB)\n",
            "\u001b[2K     \u001b[90m━━━━━━━━━━━━━━━━━━━━━━━━━━━━━━━━━━━━━━━━\u001b[0m \u001b[32m44.4/44.4 kB\u001b[0m \u001b[31m3.5 MB/s\u001b[0m eta \u001b[36m0:00:00\u001b[0m\n",
            "\u001b[?25hCollecting wandb==0.17.0 (from linktransformer==0.1.17)\n",
            "  Downloading wandb-0.17.0-py3-none-manylinux_2_5_x86_64.manylinux1_x86_64.manylinux_2_17_x86_64.manylinux2014_x86_64.whl.metadata (10 kB)\n",
            "Requirement already satisfied: numpy==1.26.4 in /usr/local/lib/python3.12/dist-packages (from linktransformer==0.1.17) (1.26.4)\n",
            "Collecting pandas==2.2.3 (from linktransformer==0.1.17)\n",
            "  Downloading pandas-2.2.3-cp312-cp312-manylinux_2_17_x86_64.manylinux2014_x86_64.whl.metadata (89 kB)\n",
            "\u001b[2K     \u001b[90m━━━━━━━━━━━━━━━━━━━━━━━━━━━━━━━━━━━━━━━━\u001b[0m \u001b[32m89.9/89.9 kB\u001b[0m \u001b[31m6.2 MB/s\u001b[0m eta \u001b[36m0:00:00\u001b[0m\n",
            "\u001b[?25hCollecting httpx==0.27.2 (from linktransformer==0.1.17)\n",
            "  Downloading httpx-0.27.2-py3-none-any.whl.metadata (7.1 kB)\n",
            "Collecting openai==1.30.4 (from linktransformer==0.1.17)\n",
            "  Downloading openai-1.30.4-py3-none-any.whl.metadata (21 kB)\n",
            "Collecting openpyxl==3.1.2 (from linktransformer==0.1.17)\n",
            "  Downloading openpyxl-3.1.2-py2.py3-none-any.whl.metadata (2.5 kB)\n",
            "Collecting datasets==3.2.0 (from linktransformer==0.1.17)\n",
            "  Downloading datasets-3.2.0-py3-none-any.whl.metadata (20 kB)\n",
            "Collecting accelerate==1.3.0 (from linktransformer==0.1.17)\n",
            "  Downloading accelerate-1.3.0-py3-none-any.whl.metadata (19 kB)\n",
            "Collecting evaluate==0.4.3 (from linktransformer==0.1.17)\n",
            "  Downloading evaluate-0.4.3-py3-none-any.whl.metadata (9.2 kB)\n",
            "Requirement already satisfied: packaging>=20.0 in /usr/local/lib/python3.12/dist-packages (from accelerate==1.3.0->linktransformer==0.1.17) (25.0)\n",
            "Requirement already satisfied: psutil in /usr/local/lib/python3.12/dist-packages (from accelerate==1.3.0->linktransformer==0.1.17) (5.9.5)\n",
            "Requirement already satisfied: pyyaml in /usr/local/lib/python3.12/dist-packages (from accelerate==1.3.0->linktransformer==0.1.17) (6.0.2)\n",
            "Requirement already satisfied: huggingface-hub>=0.21.0 in /usr/local/lib/python3.12/dist-packages (from accelerate==1.3.0->linktransformer==0.1.17) (0.34.4)\n",
            "Requirement already satisfied: safetensors>=0.4.3 in /usr/local/lib/python3.12/dist-packages (from accelerate==1.3.0->linktransformer==0.1.17) (0.6.2)\n",
            "Requirement already satisfied: filelock in /usr/local/lib/python3.12/dist-packages (from datasets==3.2.0->linktransformer==0.1.17) (3.19.1)\n",
            "Requirement already satisfied: pyarrow>=15.0.0 in /usr/local/lib/python3.12/dist-packages (from datasets==3.2.0->linktransformer==0.1.17) (18.1.0)\n",
            "Requirement already satisfied: dill<0.3.9,>=0.3.0 in /usr/local/lib/python3.12/dist-packages (from datasets==3.2.0->linktransformer==0.1.17) (0.3.8)\n",
            "Requirement already satisfied: requests>=2.32.2 in /usr/local/lib/python3.12/dist-packages (from datasets==3.2.0->linktransformer==0.1.17) (2.32.4)\n",
            "Requirement already satisfied: tqdm>=4.66.3 in /usr/local/lib/python3.12/dist-packages (from datasets==3.2.0->linktransformer==0.1.17) (4.67.1)\n",
            "Requirement already satisfied: xxhash in /usr/local/lib/python3.12/dist-packages (from datasets==3.2.0->linktransformer==0.1.17) (3.5.0)\n",
            "Requirement already satisfied: multiprocess<0.70.17 in /usr/local/lib/python3.12/dist-packages (from datasets==3.2.0->linktransformer==0.1.17) (0.70.16)\n",
            "Collecting fsspec<=2024.9.0,>=2023.1.0 (from fsspec[http]<=2024.9.0,>=2023.1.0->datasets==3.2.0->linktransformer==0.1.17)\n",
            "  Downloading fsspec-2024.9.0-py3-none-any.whl.metadata (11 kB)\n",
            "Requirement already satisfied: aiohttp in /usr/local/lib/python3.12/dist-packages (from datasets==3.2.0->linktransformer==0.1.17) (3.12.15)\n",
            "Collecting cython<3,>=0.27 (from hdbscan==0.8.36->linktransformer==0.1.17)\n",
            "  Using cached Cython-0.29.37-cp312-cp312-manylinux_2_17_x86_64.manylinux2014_x86_64.manylinux_2_28_x86_64.whl.metadata (3.1 kB)\n",
            "Requirement already satisfied: scipy>=1.0 in /usr/local/lib/python3.12/dist-packages (from hdbscan==0.8.36->linktransformer==0.1.17) (1.16.1)\n",
            "Requirement already satisfied: joblib>=1.0 in /usr/local/lib/python3.12/dist-packages (from hdbscan==0.8.36->linktransformer==0.1.17) (1.5.2)\n",
            "Requirement already satisfied: anyio in /usr/local/lib/python3.12/dist-packages (from httpx==0.27.2->linktransformer==0.1.17) (4.10.0)\n",
            "Requirement already satisfied: certifi in /usr/local/lib/python3.12/dist-packages (from httpx==0.27.2->linktransformer==0.1.17) (2025.8.3)\n",
            "Requirement already satisfied: httpcore==1.* in /usr/local/lib/python3.12/dist-packages (from httpx==0.27.2->linktransformer==0.1.17) (1.0.9)\n",
            "Requirement already satisfied: idna in /usr/local/lib/python3.12/dist-packages (from httpx==0.27.2->linktransformer==0.1.17) (3.10)\n",
            "Requirement already satisfied: sniffio in /usr/local/lib/python3.12/dist-packages (from httpx==0.27.2->linktransformer==0.1.17) (1.3.1)\n",
            "Requirement already satisfied: distro<2,>=1.7.0 in /usr/local/lib/python3.12/dist-packages (from openai==1.30.4->linktransformer==0.1.17) (1.9.0)\n",
            "Requirement already satisfied: pydantic<3,>=1.9.0 in /usr/local/lib/python3.12/dist-packages (from openai==1.30.4->linktransformer==0.1.17) (2.11.7)\n",
            "Requirement already satisfied: typing-extensions<5,>=4.7 in /usr/local/lib/python3.12/dist-packages (from openai==1.30.4->linktransformer==0.1.17) (4.15.0)\n",
            "Requirement already satisfied: et-xmlfile in /usr/local/lib/python3.12/dist-packages (from openpyxl==3.1.2->linktransformer==0.1.17) (2.0.0)\n",
            "Requirement already satisfied: python-dateutil>=2.8.2 in /usr/local/lib/python3.12/dist-packages (from pandas==2.2.3->linktransformer==0.1.17) (2.9.0.post0)\n",
            "Requirement already satisfied: pytz>=2020.1 in /usr/local/lib/python3.12/dist-packages (from pandas==2.2.3->linktransformer==0.1.17) (2025.2)\n",
            "Requirement already satisfied: tzdata>=2022.7 in /usr/local/lib/python3.12/dist-packages (from pandas==2.2.3->linktransformer==0.1.17) (2025.2)\n",
            "Requirement already satisfied: threadpoolctl>=2.0.0 in /usr/local/lib/python3.12/dist-packages (from scikit-learn==1.3.2->linktransformer==0.1.17) (3.6.0)\n",
            "Requirement already satisfied: nltk in /usr/local/lib/python3.12/dist-packages (from sentence-transformers==2.3.1->linktransformer==0.1.17) (3.9.1)\n",
            "Requirement already satisfied: sentencepiece in /usr/local/lib/python3.12/dist-packages (from sentence-transformers==2.3.1->linktransformer==0.1.17) (0.2.1)\n",
            "Requirement already satisfied: Pillow in /usr/local/lib/python3.12/dist-packages (from sentence-transformers==2.3.1->linktransformer==0.1.17) (11.3.0)\n",
            "Requirement already satisfied: jinja2 in /usr/local/lib/python3.12/dist-packages (from torch==2.5.1->linktransformer==0.1.17) (3.1.6)\n",
            "Collecting nvidia-cuda-nvrtc-cu12==12.4.127 (from torch==2.5.1->linktransformer==0.1.17)\n",
            "  Downloading nvidia_cuda_nvrtc_cu12-12.4.127-py3-none-manylinux2014_x86_64.whl.metadata (1.5 kB)\n",
            "Collecting nvidia-cuda-runtime-cu12==12.4.127 (from torch==2.5.1->linktransformer==0.1.17)\n",
            "  Downloading nvidia_cuda_runtime_cu12-12.4.127-py3-none-manylinux2014_x86_64.whl.metadata (1.5 kB)\n",
            "Collecting nvidia-cuda-cupti-cu12==12.4.127 (from torch==2.5.1->linktransformer==0.1.17)\n",
            "  Downloading nvidia_cuda_cupti_cu12-12.4.127-py3-none-manylinux2014_x86_64.whl.metadata (1.6 kB)\n",
            "Collecting nvidia-cudnn-cu12==9.1.0.70 (from torch==2.5.1->linktransformer==0.1.17)\n",
            "  Downloading nvidia_cudnn_cu12-9.1.0.70-py3-none-manylinux2014_x86_64.whl.metadata (1.6 kB)\n",
            "Collecting nvidia-cublas-cu12==12.4.5.8 (from torch==2.5.1->linktransformer==0.1.17)\n",
            "  Downloading nvidia_cublas_cu12-12.4.5.8-py3-none-manylinux2014_x86_64.whl.metadata (1.5 kB)\n",
            "Collecting nvidia-cufft-cu12==11.2.1.3 (from torch==2.5.1->linktransformer==0.1.17)\n",
            "  Downloading nvidia_cufft_cu12-11.2.1.3-py3-none-manylinux2014_x86_64.whl.metadata (1.5 kB)\n",
            "Collecting nvidia-curand-cu12==10.3.5.147 (from torch==2.5.1->linktransformer==0.1.17)\n",
            "  Downloading nvidia_curand_cu12-10.3.5.147-py3-none-manylinux2014_x86_64.whl.metadata (1.5 kB)\n",
            "Collecting nvidia-cusolver-cu12==11.6.1.9 (from torch==2.5.1->linktransformer==0.1.17)\n",
            "  Downloading nvidia_cusolver_cu12-11.6.1.9-py3-none-manylinux2014_x86_64.whl.metadata (1.6 kB)\n",
            "Collecting nvidia-cusparse-cu12==12.3.1.170 (from torch==2.5.1->linktransformer==0.1.17)\n",
            "  Downloading nvidia_cusparse_cu12-12.3.1.170-py3-none-manylinux2014_x86_64.whl.metadata (1.6 kB)\n",
            "Collecting nvidia-nccl-cu12==2.21.5 (from torch==2.5.1->linktransformer==0.1.17)\n",
            "  Downloading nvidia_nccl_cu12-2.21.5-py3-none-manylinux2014_x86_64.whl.metadata (1.8 kB)\n",
            "Collecting nvidia-nvtx-cu12==12.4.127 (from torch==2.5.1->linktransformer==0.1.17)\n",
            "  Downloading nvidia_nvtx_cu12-12.4.127-py3-none-manylinux2014_x86_64.whl.metadata (1.7 kB)\n",
            "Collecting nvidia-nvjitlink-cu12==12.4.127 (from torch==2.5.1->linktransformer==0.1.17)\n",
            "  Downloading nvidia_nvjitlink_cu12-12.4.127-py3-none-manylinux2014_x86_64.whl.metadata (1.5 kB)\n",
            "Collecting triton==3.1.0 (from torch==2.5.1->linktransformer==0.1.17)\n",
            "  Downloading triton-3.1.0-cp312-cp312-manylinux_2_17_x86_64.manylinux2014_x86_64.whl.metadata (1.3 kB)\n",
            "Requirement already satisfied: setuptools in /usr/local/lib/python3.12/dist-packages (from torch==2.5.1->linktransformer==0.1.17) (72.2.0)\n",
            "Collecting sympy==1.13.1 (from torch==2.5.1->linktransformer==0.1.17)\n",
            "  Downloading sympy-1.13.1-py3-none-any.whl.metadata (12 kB)\n",
            "Requirement already satisfied: regex!=2019.12.17 in /usr/local/lib/python3.12/dist-packages (from transformers==4.48.1->linktransformer==0.1.17) (2024.11.6)\n",
            "Collecting tokenizers<0.22,>=0.21 (from transformers==4.48.1->linktransformer==0.1.17)\n",
            "  Downloading tokenizers-0.21.4-cp39-abi3-manylinux_2_17_x86_64.manylinux2014_x86_64.whl.metadata (6.7 kB)\n",
            "Requirement already satisfied: click!=8.0.0,>=7.1 in /usr/local/lib/python3.12/dist-packages (from wandb==0.17.0->linktransformer==0.1.17) (8.2.1)\n",
            "Collecting docker-pycreds>=0.4.0 (from wandb==0.17.0->linktransformer==0.1.17)\n",
            "  Downloading docker_pycreds-0.4.0-py2.py3-none-any.whl.metadata (1.8 kB)\n",
            "Requirement already satisfied: gitpython!=3.1.29,>=1.0.0 in /usr/local/lib/python3.12/dist-packages (from wandb==0.17.0->linktransformer==0.1.17) (3.1.45)\n",
            "Requirement already satisfied: platformdirs in /usr/local/lib/python3.12/dist-packages (from wandb==0.17.0->linktransformer==0.1.17) (4.4.0)\n",
            "Collecting protobuf!=4.21.0,<5,>=3.19.0 (from wandb==0.17.0->linktransformer==0.1.17)\n",
            "  Downloading protobuf-4.25.8-cp37-abi3-manylinux2014_x86_64.whl.metadata (541 bytes)\n",
            "Requirement already satisfied: sentry-sdk>=1.0.0 in /usr/local/lib/python3.12/dist-packages (from wandb==0.17.0->linktransformer==0.1.17) (2.35.2)\n",
            "Collecting setproctitle (from wandb==0.17.0->linktransformer==0.1.17)\n",
            "  Downloading setproctitle-1.3.7-cp312-cp312-manylinux1_x86_64.manylinux_2_28_x86_64.manylinux_2_5_x86_64.whl.metadata (10 kB)\n",
            "Requirement already satisfied: h11>=0.16 in /usr/local/lib/python3.12/dist-packages (from httpcore==1.*->httpx==0.27.2->linktransformer==0.1.17) (0.16.0)\n",
            "Requirement already satisfied: mpmath<1.4,>=1.1.0 in /usr/local/lib/python3.12/dist-packages (from sympy==1.13.1->torch==2.5.1->linktransformer==0.1.17) (1.3.0)\n",
            "Requirement already satisfied: six>=1.4.0 in /usr/local/lib/python3.12/dist-packages (from docker-pycreds>=0.4.0->wandb==0.17.0->linktransformer==0.1.17) (1.17.0)\n",
            "Requirement already satisfied: aiohappyeyeballs>=2.5.0 in /usr/local/lib/python3.12/dist-packages (from aiohttp->datasets==3.2.0->linktransformer==0.1.17) (2.6.1)\n",
            "Requirement already satisfied: aiosignal>=1.4.0 in /usr/local/lib/python3.12/dist-packages (from aiohttp->datasets==3.2.0->linktransformer==0.1.17) (1.4.0)\n",
            "Requirement already satisfied: attrs>=17.3.0 in /usr/local/lib/python3.12/dist-packages (from aiohttp->datasets==3.2.0->linktransformer==0.1.17) (25.3.0)\n",
            "Requirement already satisfied: frozenlist>=1.1.1 in /usr/local/lib/python3.12/dist-packages (from aiohttp->datasets==3.2.0->linktransformer==0.1.17) (1.7.0)\n",
            "Requirement already satisfied: multidict<7.0,>=4.5 in /usr/local/lib/python3.12/dist-packages (from aiohttp->datasets==3.2.0->linktransformer==0.1.17) (6.6.4)\n",
            "Requirement already satisfied: propcache>=0.2.0 in /usr/local/lib/python3.12/dist-packages (from aiohttp->datasets==3.2.0->linktransformer==0.1.17) (0.3.2)\n",
            "Requirement already satisfied: yarl<2.0,>=1.17.0 in /usr/local/lib/python3.12/dist-packages (from aiohttp->datasets==3.2.0->linktransformer==0.1.17) (1.20.1)\n",
            "Requirement already satisfied: gitdb<5,>=4.0.1 in /usr/local/lib/python3.12/dist-packages (from gitpython!=3.1.29,>=1.0.0->wandb==0.17.0->linktransformer==0.1.17) (4.0.12)\n",
            "Requirement already satisfied: hf-xet<2.0.0,>=1.1.3 in /usr/local/lib/python3.12/dist-packages (from huggingface-hub>=0.21.0->accelerate==1.3.0->linktransformer==0.1.17) (1.1.9)\n",
            "Requirement already satisfied: annotated-types>=0.6.0 in /usr/local/lib/python3.12/dist-packages (from pydantic<3,>=1.9.0->openai==1.30.4->linktransformer==0.1.17) (0.7.0)\n",
            "Requirement already satisfied: pydantic-core==2.33.2 in /usr/local/lib/python3.12/dist-packages (from pydantic<3,>=1.9.0->openai==1.30.4->linktransformer==0.1.17) (2.33.2)\n",
            "Requirement already satisfied: typing-inspection>=0.4.0 in /usr/local/lib/python3.12/dist-packages (from pydantic<3,>=1.9.0->openai==1.30.4->linktransformer==0.1.17) (0.4.1)\n",
            "Requirement already satisfied: charset_normalizer<4,>=2 in /usr/local/lib/python3.12/dist-packages (from requests>=2.32.2->datasets==3.2.0->linktransformer==0.1.17) (3.4.3)\n",
            "Requirement already satisfied: urllib3<3,>=1.21.1 in /usr/local/lib/python3.12/dist-packages (from requests>=2.32.2->datasets==3.2.0->linktransformer==0.1.17) (2.5.0)\n",
            "Requirement already satisfied: MarkupSafe>=2.0 in /usr/local/lib/python3.12/dist-packages (from jinja2->torch==2.5.1->linktransformer==0.1.17) (3.0.2)\n",
            "Requirement already satisfied: smmap<6,>=3.0.1 in /usr/local/lib/python3.12/dist-packages (from gitdb<5,>=4.0.1->gitpython!=3.1.29,>=1.0.0->wandb==0.17.0->linktransformer==0.1.17) (5.0.2)\n",
            "Downloading accelerate-1.3.0-py3-none-any.whl (336 kB)\n",
            "\u001b[2K   \u001b[90m━━━━━━━━━━━━━━━━━━━━━━━━━━━━━━━━━━━━━━━━\u001b[0m \u001b[32m336.6/336.6 kB\u001b[0m \u001b[31m28.9 MB/s\u001b[0m eta \u001b[36m0:00:00\u001b[0m\n",
            "\u001b[?25hDownloading datasets-3.2.0-py3-none-any.whl (480 kB)\n",
            "\u001b[2K   \u001b[90m━━━━━━━━━━━━━━━━━━━━━━━━━━━━━━━━━━━━━━━━\u001b[0m \u001b[32m480.6/480.6 kB\u001b[0m \u001b[31m37.6 MB/s\u001b[0m eta \u001b[36m0:00:00\u001b[0m\n",
            "\u001b[?25hDownloading evaluate-0.4.3-py3-none-any.whl (84 kB)\n",
            "\u001b[2K   \u001b[90m━━━━━━━━━━━━━━━━━━━━━━━━━━━━━━━━━━━━━━━━\u001b[0m \u001b[32m84.0/84.0 kB\u001b[0m \u001b[31m8.4 MB/s\u001b[0m eta \u001b[36m0:00:00\u001b[0m\n",
            "\u001b[?25hDownloading faiss_cpu-1.8.0-cp312-cp312-manylinux_2_17_x86_64.manylinux2014_x86_64.whl (27.0 MB)\n",
            "\u001b[2K   \u001b[90m━━━━━━━━━━━━━━━━━━━━━━━━━━━━━━━━━━━━━━━━\u001b[0m \u001b[32m27.0/27.0 MB\u001b[0m \u001b[31m60.6 MB/s\u001b[0m eta \u001b[36m0:00:00\u001b[0m\n",
            "\u001b[?25hDownloading httpx-0.27.2-py3-none-any.whl (76 kB)\n",
            "\u001b[2K   \u001b[90m━━━━━━━━━━━━━━━━━━━━━━━━━━━━━━━━━━━━━━━━\u001b[0m \u001b[32m76.4/76.4 kB\u001b[0m \u001b[31m7.5 MB/s\u001b[0m eta \u001b[36m0:00:00\u001b[0m\n",
            "\u001b[?25hDownloading networkx-3.1-py3-none-any.whl (2.1 MB)\n",
            "\u001b[2K   \u001b[90m━━━━━━━━━━━━━━━━━━━━━━━━━━━━━━━━━━━━━━━━\u001b[0m \u001b[32m2.1/2.1 MB\u001b[0m \u001b[31m74.6 MB/s\u001b[0m eta \u001b[36m0:00:00\u001b[0m\n",
            "\u001b[?25hDownloading openai-1.30.4-py3-none-any.whl (320 kB)\n",
            "\u001b[2K   \u001b[90m━━━━━━━━━━━━━━━━━━━━━━━━━━━━━━━━━━━━━━━━\u001b[0m \u001b[32m320.6/320.6 kB\u001b[0m \u001b[31m28.2 MB/s\u001b[0m eta \u001b[36m0:00:00\u001b[0m\n",
            "\u001b[?25hDownloading openpyxl-3.1.2-py2.py3-none-any.whl (249 kB)\n",
            "\u001b[2K   \u001b[90m━━━━━━━━━━━━━━━━━━━━━━━━━━━━━━━━━━━━━━━━\u001b[0m \u001b[32m250.0/250.0 kB\u001b[0m \u001b[31m22.6 MB/s\u001b[0m eta \u001b[36m0:00:00\u001b[0m\n",
            "\u001b[?25hDownloading pandas-2.2.3-cp312-cp312-manylinux_2_17_x86_64.manylinux2014_x86_64.whl (12.7 MB)\n",
            "\u001b[2K   \u001b[90m━━━━━━━━━━━━━━━━━━━━━━━━━━━━━━━━━━━━━━━━\u001b[0m \u001b[32m12.7/12.7 MB\u001b[0m \u001b[31m35.9 MB/s\u001b[0m eta \u001b[36m0:00:00\u001b[0m\n",
            "\u001b[?25hDownloading scikit_learn-1.3.2-cp312-cp312-manylinux_2_17_x86_64.manylinux2014_x86_64.whl (10.8 MB)\n",
            "\u001b[2K   \u001b[90m━━━━━━━━━━━━━━━━━━━━━━━━━━━━━━━━━━━━━━━━\u001b[0m \u001b[32m10.8/10.8 MB\u001b[0m \u001b[31m65.0 MB/s\u001b[0m eta \u001b[36m0:00:00\u001b[0m\n",
            "\u001b[?25hDownloading sentence_transformers-2.3.1-py3-none-any.whl (132 kB)\n",
            "\u001b[2K   \u001b[90m━━━━━━━━━━━━━━━━━━━━━━━━━━━━━━━━━━━━━━━━\u001b[0m \u001b[32m132.8/132.8 kB\u001b[0m \u001b[31m12.5 MB/s\u001b[0m eta \u001b[36m0:00:00\u001b[0m\n",
            "\u001b[?25hDownloading torch-2.5.1-cp312-cp312-manylinux1_x86_64.whl (906.4 MB)\n",
            "\u001b[2K   \u001b[90m━━━━━━━━━━━━━━━━━━━━━━━━━━━━━━━━━━━━━━━━\u001b[0m \u001b[32m906.4/906.4 MB\u001b[0m \u001b[31m1.2 MB/s\u001b[0m eta \u001b[36m0:00:00\u001b[0m\n",
            "\u001b[?25hDownloading transformers-4.48.1-py3-none-any.whl (9.7 MB)\n",
            "\u001b[2K   \u001b[90m━━━━━━━━━━━━━━━━━━━━━━━━━━━━━━━━━━━━━━━━\u001b[0m \u001b[32m9.7/9.7 MB\u001b[0m \u001b[31m119.1 MB/s\u001b[0m eta \u001b[36m0:00:00\u001b[0m\n",
            "\u001b[?25hDownloading wandb-0.17.0-py3-none-manylinux_2_5_x86_64.manylinux1_x86_64.manylinux_2_17_x86_64.manylinux2014_x86_64.whl (6.7 MB)\n",
            "\u001b[2K   \u001b[90m━━━━━━━━━━━━━━━━━━━━━━━━━━━━━━━━━━━━━━━━\u001b[0m \u001b[32m6.7/6.7 MB\u001b[0m \u001b[31m10.5 MB/s\u001b[0m eta \u001b[36m0:00:00\u001b[0m\n",
            "\u001b[?25hDownloading nvidia_cublas_cu12-12.4.5.8-py3-none-manylinux2014_x86_64.whl (363.4 MB)\n",
            "\u001b[2K   \u001b[90m━━━━━━━━━━━━━━━━━━━━━━━━━━━━━━━━━━━━━━━━\u001b[0m \u001b[32m363.4/363.4 MB\u001b[0m \u001b[31m1.5 MB/s\u001b[0m eta \u001b[36m0:00:00\u001b[0m\n",
            "\u001b[?25hDownloading nvidia_cuda_cupti_cu12-12.4.127-py3-none-manylinux2014_x86_64.whl (13.8 MB)\n",
            "\u001b[2K   \u001b[90m━━━━━━━━━━━━━━━━━━━━━━━━━━━━━━━━━━━━━━━━\u001b[0m \u001b[32m13.8/13.8 MB\u001b[0m \u001b[31m119.1 MB/s\u001b[0m eta \u001b[36m0:00:00\u001b[0m\n",
            "\u001b[?25hDownloading nvidia_cuda_nvrtc_cu12-12.4.127-py3-none-manylinux2014_x86_64.whl (24.6 MB)\n",
            "\u001b[2K   \u001b[90m━━━━━━━━━━━━━━━━━━━━━━━━━━━━━━━━━━━━━━━━\u001b[0m \u001b[32m24.6/24.6 MB\u001b[0m \u001b[31m67.1 MB/s\u001b[0m eta \u001b[36m0:00:00\u001b[0m\n",
            "\u001b[?25hDownloading nvidia_cuda_runtime_cu12-12.4.127-py3-none-manylinux2014_x86_64.whl (883 kB)\n",
            "\u001b[2K   \u001b[90m━━━━━━━━━━━━━━━━━━━━━━━━━━━━━━━━━━━━━━━━\u001b[0m \u001b[32m883.7/883.7 kB\u001b[0m \u001b[31m66.5 MB/s\u001b[0m eta \u001b[36m0:00:00\u001b[0m\n",
            "\u001b[?25hDownloading nvidia_cudnn_cu12-9.1.0.70-py3-none-manylinux2014_x86_64.whl (664.8 MB)\n",
            "\u001b[2K   \u001b[90m━━━━━━━━━━━━━━━━━━━━━━━━━━━━━━━━━━━━━━━━\u001b[0m \u001b[32m664.8/664.8 MB\u001b[0m \u001b[31m3.0 MB/s\u001b[0m eta \u001b[36m0:00:00\u001b[0m\n",
            "\u001b[?25hDownloading nvidia_cufft_cu12-11.2.1.3-py3-none-manylinux2014_x86_64.whl (211.5 MB)\n",
            "\u001b[2K   \u001b[90m━━━━━━━━━━━━━━━━━━━━━━━━━━━━━━━━━━━━━━━━\u001b[0m \u001b[32m211.5/211.5 MB\u001b[0m \u001b[31m7.8 MB/s\u001b[0m eta \u001b[36m0:00:00\u001b[0m\n",
            "\u001b[?25hDownloading nvidia_curand_cu12-10.3.5.147-py3-none-manylinux2014_x86_64.whl (56.3 MB)\n",
            "\u001b[2K   \u001b[90m━━━━━━━━━━━━━━━━━━━━━━━━━━━━━━━━━━━━━━━━\u001b[0m \u001b[32m56.3/56.3 MB\u001b[0m \u001b[31m12.5 MB/s\u001b[0m eta \u001b[36m0:00:00\u001b[0m\n",
            "\u001b[?25hDownloading nvidia_cusolver_cu12-11.6.1.9-py3-none-manylinux2014_x86_64.whl (127.9 MB)\n",
            "\u001b[2K   \u001b[90m━━━━━━━━━━━━━━━━━━━━━━━━━━━━━━━━━━━━━━━━\u001b[0m \u001b[32m127.9/127.9 MB\u001b[0m \u001b[31m10.7 MB/s\u001b[0m eta \u001b[36m0:00:00\u001b[0m\n",
            "\u001b[?25hDownloading nvidia_cusparse_cu12-12.3.1.170-py3-none-manylinux2014_x86_64.whl (207.5 MB)\n",
            "\u001b[2K   \u001b[90m━━━━━━━━━━━━━━━━━━━━━━━━━━━━━━━━━━━━━━━━\u001b[0m \u001b[32m207.5/207.5 MB\u001b[0m \u001b[31m5.9 MB/s\u001b[0m eta \u001b[36m0:00:00\u001b[0m\n",
            "\u001b[?25hDownloading nvidia_nccl_cu12-2.21.5-py3-none-manylinux2014_x86_64.whl (188.7 MB)\n",
            "\u001b[2K   \u001b[90m━━━━━━━━━━━━━━━━━━━━━━━━━━━━━━━━━━━━━━━━\u001b[0m \u001b[32m188.7/188.7 MB\u001b[0m \u001b[31m4.9 MB/s\u001b[0m eta \u001b[36m0:00:00\u001b[0m\n",
            "\u001b[?25hDownloading nvidia_nvjitlink_cu12-12.4.127-py3-none-manylinux2014_x86_64.whl (21.1 MB)\n",
            "\u001b[2K   \u001b[90m━━━━━━━━━━━━━━━━━━━━━━━━━━━━━━━━━━━━━━━━\u001b[0m \u001b[32m21.1/21.1 MB\u001b[0m \u001b[31m97.4 MB/s\u001b[0m eta \u001b[36m0:00:00\u001b[0m\n",
            "\u001b[?25hDownloading nvidia_nvtx_cu12-12.4.127-py3-none-manylinux2014_x86_64.whl (99 kB)\n",
            "\u001b[2K   \u001b[90m━━━━━━━━━━━━━━━━━━━━━━━━━━━━━━━━━━━━━━━━\u001b[0m \u001b[32m99.1/99.1 kB\u001b[0m \u001b[31m10.3 MB/s\u001b[0m eta \u001b[36m0:00:00\u001b[0m\n",
            "\u001b[?25hDownloading sympy-1.13.1-py3-none-any.whl (6.2 MB)\n",
            "\u001b[2K   \u001b[90m━━━━━━━━━━━━━━━━━━━━━━━━━━━━━━━━━━━━━━━━\u001b[0m \u001b[32m6.2/6.2 MB\u001b[0m \u001b[31m118.2 MB/s\u001b[0m eta \u001b[36m0:00:00\u001b[0m\n",
            "\u001b[?25hDownloading triton-3.1.0-cp312-cp312-manylinux_2_17_x86_64.manylinux2014_x86_64.whl (209.6 MB)\n",
            "\u001b[2K   \u001b[90m━━━━━━━━━━━━━━━━━━━━━━━━━━━━━━━━━━━━━━━━\u001b[0m \u001b[32m209.6/209.6 MB\u001b[0m \u001b[31m5.6 MB/s\u001b[0m eta \u001b[36m0:00:00\u001b[0m\n",
            "\u001b[?25hUsing cached Cython-0.29.37-cp312-cp312-manylinux_2_17_x86_64.manylinux2014_x86_64.manylinux_2_28_x86_64.whl (2.0 MB)\n",
            "Downloading docker_pycreds-0.4.0-py2.py3-none-any.whl (9.0 kB)\n",
            "Downloading fsspec-2024.9.0-py3-none-any.whl (179 kB)\n",
            "\u001b[2K   \u001b[90m━━━━━━━━━━━━━━━━━━━━━━━━━━━━━━━━━━━━━━━━\u001b[0m \u001b[32m179.3/179.3 kB\u001b[0m \u001b[31m19.0 MB/s\u001b[0m eta \u001b[36m0:00:00\u001b[0m\n",
            "\u001b[?25hDownloading protobuf-4.25.8-cp37-abi3-manylinux2014_x86_64.whl (294 kB)\n",
            "\u001b[2K   \u001b[90m━━━━━━━━━━━━━━━━━━━━━━━━━━━━━━━━━━━━━━━━\u001b[0m \u001b[32m294.9/294.9 kB\u001b[0m \u001b[31m25.2 MB/s\u001b[0m eta \u001b[36m0:00:00\u001b[0m\n",
            "\u001b[?25hDownloading tokenizers-0.21.4-cp39-abi3-manylinux_2_17_x86_64.manylinux2014_x86_64.whl (3.1 MB)\n",
            "\u001b[2K   \u001b[90m━━━━━━━━━━━━━━━━━━━━━━━━━━━━━━━━━━━━━━━━\u001b[0m \u001b[32m3.1/3.1 MB\u001b[0m \u001b[31m104.4 MB/s\u001b[0m eta \u001b[36m0:00:00\u001b[0m\n",
            "\u001b[?25hDownloading setproctitle-1.3.7-cp312-cp312-manylinux1_x86_64.manylinux_2_28_x86_64.manylinux_2_5_x86_64.whl (32 kB)\n",
            "Building wheels for collected packages: hdbscan\n",
            "  Building wheel for hdbscan (pyproject.toml) ... \u001b[?25l\u001b[?25hdone\n",
            "  Created wheel for hdbscan: filename=hdbscan-0.8.36-cp312-cp312-linux_x86_64.whl size=3408004 sha256=823853c09f9ed28eab9edd94564534da4339c1a8228bbc4c70f20e1bd0060fec\n",
            "  Stored in directory: /root/.cache/pip/wheels/26/08/49/7cffc175794fbce688f1a56ec53087eb17ed80b57f7c803e0f\n",
            "Successfully built hdbscan\n",
            "Installing collected packages: triton, sympy, setproctitle, protobuf, openpyxl, nvidia-nvtx-cu12, nvidia-nvjitlink-cu12, nvidia-nccl-cu12, nvidia-curand-cu12, nvidia-cufft-cu12, nvidia-cuda-runtime-cu12, nvidia-cuda-nvrtc-cu12, nvidia-cuda-cupti-cu12, nvidia-cublas-cu12, networkx, fsspec, faiss-cpu, docker-pycreds, cython, scikit-learn, pandas, nvidia-cusparse-cu12, nvidia-cudnn-cu12, httpx, wandb, tokenizers, openai, nvidia-cusolver-cu12, hdbscan, transformers, torch, datasets, sentence-transformers, evaluate, accelerate, linktransformer\n",
            "  Attempting uninstall: triton\n",
            "    Found existing installation: triton 3.4.0\n",
            "    Uninstalling triton-3.4.0:\n",
            "      Successfully uninstalled triton-3.4.0\n",
            "  Attempting uninstall: sympy\n",
            "    Found existing installation: sympy 1.13.3\n",
            "    Uninstalling sympy-1.13.3:\n",
            "      Successfully uninstalled sympy-1.13.3\n",
            "  Attempting uninstall: protobuf\n",
            "    Found existing installation: protobuf 5.29.5\n",
            "    Uninstalling protobuf-5.29.5:\n",
            "      Successfully uninstalled protobuf-5.29.5\n",
            "  Attempting uninstall: openpyxl\n",
            "    Found existing installation: openpyxl 3.1.5\n",
            "    Uninstalling openpyxl-3.1.5:\n",
            "      Successfully uninstalled openpyxl-3.1.5\n",
            "  Attempting uninstall: nvidia-nvtx-cu12\n",
            "    Found existing installation: nvidia-nvtx-cu12 12.6.77\n",
            "    Uninstalling nvidia-nvtx-cu12-12.6.77:\n",
            "      Successfully uninstalled nvidia-nvtx-cu12-12.6.77\n",
            "  Attempting uninstall: nvidia-nvjitlink-cu12\n",
            "    Found existing installation: nvidia-nvjitlink-cu12 12.6.85\n",
            "    Uninstalling nvidia-nvjitlink-cu12-12.6.85:\n",
            "      Successfully uninstalled nvidia-nvjitlink-cu12-12.6.85\n",
            "  Attempting uninstall: nvidia-nccl-cu12\n",
            "    Found existing installation: nvidia-nccl-cu12 2.27.3\n",
            "    Uninstalling nvidia-nccl-cu12-2.27.3:\n",
            "      Successfully uninstalled nvidia-nccl-cu12-2.27.3\n",
            "  Attempting uninstall: nvidia-curand-cu12\n",
            "    Found existing installation: nvidia-curand-cu12 10.3.7.77\n",
            "    Uninstalling nvidia-curand-cu12-10.3.7.77:\n",
            "      Successfully uninstalled nvidia-curand-cu12-10.3.7.77\n",
            "  Attempting uninstall: nvidia-cufft-cu12\n",
            "    Found existing installation: nvidia-cufft-cu12 11.3.0.4\n",
            "    Uninstalling nvidia-cufft-cu12-11.3.0.4:\n",
            "      Successfully uninstalled nvidia-cufft-cu12-11.3.0.4\n",
            "  Attempting uninstall: nvidia-cuda-runtime-cu12\n",
            "    Found existing installation: nvidia-cuda-runtime-cu12 12.6.77\n",
            "    Uninstalling nvidia-cuda-runtime-cu12-12.6.77:\n",
            "      Successfully uninstalled nvidia-cuda-runtime-cu12-12.6.77\n",
            "  Attempting uninstall: nvidia-cuda-nvrtc-cu12\n",
            "    Found existing installation: nvidia-cuda-nvrtc-cu12 12.6.77\n",
            "    Uninstalling nvidia-cuda-nvrtc-cu12-12.6.77:\n",
            "      Successfully uninstalled nvidia-cuda-nvrtc-cu12-12.6.77\n",
            "  Attempting uninstall: nvidia-cuda-cupti-cu12\n",
            "    Found existing installation: nvidia-cuda-cupti-cu12 12.6.80\n",
            "    Uninstalling nvidia-cuda-cupti-cu12-12.6.80:\n",
            "      Successfully uninstalled nvidia-cuda-cupti-cu12-12.6.80\n",
            "  Attempting uninstall: nvidia-cublas-cu12\n",
            "    Found existing installation: nvidia-cublas-cu12 12.6.4.1\n",
            "    Uninstalling nvidia-cublas-cu12-12.6.4.1:\n",
            "      Successfully uninstalled nvidia-cublas-cu12-12.6.4.1\n",
            "  Attempting uninstall: networkx\n",
            "    Found existing installation: networkx 3.5\n",
            "    Uninstalling networkx-3.5:\n",
            "      Successfully uninstalled networkx-3.5\n",
            "  Attempting uninstall: fsspec\n",
            "    Found existing installation: fsspec 2025.3.0\n",
            "    Uninstalling fsspec-2025.3.0:\n",
            "      Successfully uninstalled fsspec-2025.3.0\n",
            "  Attempting uninstall: cython\n",
            "    Found existing installation: Cython 3.0.12\n",
            "    Uninstalling Cython-3.0.12:\n",
            "      Successfully uninstalled Cython-3.0.12\n",
            "  Attempting uninstall: scikit-learn\n",
            "    Found existing installation: scikit-learn 1.6.1\n",
            "    Uninstalling scikit-learn-1.6.1:\n",
            "      Successfully uninstalled scikit-learn-1.6.1\n",
            "  Attempting uninstall: pandas\n",
            "    Found existing installation: pandas 2.2.2\n",
            "    Uninstalling pandas-2.2.2:\n",
            "      Successfully uninstalled pandas-2.2.2\n",
            "  Attempting uninstall: nvidia-cusparse-cu12\n",
            "    Found existing installation: nvidia-cusparse-cu12 12.5.4.2\n",
            "    Uninstalling nvidia-cusparse-cu12-12.5.4.2:\n",
            "      Successfully uninstalled nvidia-cusparse-cu12-12.5.4.2\n",
            "  Attempting uninstall: nvidia-cudnn-cu12\n",
            "    Found existing installation: nvidia-cudnn-cu12 9.10.2.21\n",
            "    Uninstalling nvidia-cudnn-cu12-9.10.2.21:\n",
            "      Successfully uninstalled nvidia-cudnn-cu12-9.10.2.21\n",
            "  Attempting uninstall: httpx\n",
            "    Found existing installation: httpx 0.28.1\n",
            "    Uninstalling httpx-0.28.1:\n",
            "      Successfully uninstalled httpx-0.28.1\n",
            "  Attempting uninstall: wandb\n",
            "    Found existing installation: wandb 0.21.3\n",
            "    Uninstalling wandb-0.21.3:\n",
            "      Successfully uninstalled wandb-0.21.3\n",
            "  Attempting uninstall: tokenizers\n",
            "    Found existing installation: tokenizers 0.22.0\n",
            "    Uninstalling tokenizers-0.22.0:\n",
            "      Successfully uninstalled tokenizers-0.22.0\n",
            "  Attempting uninstall: openai\n",
            "    Found existing installation: openai 1.104.2\n",
            "    Uninstalling openai-1.104.2:\n",
            "      Successfully uninstalled openai-1.104.2\n",
            "  Attempting uninstall: nvidia-cusolver-cu12\n",
            "    Found existing installation: nvidia-cusolver-cu12 11.7.1.2\n",
            "    Uninstalling nvidia-cusolver-cu12-11.7.1.2:\n",
            "      Successfully uninstalled nvidia-cusolver-cu12-11.7.1.2\n",
            "  Attempting uninstall: hdbscan\n",
            "    Found existing installation: hdbscan 0.8.40\n",
            "    Uninstalling hdbscan-0.8.40:\n",
            "      Successfully uninstalled hdbscan-0.8.40\n",
            "  Attempting uninstall: transformers\n",
            "    Found existing installation: transformers 4.56.0\n",
            "    Uninstalling transformers-4.56.0:\n",
            "      Successfully uninstalled transformers-4.56.0\n",
            "  Attempting uninstall: torch\n",
            "    Found existing installation: torch 2.8.0+cu126\n",
            "    Uninstalling torch-2.8.0+cu126:\n",
            "      Successfully uninstalled torch-2.8.0+cu126\n",
            "  Attempting uninstall: datasets\n",
            "    Found existing installation: datasets 4.0.0\n",
            "    Uninstalling datasets-4.0.0:\n",
            "      Successfully uninstalled datasets-4.0.0\n",
            "  Attempting uninstall: sentence-transformers\n",
            "    Found existing installation: sentence-transformers 5.1.0\n",
            "    Uninstalling sentence-transformers-5.1.0:\n",
            "      Successfully uninstalled sentence-transformers-5.1.0\n",
            "  Attempting uninstall: accelerate\n",
            "    Found existing installation: accelerate 1.10.1\n",
            "    Uninstalling accelerate-1.10.1:\n",
            "      Successfully uninstalled accelerate-1.10.1\n",
            "\u001b[31mERROR: pip's dependency resolver does not currently take into account all the packages that are installed. This behaviour is the source of the following dependency conflicts.\n",
            "google-colab 1.0.0 requires pandas==2.2.2, but you have pandas 2.2.3 which is incompatible.\n",
            "torchvision 0.23.0+cu126 requires torch==2.8.0, but you have torch 2.5.1 which is incompatible.\n",
            "gcsfs 2025.3.0 requires fsspec==2025.3.0, but you have fsspec 2024.9.0 which is incompatible.\n",
            "grpcio-status 1.71.2 requires protobuf<6.0dev,>=5.26.1, but you have protobuf 4.25.8 which is incompatible.\n",
            "cuml-cu12 25.6.0 requires scikit-learn>=1.5, but you have scikit-learn 1.3.2 which is incompatible.\n",
            "firebase-admin 6.9.0 requires httpx[http2]==0.28.1, but you have httpx 0.27.2 which is incompatible.\n",
            "ydf 0.13.0 requires protobuf<7.0.0,>=5.29.1, but you have protobuf 4.25.8 which is incompatible.\n",
            "nx-cugraph-cu12 25.6.0 requires networkx>=3.2, but you have networkx 3.1 which is incompatible.\n",
            "imbalanced-learn 0.14.0 requires scikit-learn<2,>=1.4.2, but you have scikit-learn 1.3.2 which is incompatible.\n",
            "google-genai 1.32.0 requires httpx<1.0.0,>=0.28.1, but you have httpx 0.27.2 which is incompatible.\n",
            "umap-learn 0.5.9.post2 requires scikit-learn>=1.6, but you have scikit-learn 1.3.2 which is incompatible.\n",
            "torchaudio 2.8.0+cu126 requires torch==2.8.0, but you have torch 2.5.1 which is incompatible.\u001b[0m\u001b[31m\n",
            "\u001b[0mSuccessfully installed accelerate-1.3.0 cython-0.29.37 datasets-3.2.0 docker-pycreds-0.4.0 evaluate-0.4.3 faiss-cpu-1.8.0 fsspec-2024.9.0 hdbscan-0.8.36 httpx-0.27.2 linktransformer-0.1.17 networkx-3.1 nvidia-cublas-cu12-12.4.5.8 nvidia-cuda-cupti-cu12-12.4.127 nvidia-cuda-nvrtc-cu12-12.4.127 nvidia-cuda-runtime-cu12-12.4.127 nvidia-cudnn-cu12-9.1.0.70 nvidia-cufft-cu12-11.2.1.3 nvidia-curand-cu12-10.3.5.147 nvidia-cusolver-cu12-11.6.1.9 nvidia-cusparse-cu12-12.3.1.170 nvidia-nccl-cu12-2.21.5 nvidia-nvjitlink-cu12-12.4.127 nvidia-nvtx-cu12-12.4.127 openai-1.30.4 openpyxl-3.1.2 pandas-2.2.3 protobuf-4.25.8 scikit-learn-1.3.2 sentence-transformers-2.3.1 setproctitle-1.3.7 sympy-1.13.1 tokenizers-0.21.4 torch-2.5.1 transformers-4.48.1 triton-3.1.0 wandb-0.17.0\n"
          ]
        },
        {
          "output_type": "display_data",
          "data": {
            "application/vnd.colab-display-data+json": {
              "pip_warning": {
                "packages": [
                  "google"
                ]
              },
              "id": "b815a8cedf5b4ad88fb00fd7ff31c333"
            }
          },
          "metadata": {}
        }
      ]
    },
    {
      "cell_type": "code",
      "execution_count": 1,
      "metadata": {
        "colab": {
          "base_uri": "https://localhost:8080/"
        },
        "id": "dy4ltbGCt6MZ",
        "outputId": "fe23f0a9-2997-4b95-d001-c0b2dbff4c85"
      },
      "outputs": [
        {
          "output_type": "stream",
          "name": "stdout",
          "text": [
            "Requirement already satisfied: duckdb in /usr/local/lib/python3.12/dist-packages (1.3.2)\n"
          ]
        }
      ],
      "source": [
        "!pip3 install duckdb"
      ]
    },
    {
      "cell_type": "code",
      "execution_count": null,
      "metadata": {
        "id": "YT1J84O3wCju"
      },
      "outputs": [],
      "source": [
        "!pip3 install lxml"
      ]
    },
    {
      "cell_type": "code",
      "source": [
        "!pip install --upgrade torch torchvision linktransformer scikit-learn"
      ],
      "metadata": {
        "id": "e2RnldERDynw",
        "outputId": "99c2fe5e-ba9b-4dc3-ea8a-63fc433af0af",
        "colab": {
          "base_uri": "https://localhost:8080/"
        }
      },
      "execution_count": 1,
      "outputs": [
        {
          "output_type": "stream",
          "name": "stdout",
          "text": [
            "Requirement already satisfied: torch in /usr/local/lib/python3.12/dist-packages (2.8.0)\n",
            "Requirement already satisfied: torchvision in /usr/local/lib/python3.12/dist-packages (0.23.0+cu126)\n",
            "Requirement already satisfied: linktransformer in /usr/local/lib/python3.12/dist-packages (0.1.17)\n",
            "Requirement already satisfied: scikit-learn in /usr/local/lib/python3.12/dist-packages (1.3.2)\n",
            "Collecting scikit-learn\n",
            "  Downloading scikit_learn-1.7.1-cp312-cp312-manylinux2014_x86_64.manylinux_2_17_x86_64.whl.metadata (11 kB)\n",
            "Requirement already satisfied: filelock in /usr/local/lib/python3.12/dist-packages (from torch) (3.19.1)\n",
            "Requirement already satisfied: typing-extensions>=4.10.0 in /usr/local/lib/python3.12/dist-packages (from torch) (4.15.0)\n",
            "Requirement already satisfied: setuptools in /usr/local/lib/python3.12/dist-packages (from torch) (72.2.0)\n",
            "Requirement already satisfied: sympy>=1.13.3 in /usr/local/lib/python3.12/dist-packages (from torch) (1.14.0)\n",
            "Requirement already satisfied: networkx in /usr/local/lib/python3.12/dist-packages (from torch) (3.1)\n",
            "Requirement already satisfied: jinja2 in /usr/local/lib/python3.12/dist-packages (from torch) (3.1.6)\n",
            "Requirement already satisfied: fsspec in /usr/local/lib/python3.12/dist-packages (from torch) (2024.9.0)\n",
            "Requirement already satisfied: nvidia-cuda-nvrtc-cu12==12.8.93 in /usr/local/lib/python3.12/dist-packages (from torch) (12.8.93)\n",
            "Requirement already satisfied: nvidia-cuda-runtime-cu12==12.8.90 in /usr/local/lib/python3.12/dist-packages (from torch) (12.8.90)\n",
            "Requirement already satisfied: nvidia-cuda-cupti-cu12==12.8.90 in /usr/local/lib/python3.12/dist-packages (from torch) (12.8.90)\n",
            "Requirement already satisfied: nvidia-cudnn-cu12==9.10.2.21 in /usr/local/lib/python3.12/dist-packages (from torch) (9.10.2.21)\n",
            "Requirement already satisfied: nvidia-cublas-cu12==12.8.4.1 in /usr/local/lib/python3.12/dist-packages (from torch) (12.8.4.1)\n",
            "Requirement already satisfied: nvidia-cufft-cu12==11.3.3.83 in /usr/local/lib/python3.12/dist-packages (from torch) (11.3.3.83)\n",
            "Requirement already satisfied: nvidia-curand-cu12==10.3.9.90 in /usr/local/lib/python3.12/dist-packages (from torch) (10.3.9.90)\n",
            "Requirement already satisfied: nvidia-cusolver-cu12==11.7.3.90 in /usr/local/lib/python3.12/dist-packages (from torch) (11.7.3.90)\n",
            "Requirement already satisfied: nvidia-cusparse-cu12==12.5.8.93 in /usr/local/lib/python3.12/dist-packages (from torch) (12.5.8.93)\n",
            "Requirement already satisfied: nvidia-cusparselt-cu12==0.7.1 in /usr/local/lib/python3.12/dist-packages (from torch) (0.7.1)\n",
            "Requirement already satisfied: nvidia-nccl-cu12==2.27.3 in /usr/local/lib/python3.12/dist-packages (from torch) (2.27.3)\n",
            "Requirement already satisfied: nvidia-nvtx-cu12==12.8.90 in /usr/local/lib/python3.12/dist-packages (from torch) (12.8.90)\n",
            "Requirement already satisfied: nvidia-nvjitlink-cu12==12.8.93 in /usr/local/lib/python3.12/dist-packages (from torch) (12.8.93)\n",
            "Requirement already satisfied: nvidia-cufile-cu12==1.13.1.3 in /usr/local/lib/python3.12/dist-packages (from torch) (1.13.1.3)\n",
            "Requirement already satisfied: triton==3.4.0 in /usr/local/lib/python3.12/dist-packages (from torch) (3.4.0)\n",
            "Requirement already satisfied: numpy in /usr/local/lib/python3.12/dist-packages (from torchvision) (1.26.4)\n",
            "Requirement already satisfied: pillow!=8.3.*,>=5.3.0 in /usr/local/lib/python3.12/dist-packages (from torchvision) (11.3.0)\n",
            "Requirement already satisfied: faiss-cpu==1.8.0 in /usr/local/lib/python3.12/dist-packages (from linktransformer) (1.8.0)\n",
            "Requirement already satisfied: hdbscan==0.8.36 in /usr/local/lib/python3.12/dist-packages (from linktransformer) (0.8.36)\n",
            "INFO: pip is looking at multiple versions of linktransformer to determine which version is compatible with other requirements. This could take a while.\n",
            "Collecting linktransformer\n",
            "  Downloading linktransformer-0.1.15-py3-none-any.whl.metadata (58 kB)\n",
            "\u001b[2K     \u001b[90m━━━━━━━━━━━━━━━━━━━━━━━━━━━━━━━━━━━━━━━━\u001b[0m \u001b[32m58.1/58.1 kB\u001b[0m \u001b[31m4.2 MB/s\u001b[0m eta \u001b[36m0:00:00\u001b[0m\n",
            "\u001b[?25h  Downloading linktransformer-0.1.14-py3-none-any.whl.metadata (58 kB)\n",
            "\u001b[2K     \u001b[90m━━━━━━━━━━━━━━━━━━━━━━━━━━━━━━━━━━━━━━━━\u001b[0m \u001b[32m58.0/58.0 kB\u001b[0m \u001b[31m4.8 MB/s\u001b[0m eta \u001b[36m0:00:00\u001b[0m\n",
            "\u001b[?25hRequirement already satisfied: sentence-transformers in /usr/local/lib/python3.12/dist-packages (from linktransformer) (2.3.1)\n",
            "Requirement already satisfied: transformers in /usr/local/lib/python3.12/dist-packages (from linktransformer) (4.48.1)\n",
            "Requirement already satisfied: wandb in /usr/local/lib/python3.12/dist-packages (from linktransformer) (0.17.0)\n",
            "Requirement already satisfied: pandas in /usr/local/lib/python3.12/dist-packages (from linktransformer) (2.2.3)\n",
            "Requirement already satisfied: openai in /usr/local/lib/python3.12/dist-packages (from linktransformer) (1.30.4)\n",
            "Requirement already satisfied: openpyxl in /usr/local/lib/python3.12/dist-packages (from linktransformer) (3.1.2)\n",
            "Requirement already satisfied: datasets in /usr/local/lib/python3.12/dist-packages (from linktransformer) (3.2.0)\n",
            "Requirement already satisfied: accelerate in /usr/local/lib/python3.12/dist-packages (from linktransformer) (1.3.0)\n",
            "Requirement already satisfied: evaluate in /usr/local/lib/python3.12/dist-packages (from linktransformer) (0.4.3)\n",
            "Requirement already satisfied: scipy>=1.8.0 in /usr/local/lib/python3.12/dist-packages (from scikit-learn) (1.16.1)\n",
            "Requirement already satisfied: joblib>=1.2.0 in /usr/local/lib/python3.12/dist-packages (from scikit-learn) (1.5.2)\n",
            "Requirement already satisfied: threadpoolctl>=3.1.0 in /usr/local/lib/python3.12/dist-packages (from scikit-learn) (3.6.0)\n",
            "Requirement already satisfied: mpmath<1.4,>=1.1.0 in /usr/local/lib/python3.12/dist-packages (from sympy>=1.13.3->torch) (1.3.0)\n",
            "Requirement already satisfied: packaging>=20.0 in /usr/local/lib/python3.12/dist-packages (from accelerate->linktransformer) (25.0)\n",
            "Requirement already satisfied: psutil in /usr/local/lib/python3.12/dist-packages (from accelerate->linktransformer) (5.9.5)\n",
            "Requirement already satisfied: pyyaml in /usr/local/lib/python3.12/dist-packages (from accelerate->linktransformer) (6.0.2)\n",
            "Requirement already satisfied: huggingface-hub>=0.21.0 in /usr/local/lib/python3.12/dist-packages (from accelerate->linktransformer) (0.34.4)\n",
            "Requirement already satisfied: safetensors>=0.4.3 in /usr/local/lib/python3.12/dist-packages (from accelerate->linktransformer) (0.6.2)\n",
            "Requirement already satisfied: pyarrow>=15.0.0 in /usr/local/lib/python3.12/dist-packages (from datasets->linktransformer) (18.1.0)\n",
            "Requirement already satisfied: dill<0.3.9,>=0.3.0 in /usr/local/lib/python3.12/dist-packages (from datasets->linktransformer) (0.3.8)\n",
            "Requirement already satisfied: requests>=2.32.2 in /usr/local/lib/python3.12/dist-packages (from datasets->linktransformer) (2.32.4)\n",
            "Requirement already satisfied: tqdm>=4.66.3 in /usr/local/lib/python3.12/dist-packages (from datasets->linktransformer) (4.67.1)\n",
            "Requirement already satisfied: xxhash in /usr/local/lib/python3.12/dist-packages (from datasets->linktransformer) (3.5.0)\n",
            "Requirement already satisfied: multiprocess<0.70.17 in /usr/local/lib/python3.12/dist-packages (from datasets->linktransformer) (0.70.16)\n",
            "Requirement already satisfied: aiohttp in /usr/local/lib/python3.12/dist-packages (from datasets->linktransformer) (3.12.15)\n",
            "Requirement already satisfied: cython<3,>=0.27 in /usr/local/lib/python3.12/dist-packages (from hdbscan==0.8.36->linktransformer) (0.29.37)\n",
            "Requirement already satisfied: MarkupSafe>=2.0 in /usr/local/lib/python3.12/dist-packages (from jinja2->torch) (3.0.2)\n",
            "Requirement already satisfied: anyio<5,>=3.5.0 in /usr/local/lib/python3.12/dist-packages (from openai->linktransformer) (4.10.0)\n",
            "Requirement already satisfied: distro<2,>=1.7.0 in /usr/local/lib/python3.12/dist-packages (from openai->linktransformer) (1.9.0)\n",
            "Requirement already satisfied: httpx<1,>=0.23.0 in /usr/local/lib/python3.12/dist-packages (from openai->linktransformer) (0.27.2)\n",
            "Requirement already satisfied: pydantic<3,>=1.9.0 in /usr/local/lib/python3.12/dist-packages (from openai->linktransformer) (2.11.7)\n",
            "Requirement already satisfied: sniffio in /usr/local/lib/python3.12/dist-packages (from openai->linktransformer) (1.3.1)\n",
            "Requirement already satisfied: et-xmlfile in /usr/local/lib/python3.12/dist-packages (from openpyxl->linktransformer) (2.0.0)\n",
            "Requirement already satisfied: python-dateutil>=2.8.2 in /usr/local/lib/python3.12/dist-packages (from pandas->linktransformer) (2.9.0.post0)\n",
            "Requirement already satisfied: pytz>=2020.1 in /usr/local/lib/python3.12/dist-packages (from pandas->linktransformer) (2025.2)\n",
            "Requirement already satisfied: tzdata>=2022.7 in /usr/local/lib/python3.12/dist-packages (from pandas->linktransformer) (2025.2)\n",
            "Requirement already satisfied: nltk in /usr/local/lib/python3.12/dist-packages (from sentence-transformers->linktransformer) (3.9.1)\n",
            "Requirement already satisfied: sentencepiece in /usr/local/lib/python3.12/dist-packages (from sentence-transformers->linktransformer) (0.2.1)\n",
            "Requirement already satisfied: regex!=2019.12.17 in /usr/local/lib/python3.12/dist-packages (from transformers->linktransformer) (2024.11.6)\n",
            "Requirement already satisfied: tokenizers<0.22,>=0.21 in /usr/local/lib/python3.12/dist-packages (from transformers->linktransformer) (0.21.4)\n",
            "Requirement already satisfied: click!=8.0.0,>=7.1 in /usr/local/lib/python3.12/dist-packages (from wandb->linktransformer) (8.2.1)\n",
            "Requirement already satisfied: docker-pycreds>=0.4.0 in /usr/local/lib/python3.12/dist-packages (from wandb->linktransformer) (0.4.0)\n",
            "Requirement already satisfied: gitpython!=3.1.29,>=1.0.0 in /usr/local/lib/python3.12/dist-packages (from wandb->linktransformer) (3.1.45)\n",
            "Requirement already satisfied: platformdirs in /usr/local/lib/python3.12/dist-packages (from wandb->linktransformer) (4.4.0)\n",
            "Requirement already satisfied: protobuf!=4.21.0,<5,>=3.19.0 in /usr/local/lib/python3.12/dist-packages (from wandb->linktransformer) (4.25.8)\n",
            "Requirement already satisfied: sentry-sdk>=1.0.0 in /usr/local/lib/python3.12/dist-packages (from wandb->linktransformer) (2.35.2)\n",
            "Requirement already satisfied: setproctitle in /usr/local/lib/python3.12/dist-packages (from wandb->linktransformer) (1.3.7)\n",
            "Requirement already satisfied: idna>=2.8 in /usr/local/lib/python3.12/dist-packages (from anyio<5,>=3.5.0->openai->linktransformer) (3.10)\n",
            "Requirement already satisfied: six>=1.4.0 in /usr/local/lib/python3.12/dist-packages (from docker-pycreds>=0.4.0->wandb->linktransformer) (1.17.0)\n",
            "Requirement already satisfied: aiohappyeyeballs>=2.5.0 in /usr/local/lib/python3.12/dist-packages (from aiohttp->datasets->linktransformer) (2.6.1)\n",
            "Requirement already satisfied: aiosignal>=1.4.0 in /usr/local/lib/python3.12/dist-packages (from aiohttp->datasets->linktransformer) (1.4.0)\n",
            "Requirement already satisfied: attrs>=17.3.0 in /usr/local/lib/python3.12/dist-packages (from aiohttp->datasets->linktransformer) (25.3.0)\n",
            "Requirement already satisfied: frozenlist>=1.1.1 in /usr/local/lib/python3.12/dist-packages (from aiohttp->datasets->linktransformer) (1.7.0)\n",
            "Requirement already satisfied: multidict<7.0,>=4.5 in /usr/local/lib/python3.12/dist-packages (from aiohttp->datasets->linktransformer) (6.6.4)\n",
            "Requirement already satisfied: propcache>=0.2.0 in /usr/local/lib/python3.12/dist-packages (from aiohttp->datasets->linktransformer) (0.3.2)\n",
            "Requirement already satisfied: yarl<2.0,>=1.17.0 in /usr/local/lib/python3.12/dist-packages (from aiohttp->datasets->linktransformer) (1.20.1)\n",
            "Requirement already satisfied: gitdb<5,>=4.0.1 in /usr/local/lib/python3.12/dist-packages (from gitpython!=3.1.29,>=1.0.0->wandb->linktransformer) (4.0.12)\n",
            "Requirement already satisfied: certifi in /usr/local/lib/python3.12/dist-packages (from httpx<1,>=0.23.0->openai->linktransformer) (2025.8.3)\n",
            "Requirement already satisfied: httpcore==1.* in /usr/local/lib/python3.12/dist-packages (from httpx<1,>=0.23.0->openai->linktransformer) (1.0.9)\n",
            "Requirement already satisfied: h11>=0.16 in /usr/local/lib/python3.12/dist-packages (from httpcore==1.*->httpx<1,>=0.23.0->openai->linktransformer) (0.16.0)\n",
            "Requirement already satisfied: hf-xet<2.0.0,>=1.1.3 in /usr/local/lib/python3.12/dist-packages (from huggingface-hub>=0.21.0->accelerate->linktransformer) (1.1.9)\n",
            "Requirement already satisfied: annotated-types>=0.6.0 in /usr/local/lib/python3.12/dist-packages (from pydantic<3,>=1.9.0->openai->linktransformer) (0.7.0)\n",
            "Requirement already satisfied: pydantic-core==2.33.2 in /usr/local/lib/python3.12/dist-packages (from pydantic<3,>=1.9.0->openai->linktransformer) (2.33.2)\n",
            "Requirement already satisfied: typing-inspection>=0.4.0 in /usr/local/lib/python3.12/dist-packages (from pydantic<3,>=1.9.0->openai->linktransformer) (0.4.1)\n",
            "Requirement already satisfied: charset_normalizer<4,>=2 in /usr/local/lib/python3.12/dist-packages (from requests>=2.32.2->datasets->linktransformer) (3.4.3)\n",
            "Requirement already satisfied: urllib3<3,>=1.21.1 in /usr/local/lib/python3.12/dist-packages (from requests>=2.32.2->datasets->linktransformer) (2.5.0)\n",
            "Requirement already satisfied: smmap<6,>=3.0.1 in /usr/local/lib/python3.12/dist-packages (from gitdb<5,>=4.0.1->gitpython!=3.1.29,>=1.0.0->wandb->linktransformer) (5.0.2)\n",
            "Downloading linktransformer-0.1.14-py3-none-any.whl (2.8 MB)\n",
            "\u001b[2K   \u001b[90m━━━━━━━━━━━━━━━━━━━━━━━━━━━━━━━━━━━━━━━━\u001b[0m \u001b[32m2.8/2.8 MB\u001b[0m \u001b[31m28.3 MB/s\u001b[0m eta \u001b[36m0:00:00\u001b[0m\n",
            "\u001b[?25hDownloading scikit_learn-1.7.1-cp312-cp312-manylinux2014_x86_64.manylinux_2_17_x86_64.whl (9.5 MB)\n",
            "\u001b[2K   \u001b[90m━━━━━━━━━━━━━━━━━━━━━━━━━━━━━━━━━━━━━━━━\u001b[0m \u001b[32m9.5/9.5 MB\u001b[0m \u001b[31m109.7 MB/s\u001b[0m eta \u001b[36m0:00:00\u001b[0m\n",
            "\u001b[?25hInstalling collected packages: scikit-learn, linktransformer\n",
            "  Attempting uninstall: scikit-learn\n",
            "    Found existing installation: scikit-learn 1.3.2\n",
            "    Uninstalling scikit-learn-1.3.2:\n",
            "      Successfully uninstalled scikit-learn-1.3.2\n",
            "  Attempting uninstall: linktransformer\n",
            "    Found existing installation: linktransformer 0.1.17\n",
            "    Uninstalling linktransformer-0.1.17:\n",
            "      Successfully uninstalled linktransformer-0.1.17\n",
            "Successfully installed linktransformer-0.1.14 scikit-learn-1.7.1\n"
          ]
        }
      ]
    },
    {
      "cell_type": "code",
      "source": [
        "!pip install --upgrade datasets==2.14.5"
      ],
      "metadata": {
        "id": "ZaO-ZBUjE-9f",
        "outputId": "33534b62-5ad7-48a2-baa0-e2ccc0ba768e",
        "colab": {
          "base_uri": "https://localhost:8080/"
        }
      },
      "execution_count": 2,
      "outputs": [
        {
          "output_type": "stream",
          "name": "stdout",
          "text": [
            "Requirement already satisfied: datasets==2.14.5 in /usr/local/lib/python3.12/dist-packages (2.14.5)\n",
            "Requirement already satisfied: numpy>=1.17 in /usr/local/lib/python3.12/dist-packages (from datasets==2.14.5) (1.26.4)\n",
            "Requirement already satisfied: pyarrow>=8.0.0 in /usr/local/lib/python3.12/dist-packages (from datasets==2.14.5) (18.1.0)\n",
            "Requirement already satisfied: dill<0.3.8,>=0.3.0 in /usr/local/lib/python3.12/dist-packages (from datasets==2.14.5) (0.3.7)\n",
            "Requirement already satisfied: pandas in /usr/local/lib/python3.12/dist-packages (from datasets==2.14.5) (2.2.3)\n",
            "Requirement already satisfied: requests>=2.19.0 in /usr/local/lib/python3.12/dist-packages (from datasets==2.14.5) (2.32.4)\n",
            "Requirement already satisfied: tqdm>=4.62.1 in /usr/local/lib/python3.12/dist-packages (from datasets==2.14.5) (4.67.1)\n",
            "Requirement already satisfied: xxhash in /usr/local/lib/python3.12/dist-packages (from datasets==2.14.5) (3.5.0)\n",
            "Requirement already satisfied: multiprocess in /usr/local/lib/python3.12/dist-packages (from datasets==2.14.5) (0.70.15)\n",
            "Requirement already satisfied: fsspec<2023.9.0,>=2023.1.0 in /usr/local/lib/python3.12/dist-packages (from fsspec[http]<2023.9.0,>=2023.1.0->datasets==2.14.5) (2023.6.0)\n",
            "Requirement already satisfied: aiohttp in /usr/local/lib/python3.12/dist-packages (from datasets==2.14.5) (3.12.15)\n",
            "Requirement already satisfied: huggingface-hub<1.0.0,>=0.14.0 in /usr/local/lib/python3.12/dist-packages (from datasets==2.14.5) (0.34.4)\n",
            "Requirement already satisfied: packaging in /usr/local/lib/python3.12/dist-packages (from datasets==2.14.5) (25.0)\n",
            "Requirement already satisfied: pyyaml>=5.1 in /usr/local/lib/python3.12/dist-packages (from datasets==2.14.5) (6.0.2)\n",
            "Requirement already satisfied: aiohappyeyeballs>=2.5.0 in /usr/local/lib/python3.12/dist-packages (from aiohttp->datasets==2.14.5) (2.6.1)\n",
            "Requirement already satisfied: aiosignal>=1.4.0 in /usr/local/lib/python3.12/dist-packages (from aiohttp->datasets==2.14.5) (1.4.0)\n",
            "Requirement already satisfied: attrs>=17.3.0 in /usr/local/lib/python3.12/dist-packages (from aiohttp->datasets==2.14.5) (25.3.0)\n",
            "Requirement already satisfied: frozenlist>=1.1.1 in /usr/local/lib/python3.12/dist-packages (from aiohttp->datasets==2.14.5) (1.7.0)\n",
            "Requirement already satisfied: multidict<7.0,>=4.5 in /usr/local/lib/python3.12/dist-packages (from aiohttp->datasets==2.14.5) (6.6.4)\n",
            "Requirement already satisfied: propcache>=0.2.0 in /usr/local/lib/python3.12/dist-packages (from aiohttp->datasets==2.14.5) (0.3.2)\n",
            "Requirement already satisfied: yarl<2.0,>=1.17.0 in /usr/local/lib/python3.12/dist-packages (from aiohttp->datasets==2.14.5) (1.20.1)\n",
            "Requirement already satisfied: filelock in /usr/local/lib/python3.12/dist-packages (from huggingface-hub<1.0.0,>=0.14.0->datasets==2.14.5) (3.19.1)\n",
            "Requirement already satisfied: typing-extensions>=3.7.4.3 in /usr/local/lib/python3.12/dist-packages (from huggingface-hub<1.0.0,>=0.14.0->datasets==2.14.5) (4.15.0)\n",
            "Requirement already satisfied: hf-xet<2.0.0,>=1.1.3 in /usr/local/lib/python3.12/dist-packages (from huggingface-hub<1.0.0,>=0.14.0->datasets==2.14.5) (1.1.9)\n",
            "Requirement already satisfied: charset_normalizer<4,>=2 in /usr/local/lib/python3.12/dist-packages (from requests>=2.19.0->datasets==2.14.5) (3.4.3)\n",
            "Requirement already satisfied: idna<4,>=2.5 in /usr/local/lib/python3.12/dist-packages (from requests>=2.19.0->datasets==2.14.5) (3.10)\n",
            "Requirement already satisfied: urllib3<3,>=1.21.1 in /usr/local/lib/python3.12/dist-packages (from requests>=2.19.0->datasets==2.14.5) (2.5.0)\n",
            "Requirement already satisfied: certifi>=2017.4.17 in /usr/local/lib/python3.12/dist-packages (from requests>=2.19.0->datasets==2.14.5) (2025.8.3)\n",
            "Requirement already satisfied: python-dateutil>=2.8.2 in /usr/local/lib/python3.12/dist-packages (from pandas->datasets==2.14.5) (2.9.0.post0)\n",
            "Requirement already satisfied: pytz>=2020.1 in /usr/local/lib/python3.12/dist-packages (from pandas->datasets==2.14.5) (2025.2)\n",
            "Requirement already satisfied: tzdata>=2022.7 in /usr/local/lib/python3.12/dist-packages (from pandas->datasets==2.14.5) (2025.2)\n",
            "Requirement already satisfied: six>=1.5 in /usr/local/lib/python3.12/dist-packages (from python-dateutil>=2.8.2->pandas->datasets==2.14.5) (1.17.0)\n"
          ]
        }
      ]
    },
    {
      "cell_type": "code",
      "source": [
        "# Approximate string matching, see\n",
        "import py_stringsimjoin as ssj\n",
        "import py_stringmatching as sm\n",
        "\n",
        "import linktransformer as lt\n",
        "import pandas as pd\n",
        "import numpy as np\n",
        "\n",
        "import urllib\n",
        "from lxml import etree\n",
        "\n",
        "import datetime\n",
        "import duckdb"
      ],
      "metadata": {
        "id": "l2P-ZhSwdULn"
      },
      "execution_count": 3,
      "outputs": []
    },
    {
      "cell_type": "code",
      "execution_count": 4,
      "metadata": {
        "colab": {
          "base_uri": "https://localhost:8080/"
        },
        "id": "9TZsWfgY41De",
        "outputId": "a3b7cc3b-f54d-453e-81dd-3f57ff767d87"
      },
      "outputs": [
        {
          "output_type": "stream",
          "name": "stdout",
          "text": [
            "Writing notebook-config.yaml\n"
          ]
        }
      ],
      "source": [
        "%%writefile notebook-config.yaml\n",
        "\n",
        "grader_api_url: 'https://23whrwph9h.execute-api.us-east-1.amazonaws.com/default/Grader23'\n",
        "grader_api_key: 'flfkE736fA6Z8GxMDJe2q8Kfk8UDqjsG3GVqOFOa'"
      ]
    },
    {
      "cell_type": "code",
      "execution_count": 5,
      "metadata": {
        "colab": {
          "base_uri": "https://localhost:8080/"
        },
        "id": "hZY7k8Z14lWC",
        "outputId": "47ef0ea8-e990-4a20-cd98-856f87571252"
      },
      "outputs": [
        {
          "output_type": "stream",
          "name": "stdout",
          "text": [
            "Collecting penngrader-client\n",
            "  Downloading penngrader_client-0.5.2-py3-none-any.whl.metadata (15 kB)\n",
            "Requirement already satisfied: dill in /usr/local/lib/python3.12/dist-packages (from penngrader-client) (0.3.7)\n",
            "Requirement already satisfied: pyyaml in /usr/local/lib/python3.12/dist-packages (from penngrader-client) (6.0.2)\n",
            "Downloading penngrader_client-0.5.2-py3-none-any.whl (10 kB)\n",
            "Installing collected packages: penngrader-client\n",
            "Successfully installed penngrader-client-0.5.2\n"
          ]
        }
      ],
      "source": [
        "!pip3 install penngrader-client"
      ]
    },
    {
      "cell_type": "markdown",
      "metadata": {
        "id": "HkENA-6r4vYS"
      },
      "source": [
        "For quiz credit you'll need to update your student ID here!"
      ]
    },
    {
      "cell_type": "code",
      "execution_count": 6,
      "metadata": {
        "id": "L3_sSMr84uCS"
      },
      "outputs": [],
      "source": [
        "#PLEASE ENSURE YOUR PENN-ID IS ENTERED CORRECTLY. IF NOT, THE AUTOGRADER WON'T KNOW WHO\n",
        "#TO ASSIGN POINTS TO YOU IN OUR BACKEND\n",
        "STUDENT_ID = 99999999 # YOUR PENN-ID GOES HERE AS AN INTEGER##PLEASE ENSURE YOUR PENN-ID IS ENTERED CORRECTLY. IF NOT, THE AUTOGRADER WON'T KNOW WHO"
      ]
    },
    {
      "cell_type": "markdown",
      "metadata": {
        "id": "oGAFhhVF5LZx"
      },
      "source": [
        "Quizzes will cumulatively count as HW9... Don't edit this..."
      ]
    },
    {
      "cell_type": "code",
      "execution_count": 7,
      "metadata": {
        "colab": {
          "base_uri": "https://localhost:8080/"
        },
        "id": "93y6gp6l5DJu",
        "outputId": "23d54e86-9d94-4b25-f7d9-c87f308f4b84"
      },
      "outputs": [
        {
          "output_type": "stream",
          "name": "stdout",
          "text": [
            "env: HW_ID=cis5450_25f_HW9\n"
          ]
        }
      ],
      "source": [
        "%set_env HW_ID=cis5450_25f_HW9"
      ]
    },
    {
      "cell_type": "code",
      "execution_count": 8,
      "metadata": {
        "colab": {
          "base_uri": "https://localhost:8080/"
        },
        "id": "zt58w5q_43eQ",
        "outputId": "fb06ddb9-c9d3-47bb-f44d-f45d61f6dce3"
      },
      "outputs": [
        {
          "output_type": "stream",
          "name": "stdout",
          "text": [
            "PennGrader initialized with Student ID: 99999999\n",
            "\n",
            "Make sure this correct or we will not be able to store your grade\n"
          ]
        }
      ],
      "source": [
        "import os\n",
        "from penngrader.grader import *\n",
        "\n",
        "grader = PennGrader('notebook-config.yaml', os.environ['HW_ID'], STUDENT_ID, STUDENT_ID)"
      ]
    },
    {
      "cell_type": "code",
      "execution_count": 9,
      "metadata": {
        "id": "4Xah24fnRRGZ"
      },
      "outputs": [],
      "source": [
        "# Imports we'll use through the notebook, collected here for simplicity\n",
        "\n",
        "# For parsing dates and being able to compare\n",
        "import datetime\n",
        "\n",
        "# For fetching remote data\n",
        "import urllib\n",
        "import urllib.request\n",
        "\n",
        "# Pandas dataframes and operations\n",
        "import pandas as pd\n",
        "\n",
        "# Numpy matrix and array operations\n",
        "import numpy as np\n",
        "\n",
        "# Sqlite is a simplistic database\n",
        "import duckdb\n",
        "\n",
        "# Data visualization\n",
        "import matplotlib\n",
        "\n"
      ]
    },
    {
      "cell_type": "markdown",
      "source": [
        "### Reload"
      ],
      "metadata": {
        "id": "ee1pGtr3IB82"
      }
    },
    {
      "cell_type": "markdown",
      "source": [
        "We reset the kernel, so we may need to re-initialize our data...\n",
        "\n",
        "For simplicity, we reload all of the following:\n",
        "* `company_ceos_df` -- Wikipedia list of companies and their CEOs\n",
        "* `exec_df` -- crawled executive names and birthdays\n",
        "* `company_data_df` -- 7M entries about companies\n",
        "* `company_info_df` -- CSV about companies and lines of business"
      ],
      "metadata": {
        "id": "dOCMP-9DkcO6"
      }
    },
    {
      "cell_type": "code",
      "source": [
        "!wget -nc https://storage.googleapis.com/penn-cis5450/companies_sorted.csv"
      ],
      "metadata": {
        "colab": {
          "base_uri": "https://localhost:8080/"
        },
        "id": "ZTHKymaZknbr",
        "outputId": "03c9cd4b-c30d-4d12-adb2-65bb8a83e2d7"
      },
      "execution_count": 10,
      "outputs": [
        {
          "output_type": "stream",
          "name": "stdout",
          "text": [
            "--2025-09-05 13:36:13--  https://storage.googleapis.com/penn-cis5450/companies_sorted.csv\n",
            "Resolving storage.googleapis.com (storage.googleapis.com)... 172.253.118.207, 172.217.194.207, 142.251.10.207, ...\n",
            "Connecting to storage.googleapis.com (storage.googleapis.com)|172.253.118.207|:443... connected.\n",
            "HTTP request sent, awaiting response... 200 OK\n",
            "Length: 1085578742 (1.0G) [text/csv]\n",
            "Saving to: ‘companies_sorted.csv’\n",
            "\n",
            "companies_sorted.cs 100%[===================>]   1.01G  21.5MB/s    in 49s     \n",
            "\n",
            "2025-09-05 13:37:03 (21.0 MB/s) - ‘companies_sorted.csv’ saved [1085578742/1085578742]\n",
            "\n"
          ]
        }
      ]
    },
    {
      "cell_type": "code",
      "source": [
        "def get_ceo_urls(company_ceos_df):\n",
        "  crawl_list = []\n",
        "\n",
        "  for executive in company_ceos_df['Executive']:\n",
        "    crawl_list.append('https://en.wikipedia.org/wiki/' + executive.replace(' ', '_'))\n",
        "  return crawl_list\n",
        "\n"
      ],
      "metadata": {
        "id": "b-LTzU34GwzY"
      },
      "execution_count": 14,
      "outputs": []
    },
    {
      "cell_type": "code",
      "source": [
        "import requests\n",
        "from io import StringIO\n",
        "\n",
        "# Now let's read an HTML table!\n",
        "headers = {\n",
        "    'User-Agent': 'Mozilla/5.0 (Windows NT 10.0; Win64; x64) AppleWebKit/537.36 (KHTML, like Gecko) Chrome/91.0.4472.124 Safari/537.36'\n",
        "}\n",
        "\n",
        "url = 'https://en.wikipedia.org/wiki/List_of_chief_executive_officers#List_of_CEOs'\n",
        "response = requests.get(url, headers=headers)\n",
        "company_ceos_df = pd.read_html(StringIO(response.text))[1]\n",
        "\n",
        "# Use urllib.urlopen to crawl all pages in crawl_list, and store the response of the page\n",
        "# in list pages\n",
        "\n",
        "pages = []\n",
        "page_urls = []\n",
        "\n",
        "crawl_list = get_ceo_urls(company_ceos_df)\n",
        "\n",
        "crawl_list\n",
        "\n",
        "for url in crawl_list:\n",
        "    page = url.split(\"/\")[-1] #extract the person name at the end of the url\n",
        "\n",
        "    # An issue: some of the accent characters won't work.  We need to convert them\n",
        "    # into an HTML URL.  We'll split the URL, then use \"parse.quote\" to change\n",
        "    # the structure, then re-form the URL\n",
        "    url_list = list(urllib.parse.urlsplit(url))\n",
        "    url_list[2] = urllib.parse.quote(url_list[2])\n",
        "    url_ascii = urllib.parse.urlunsplit(url_list)\n",
        "    try:\n",
        "      response = requests.get(url_ascii, headers=headers)\n",
        "      #Save page and url for later use.\n",
        "      pages.append(response.text)\n",
        "      page_urls.append(url)\n",
        "    except requests.exceptions.RequestException as e:\n",
        "      print(e)\n",
        "\n",
        "\n",
        "# Use lxml.etree.HTML(...) on the HTML content of each page to get a DOM tree that\n",
        "# can be processed via XPath to extract the bday information.  Store the CEO name,\n",
        "# webpage, and the birthdate (born) in exec_df.\n",
        "\n",
        "# We first check that the HTML content has a table of type `vcard`,\n",
        "# and then extract the `bday` information.  If there is no birthdate, the datetime\n",
        "# value is NaT (not a type).\n",
        "\n",
        "from lxml import etree\n",
        "\n",
        "rows = []\n",
        "for i, page in enumerate(pages):\n",
        "  url = page_urls[i]\n",
        "  print (url)\n",
        "  content = page\n",
        "  tree = etree.HTML(content)  #create a DOM tree of the page\n",
        "  bday = tree.xpath('//table[contains(@class,\"vcard\")]//span[@class=\"bday\"]/text()')\n",
        "  if len(bday) > 0:\n",
        "      name = url[url.rfind('/')+1:] # The part of the URL after the last /\n",
        "      rows.append({'name': name, 'page': url,\n",
        "                  'born': datetime.datetime.strptime(bday[0], '%Y-%m-%d')})\n",
        "  else:\n",
        "          rows.append({'name': url[url.rfind('/')+1:], 'page': url\n",
        "                                    , 'born': np.datetime64('NaT')})\n",
        "\n",
        "exec_df = pd.DataFrame(rows)\n",
        "exec_df['clean_name'] = exec_df['name'].apply(lambda x: x.replace('_', ' '))\n",
        "company_data_df = pd.read_csv('companies_sorted.csv')\n",
        "countries_df = pd.read_csv(\"https://raw.githubusercontent.com/lukes/ISO-3166-Countries-with-Regional-Codes/master/all/all.csv\")\n",
        "\n",
        "data = urllib.request.urlopen(\\\n",
        "       'https://gist.github.com/jvilledieu/c3afe5bc21da28880a30/raw/a344034b82a11433ba6f149afa47e57567d4a18f/Companies.csv')\n",
        "\n",
        "company_info_df = pd.read_csv(data)\n"
      ],
      "metadata": {
        "id": "jhsss7sLkHrJ",
        "colab": {
          "base_uri": "https://localhost:8080/"
        },
        "outputId": "0cc0a132-e0c0-49be-d512-07b979db11cf"
      },
      "execution_count": 15,
      "outputs": [
        {
          "output_type": "stream",
          "name": "stderr",
          "text": [
            "/tmp/ipython-input-3746531079.py:10: FutureWarning: Passing literal html to 'read_html' is deprecated and will be removed in a future version. To read from a literal string, wrap it in a 'StringIO' object.\n",
            "  company_ceos_df = pd.read_html(response.text)[1]\n"
          ]
        },
        {
          "output_type": "stream",
          "name": "stdout",
          "text": [
            "https://en.wikipedia.org/wiki/Julie_Sweet\n",
            "https://en.wikipedia.org/wiki/Kumar_Mangalam_Birla\n",
            "https://en.wikipedia.org/wiki/Shantanu_Narayen\n",
            "https://en.wikipedia.org/wiki/Guillaume_Faury\n",
            "https://en.wikipedia.org/wiki/Eddie_Wu\n",
            "https://en.wikipedia.org/wiki/Andy_Jassy\n",
            "https://en.wikipedia.org/wiki/Lisa_Su\n",
            "https://en.wikipedia.org/wiki/Stephen_Squeri\n",
            "https://en.wikipedia.org/wiki/Joseph_R._Swedish\n",
            "https://en.wikipedia.org/wiki/Tim_Cook\n",
            "https://en.wikipedia.org/wiki/Aditya_Mittal\n",
            "https://en.wikipedia.org/wiki/John_Stankey\n",
            "https://en.wikipedia.org/wiki/Charles_Woodburn\n",
            "https://en.wikipedia.org/wiki/Tapan_Singhel\n",
            "https://en.wikipedia.org/wiki/Carlos_Torres_Vila\n",
            "https://en.wikipedia.org/wiki/Brian_Moynihan\n",
            "https://en.wikipedia.org/wiki/C.S._Venkatakrishnan\n",
            "https://en.wikipedia.org/wiki/Warren_Buffett\n",
            "https://en.wikipedia.org/wiki/Hubert_Joly\n",
            "https://en.wikipedia.org/wiki/Sunil_Bharti_Mittal\n",
            "https://en.wikipedia.org/wiki/Stephen_A._Schwarzman\n",
            "https://en.wikipedia.org/wiki/Mike_Henry\n",
            "https://en.wikipedia.org/wiki/Oliver_Zipse\n",
            "https://en.wikipedia.org/wiki/Kelly_Ortberg\n",
            "https://en.wikipedia.org/wiki/Rich_Lesser\n",
            "https://en.wikipedia.org/wiki/Bob_Dudley\n",
            "https://en.wikipedia.org/wiki/Hock_Tan\n",
            "https://en.wikipedia.org/wiki/Denise_Morrison\n",
            "https://en.wikipedia.org/wiki/Mark_Shuttleworth\n",
            "https://en.wikipedia.org/wiki/Richard_Fairbank\n",
            "https://en.wikipedia.org/wiki/Jim_Umpleby\n",
            "https://en.wikipedia.org/wiki/Evan_Greenberg\n",
            "https://en.wikipedia.org/wiki/Chuck_Robbins\n",
            "https://en.wikipedia.org/wiki/Jane_Fraser\n",
            "https://en.wikipedia.org/wiki/James_Quincey\n",
            "https://en.wikipedia.org/wiki/Michael_J._Cavanagh\n",
            "https://en.wikipedia.org/wiki/Thomas_Gottstein\n",
            "https://en.wikipedia.org/wiki/Ola_Källenius\n",
            "https://en.wikipedia.org/wiki/Michael_Dell\n",
            "https://en.wikipedia.org/wiki/Ed_Bastian\n",
            "https://en.wikipedia.org/wiki/Christian_Sewing\n",
            "https://en.wikipedia.org/wiki/Tobias_Meyer\n",
            "https://en.wikipedia.org/wiki/Edward_D._Breen\n",
            "https://en.wikipedia.org/wiki/Devin_Wenig\n",
            "https://en.wikipedia.org/wiki/Börje_Ekholm\n",
            "https://en.wikipedia.org/wiki/Darren_Woods\n",
            "https://en.wikipedia.org/wiki/Carmine_Di_Sibio\n",
            "https://en.wikipedia.org/wiki/Mark_Zuckerberg\n",
            "https://en.wikipedia.org/wiki/Raj_Subramaniam\n",
            "https://en.wikipedia.org/wiki/Sergio_Marchionne\n",
            "https://en.wikipedia.org/wiki/Abigail_Johnson\n",
            "https://en.wikipedia.org/wiki/James_Hackett\n",
            "https://en.wikipedia.org/wiki/Terry_Gou\n",
            "https://en.wikipedia.org/wiki/Lachlan_Murdoch\n",
            "https://en.wikipedia.org/wiki/Ryan_Cohen\n",
            "https://en.wikipedia.org/wiki/Phebe_Novakovic\n",
            "https://en.wikipedia.org/wiki/H._Lawrence_Culp_Jr.\n",
            "https://en.wikipedia.org/wiki/Mary_T._Barra\n",
            "https://en.wikipedia.org/wiki/Emma_Walmsley\n",
            "https://en.wikipedia.org/wiki/David_M._Solomon\n",
            "https://en.wikipedia.org/wiki/Sundar_Pichai\n",
            "https://en.wikipedia.org/wiki/C_Vijayakumar\n",
            "https://en.wikipedia.org/wiki/Antonio_Neri\n",
            "https://en.wikipedia.org/wiki/Darius_Adamczyk\n",
            "https://en.wikipedia.org/wiki/Noel_Quinn\n",
            "https://en.wikipedia.org/wiki/Arvind_Krishna\n",
            "https://en.wikipedia.org/wiki/Salil_Parekh\n",
            "https://en.wikipedia.org/wiki/Lip-Bu_Tan\n",
            "https://en.wikipedia.org/wiki/James_Dimon\n",
            "https://en.wikipedia.org/wiki/Pieter_Elbers\n",
            "https://en.wikipedia.org/wiki/Charles_G._Koch\n",
            "https://en.wikipedia.org/wiki/Marillyn_Hewson\n",
            "https://en.wikipedia.org/wiki/Steve_Rowe\n",
            "https://en.wikipedia.org/wiki/Chris_Kempczinski\n",
            "https://en.wikipedia.org/wiki/Bob_Sternfels\n",
            "https://en.wikipedia.org/wiki/Steven_A._Kandarian\n",
            "https://en.wikipedia.org/wiki/Isaac_Larian\n",
            "https://en.wikipedia.org/wiki/Satya_Nadella\n",
            "https://en.wikipedia.org/wiki/James_P._Gorman\n",
            "https://en.wikipedia.org/wiki/Michael_J._Cavanagh\n",
            "https://en.wikipedia.org/wiki/Robert_James_Thomson\n",
            "https://en.wikipedia.org/wiki/Mark_Thompson\n",
            "https://en.wikipedia.org/wiki/Mark_Parker\n",
            "https://en.wikipedia.org/wiki/Pekka_Lundmark\n",
            "https://en.wikipedia.org/wiki/Vasant_Narasimhan\n",
            "https://en.wikipedia.org/wiki/Tatsumi_Kimishima\n",
            "https://en.wikipedia.org/wiki/Safra_Catz\n",
            "https://en.wikipedia.org/wiki/Ramon_Laguarta\n",
            "https://en.wikipedia.org/wiki/Albert_Bourla\n",
            "https://en.wikipedia.org/wiki/David_S._Taylor\n",
            "https://en.wikipedia.org/wiki/John_Strangfeld\n",
            "https://en.wikipedia.org/wiki/John_Mullen\n",
            "https://en.wikipedia.org/wiki/Anil_Ambani\n",
            "https://en.wikipedia.org/wiki/Mukesh_Ambani\n",
            "https://en.wikipedia.org/wiki/Luca_de_Meo\n",
            "https://en.wikipedia.org/wiki/David_I._McKay\n",
            "https://en.wikipedia.org/wiki/Ross_McEwan\n",
            "https://en.wikipedia.org/wiki/Wael_Sawan\n",
            "https://en.wikipedia.org/wiki/Michael_O'Leary\n",
            "https://en.wikipedia.org/wiki/Douglas_L._Peterson\n",
            "https://en.wikipedia.org/wiki/Oh-Hyun_Kwon\n",
            "https://en.wikipedia.org/wiki/Christian_Klein\n",
            "https://en.wikipedia.org/wiki/Herbert_Fisk_Johnson_III\n",
            "https://en.wikipedia.org/wiki/Jean-Pascal_Tricoire\n",
            "https://en.wikipedia.org/wiki/Peter_Harrison\n",
            "https://en.wikipedia.org/wiki/Chua_Sock_Koong\n",
            "https://en.wikipedia.org/wiki/Masayoshi_Son\n",
            "https://en.wikipedia.org/wiki/Tony_Aquila\n",
            "https://en.wikipedia.org/wiki/Elon_Musk\n",
            "https://en.wikipedia.org/wiki/Robert_E._Jordan\n",
            "https://en.wikipedia.org/wiki/J._Clifford_Hudson\n",
            "https://en.wikipedia.org/wiki/Brian_Niccol\n",
            "https://en.wikipedia.org/wiki/Raymond_Kwok\n",
            "https://en.wikipedia.org/wiki/William_H._Rogers_Jr.\n",
            "https://en.wikipedia.org/wiki/Brian_Cornell\n",
            "https://en.wikipedia.org/wiki/Rajesh_Gopinathan\n",
            "https://en.wikipedia.org/wiki/Li_Dongsheng\n",
            "https://en.wikipedia.org/wiki/Andy_Penn\n",
            "https://en.wikipedia.org/wiki/Dave_Lewis\n",
            "https://en.wikipedia.org/wiki/Elon_Musk\n",
            "https://en.wikipedia.org/wiki/Alan_D._Schnitzer\n",
            "https://en.wikipedia.org/wiki/Akio_Toyoda\n",
            "https://en.wikipedia.org/wiki/Scott_Kirby\n",
            "https://en.wikipedia.org/wiki/Brian_Thompson\n",
            "https://en.wikipedia.org/wiki/Ralph_Hamers\n",
            "https://en.wikipedia.org/wiki/Hans_Vestberg\n",
            "https://en.wikipedia.org/wiki/Robert_Bakish\n",
            "https://en.wikipedia.org/wiki/Ryan_McInerney\n",
            "https://en.wikipedia.org/wiki/Vittorio_Colao\n",
            "https://en.wikipedia.org/wiki/Herbert_Diess\n",
            "https://en.wikipedia.org/wiki/Robert_Iger\n",
            "https://en.wikipedia.org/wiki/Stefano_Pessina\n",
            "https://en.wikipedia.org/wiki/Doug_McMillon\n",
            "https://en.wikipedia.org/wiki/Ann_Sarnoff\n",
            "https://en.wikipedia.org/wiki/Jason_Kilar\n",
            "https://en.wikipedia.org/wiki/Charles_Scharf\n",
            "https://en.wikipedia.org/wiki/John_Mackey\n",
            "https://en.wikipedia.org/wiki/Rich_Barton\n"
          ]
        }
      ]
    },
    {
      "cell_type": "code",
      "source": [
        "updated_exec_df = exec_df.rename({'name': 'old_name'})\n",
        "updated_exec_df"
      ],
      "metadata": {
        "colab": {
          "base_uri": "https://localhost:8080/",
          "height": 424
        },
        "id": "THo8UeWkrfGz",
        "outputId": "03258925-1a12-4a5f-bf3c-a415aa9e3268"
      },
      "execution_count": 16,
      "outputs": [
        {
          "output_type": "execute_result",
          "data": {
            "text/plain": [
              "                     name                                                page  \\\n",
              "0             Julie_Sweet           https://en.wikipedia.org/wiki/Julie_Sweet   \n",
              "1    Kumar_Mangalam_Birla  https://en.wikipedia.org/wiki/Kumar_Mangalam_Birla   \n",
              "2        Shantanu_Narayen      https://en.wikipedia.org/wiki/Shantanu_Narayen   \n",
              "3         Guillaume_Faury       https://en.wikipedia.org/wiki/Guillaume_Faury   \n",
              "4                Eddie_Wu              https://en.wikipedia.org/wiki/Eddie_Wu   \n",
              "..                    ...                                                 ...   \n",
              "133           Ann_Sarnoff           https://en.wikipedia.org/wiki/Ann_Sarnoff   \n",
              "134           Jason_Kilar           https://en.wikipedia.org/wiki/Jason_Kilar   \n",
              "135        Charles_Scharf        https://en.wikipedia.org/wiki/Charles_Scharf   \n",
              "136           John_Mackey           https://en.wikipedia.org/wiki/John_Mackey   \n",
              "137           Rich_Barton           https://en.wikipedia.org/wiki/Rich_Barton   \n",
              "\n",
              "                    born            clean_name  \n",
              "0                    NaT           Julie Sweet  \n",
              "1    1967-06-14 00:00:00  Kumar Mangalam Birla  \n",
              "2    1963-05-27 00:00:00      Shantanu Narayen  \n",
              "3    1968-02-22 00:00:00       Guillaume Faury  \n",
              "4                    NaT              Eddie Wu  \n",
              "..                   ...                   ...  \n",
              "133                  NaT           Ann Sarnoff  \n",
              "134  1971-04-26 00:00:00           Jason Kilar  \n",
              "135  1965-04-24 00:00:00        Charles Scharf  \n",
              "136                  NaT           John Mackey  \n",
              "137                  NaT           Rich Barton  \n",
              "\n",
              "[138 rows x 4 columns]"
            ],
            "text/html": [
              "\n",
              "  <div id=\"df-41636c59-1d08-4b85-a940-c0380e4b6055\" class=\"colab-df-container\">\n",
              "    <div>\n",
              "<style scoped>\n",
              "    .dataframe tbody tr th:only-of-type {\n",
              "        vertical-align: middle;\n",
              "    }\n",
              "\n",
              "    .dataframe tbody tr th {\n",
              "        vertical-align: top;\n",
              "    }\n",
              "\n",
              "    .dataframe thead th {\n",
              "        text-align: right;\n",
              "    }\n",
              "</style>\n",
              "<table border=\"1\" class=\"dataframe\">\n",
              "  <thead>\n",
              "    <tr style=\"text-align: right;\">\n",
              "      <th></th>\n",
              "      <th>name</th>\n",
              "      <th>page</th>\n",
              "      <th>born</th>\n",
              "      <th>clean_name</th>\n",
              "    </tr>\n",
              "  </thead>\n",
              "  <tbody>\n",
              "    <tr>\n",
              "      <th>0</th>\n",
              "      <td>Julie_Sweet</td>\n",
              "      <td>https://en.wikipedia.org/wiki/Julie_Sweet</td>\n",
              "      <td>NaT</td>\n",
              "      <td>Julie Sweet</td>\n",
              "    </tr>\n",
              "    <tr>\n",
              "      <th>1</th>\n",
              "      <td>Kumar_Mangalam_Birla</td>\n",
              "      <td>https://en.wikipedia.org/wiki/Kumar_Mangalam_Birla</td>\n",
              "      <td>1967-06-14 00:00:00</td>\n",
              "      <td>Kumar Mangalam Birla</td>\n",
              "    </tr>\n",
              "    <tr>\n",
              "      <th>2</th>\n",
              "      <td>Shantanu_Narayen</td>\n",
              "      <td>https://en.wikipedia.org/wiki/Shantanu_Narayen</td>\n",
              "      <td>1963-05-27 00:00:00</td>\n",
              "      <td>Shantanu Narayen</td>\n",
              "    </tr>\n",
              "    <tr>\n",
              "      <th>3</th>\n",
              "      <td>Guillaume_Faury</td>\n",
              "      <td>https://en.wikipedia.org/wiki/Guillaume_Faury</td>\n",
              "      <td>1968-02-22 00:00:00</td>\n",
              "      <td>Guillaume Faury</td>\n",
              "    </tr>\n",
              "    <tr>\n",
              "      <th>4</th>\n",
              "      <td>Eddie_Wu</td>\n",
              "      <td>https://en.wikipedia.org/wiki/Eddie_Wu</td>\n",
              "      <td>NaT</td>\n",
              "      <td>Eddie Wu</td>\n",
              "    </tr>\n",
              "    <tr>\n",
              "      <th>...</th>\n",
              "      <td>...</td>\n",
              "      <td>...</td>\n",
              "      <td>...</td>\n",
              "      <td>...</td>\n",
              "    </tr>\n",
              "    <tr>\n",
              "      <th>133</th>\n",
              "      <td>Ann_Sarnoff</td>\n",
              "      <td>https://en.wikipedia.org/wiki/Ann_Sarnoff</td>\n",
              "      <td>NaT</td>\n",
              "      <td>Ann Sarnoff</td>\n",
              "    </tr>\n",
              "    <tr>\n",
              "      <th>134</th>\n",
              "      <td>Jason_Kilar</td>\n",
              "      <td>https://en.wikipedia.org/wiki/Jason_Kilar</td>\n",
              "      <td>1971-04-26 00:00:00</td>\n",
              "      <td>Jason Kilar</td>\n",
              "    </tr>\n",
              "    <tr>\n",
              "      <th>135</th>\n",
              "      <td>Charles_Scharf</td>\n",
              "      <td>https://en.wikipedia.org/wiki/Charles_Scharf</td>\n",
              "      <td>1965-04-24 00:00:00</td>\n",
              "      <td>Charles Scharf</td>\n",
              "    </tr>\n",
              "    <tr>\n",
              "      <th>136</th>\n",
              "      <td>John_Mackey</td>\n",
              "      <td>https://en.wikipedia.org/wiki/John_Mackey</td>\n",
              "      <td>NaT</td>\n",
              "      <td>John Mackey</td>\n",
              "    </tr>\n",
              "    <tr>\n",
              "      <th>137</th>\n",
              "      <td>Rich_Barton</td>\n",
              "      <td>https://en.wikipedia.org/wiki/Rich_Barton</td>\n",
              "      <td>NaT</td>\n",
              "      <td>Rich Barton</td>\n",
              "    </tr>\n",
              "  </tbody>\n",
              "</table>\n",
              "<p>138 rows × 4 columns</p>\n",
              "</div>\n",
              "    <div class=\"colab-df-buttons\">\n",
              "\n",
              "  <div class=\"colab-df-container\">\n",
              "    <button class=\"colab-df-convert\" onclick=\"convertToInteractive('df-41636c59-1d08-4b85-a940-c0380e4b6055')\"\n",
              "            title=\"Convert this dataframe to an interactive table.\"\n",
              "            style=\"display:none;\">\n",
              "\n",
              "  <svg xmlns=\"http://www.w3.org/2000/svg\" height=\"24px\" viewBox=\"0 -960 960 960\">\n",
              "    <path d=\"M120-120v-720h720v720H120Zm60-500h600v-160H180v160Zm220 220h160v-160H400v160Zm0 220h160v-160H400v160ZM180-400h160v-160H180v160Zm440 0h160v-160H620v160ZM180-180h160v-160H180v160Zm440 0h160v-160H620v160Z\"/>\n",
              "  </svg>\n",
              "    </button>\n",
              "\n",
              "  <style>\n",
              "    .colab-df-container {\n",
              "      display:flex;\n",
              "      gap: 12px;\n",
              "    }\n",
              "\n",
              "    .colab-df-convert {\n",
              "      background-color: #E8F0FE;\n",
              "      border: none;\n",
              "      border-radius: 50%;\n",
              "      cursor: pointer;\n",
              "      display: none;\n",
              "      fill: #1967D2;\n",
              "      height: 32px;\n",
              "      padding: 0 0 0 0;\n",
              "      width: 32px;\n",
              "    }\n",
              "\n",
              "    .colab-df-convert:hover {\n",
              "      background-color: #E2EBFA;\n",
              "      box-shadow: 0px 1px 2px rgba(60, 64, 67, 0.3), 0px 1px 3px 1px rgba(60, 64, 67, 0.15);\n",
              "      fill: #174EA6;\n",
              "    }\n",
              "\n",
              "    .colab-df-buttons div {\n",
              "      margin-bottom: 4px;\n",
              "    }\n",
              "\n",
              "    [theme=dark] .colab-df-convert {\n",
              "      background-color: #3B4455;\n",
              "      fill: #D2E3FC;\n",
              "    }\n",
              "\n",
              "    [theme=dark] .colab-df-convert:hover {\n",
              "      background-color: #434B5C;\n",
              "      box-shadow: 0px 1px 3px 1px rgba(0, 0, 0, 0.15);\n",
              "      filter: drop-shadow(0px 1px 2px rgba(0, 0, 0, 0.3));\n",
              "      fill: #FFFFFF;\n",
              "    }\n",
              "  </style>\n",
              "\n",
              "    <script>\n",
              "      const buttonEl =\n",
              "        document.querySelector('#df-41636c59-1d08-4b85-a940-c0380e4b6055 button.colab-df-convert');\n",
              "      buttonEl.style.display =\n",
              "        google.colab.kernel.accessAllowed ? 'block' : 'none';\n",
              "\n",
              "      async function convertToInteractive(key) {\n",
              "        const element = document.querySelector('#df-41636c59-1d08-4b85-a940-c0380e4b6055');\n",
              "        const dataTable =\n",
              "          await google.colab.kernel.invokeFunction('convertToInteractive',\n",
              "                                                    [key], {});\n",
              "        if (!dataTable) return;\n",
              "\n",
              "        const docLinkHtml = 'Like what you see? Visit the ' +\n",
              "          '<a target=\"_blank\" href=https://colab.research.google.com/notebooks/data_table.ipynb>data table notebook</a>'\n",
              "          + ' to learn more about interactive tables.';\n",
              "        element.innerHTML = '';\n",
              "        dataTable['output_type'] = 'display_data';\n",
              "        await google.colab.output.renderOutput(dataTable, element);\n",
              "        const docLink = document.createElement('div');\n",
              "        docLink.innerHTML = docLinkHtml;\n",
              "        element.appendChild(docLink);\n",
              "      }\n",
              "    </script>\n",
              "  </div>\n",
              "\n",
              "\n",
              "    <div id=\"df-50d7eecf-d4eb-4f0b-8a7e-427e237344ec\">\n",
              "      <button class=\"colab-df-quickchart\" onclick=\"quickchart('df-50d7eecf-d4eb-4f0b-8a7e-427e237344ec')\"\n",
              "                title=\"Suggest charts\"\n",
              "                style=\"display:none;\">\n",
              "\n",
              "<svg xmlns=\"http://www.w3.org/2000/svg\" height=\"24px\"viewBox=\"0 0 24 24\"\n",
              "     width=\"24px\">\n",
              "    <g>\n",
              "        <path d=\"M19 3H5c-1.1 0-2 .9-2 2v14c0 1.1.9 2 2 2h14c1.1 0 2-.9 2-2V5c0-1.1-.9-2-2-2zM9 17H7v-7h2v7zm4 0h-2V7h2v10zm4 0h-2v-4h2v4z\"/>\n",
              "    </g>\n",
              "</svg>\n",
              "      </button>\n",
              "\n",
              "<style>\n",
              "  .colab-df-quickchart {\n",
              "      --bg-color: #E8F0FE;\n",
              "      --fill-color: #1967D2;\n",
              "      --hover-bg-color: #E2EBFA;\n",
              "      --hover-fill-color: #174EA6;\n",
              "      --disabled-fill-color: #AAA;\n",
              "      --disabled-bg-color: #DDD;\n",
              "  }\n",
              "\n",
              "  [theme=dark] .colab-df-quickchart {\n",
              "      --bg-color: #3B4455;\n",
              "      --fill-color: #D2E3FC;\n",
              "      --hover-bg-color: #434B5C;\n",
              "      --hover-fill-color: #FFFFFF;\n",
              "      --disabled-bg-color: #3B4455;\n",
              "      --disabled-fill-color: #666;\n",
              "  }\n",
              "\n",
              "  .colab-df-quickchart {\n",
              "    background-color: var(--bg-color);\n",
              "    border: none;\n",
              "    border-radius: 50%;\n",
              "    cursor: pointer;\n",
              "    display: none;\n",
              "    fill: var(--fill-color);\n",
              "    height: 32px;\n",
              "    padding: 0;\n",
              "    width: 32px;\n",
              "  }\n",
              "\n",
              "  .colab-df-quickchart:hover {\n",
              "    background-color: var(--hover-bg-color);\n",
              "    box-shadow: 0 1px 2px rgba(60, 64, 67, 0.3), 0 1px 3px 1px rgba(60, 64, 67, 0.15);\n",
              "    fill: var(--button-hover-fill-color);\n",
              "  }\n",
              "\n",
              "  .colab-df-quickchart-complete:disabled,\n",
              "  .colab-df-quickchart-complete:disabled:hover {\n",
              "    background-color: var(--disabled-bg-color);\n",
              "    fill: var(--disabled-fill-color);\n",
              "    box-shadow: none;\n",
              "  }\n",
              "\n",
              "  .colab-df-spinner {\n",
              "    border: 2px solid var(--fill-color);\n",
              "    border-color: transparent;\n",
              "    border-bottom-color: var(--fill-color);\n",
              "    animation:\n",
              "      spin 1s steps(1) infinite;\n",
              "  }\n",
              "\n",
              "  @keyframes spin {\n",
              "    0% {\n",
              "      border-color: transparent;\n",
              "      border-bottom-color: var(--fill-color);\n",
              "      border-left-color: var(--fill-color);\n",
              "    }\n",
              "    20% {\n",
              "      border-color: transparent;\n",
              "      border-left-color: var(--fill-color);\n",
              "      border-top-color: var(--fill-color);\n",
              "    }\n",
              "    30% {\n",
              "      border-color: transparent;\n",
              "      border-left-color: var(--fill-color);\n",
              "      border-top-color: var(--fill-color);\n",
              "      border-right-color: var(--fill-color);\n",
              "    }\n",
              "    40% {\n",
              "      border-color: transparent;\n",
              "      border-right-color: var(--fill-color);\n",
              "      border-top-color: var(--fill-color);\n",
              "    }\n",
              "    60% {\n",
              "      border-color: transparent;\n",
              "      border-right-color: var(--fill-color);\n",
              "    }\n",
              "    80% {\n",
              "      border-color: transparent;\n",
              "      border-right-color: var(--fill-color);\n",
              "      border-bottom-color: var(--fill-color);\n",
              "    }\n",
              "    90% {\n",
              "      border-color: transparent;\n",
              "      border-bottom-color: var(--fill-color);\n",
              "    }\n",
              "  }\n",
              "</style>\n",
              "\n",
              "      <script>\n",
              "        async function quickchart(key) {\n",
              "          const quickchartButtonEl =\n",
              "            document.querySelector('#' + key + ' button');\n",
              "          quickchartButtonEl.disabled = true;  // To prevent multiple clicks.\n",
              "          quickchartButtonEl.classList.add('colab-df-spinner');\n",
              "          try {\n",
              "            const charts = await google.colab.kernel.invokeFunction(\n",
              "                'suggestCharts', [key], {});\n",
              "          } catch (error) {\n",
              "            console.error('Error during call to suggestCharts:', error);\n",
              "          }\n",
              "          quickchartButtonEl.classList.remove('colab-df-spinner');\n",
              "          quickchartButtonEl.classList.add('colab-df-quickchart-complete');\n",
              "        }\n",
              "        (() => {\n",
              "          let quickchartButtonEl =\n",
              "            document.querySelector('#df-50d7eecf-d4eb-4f0b-8a7e-427e237344ec button');\n",
              "          quickchartButtonEl.style.display =\n",
              "            google.colab.kernel.accessAllowed ? 'block' : 'none';\n",
              "        })();\n",
              "      </script>\n",
              "    </div>\n",
              "\n",
              "  <div id=\"id_9e78d9fe-c6a0-4ac7-bff4-1e31044b3ff6\">\n",
              "    <style>\n",
              "      .colab-df-generate {\n",
              "        background-color: #E8F0FE;\n",
              "        border: none;\n",
              "        border-radius: 50%;\n",
              "        cursor: pointer;\n",
              "        display: none;\n",
              "        fill: #1967D2;\n",
              "        height: 32px;\n",
              "        padding: 0 0 0 0;\n",
              "        width: 32px;\n",
              "      }\n",
              "\n",
              "      .colab-df-generate:hover {\n",
              "        background-color: #E2EBFA;\n",
              "        box-shadow: 0px 1px 2px rgba(60, 64, 67, 0.3), 0px 1px 3px 1px rgba(60, 64, 67, 0.15);\n",
              "        fill: #174EA6;\n",
              "      }\n",
              "\n",
              "      [theme=dark] .colab-df-generate {\n",
              "        background-color: #3B4455;\n",
              "        fill: #D2E3FC;\n",
              "      }\n",
              "\n",
              "      [theme=dark] .colab-df-generate:hover {\n",
              "        background-color: #434B5C;\n",
              "        box-shadow: 0px 1px 3px 1px rgba(0, 0, 0, 0.15);\n",
              "        filter: drop-shadow(0px 1px 2px rgba(0, 0, 0, 0.3));\n",
              "        fill: #FFFFFF;\n",
              "      }\n",
              "    </style>\n",
              "    <button class=\"colab-df-generate\" onclick=\"generateWithVariable('updated_exec_df')\"\n",
              "            title=\"Generate code using this dataframe.\"\n",
              "            style=\"display:none;\">\n",
              "\n",
              "  <svg xmlns=\"http://www.w3.org/2000/svg\" height=\"24px\"viewBox=\"0 0 24 24\"\n",
              "       width=\"24px\">\n",
              "    <path d=\"M7,19H8.4L18.45,9,17,7.55,7,17.6ZM5,21V16.75L18.45,3.32a2,2,0,0,1,2.83,0l1.4,1.43a1.91,1.91,0,0,1,.58,1.4,1.91,1.91,0,0,1-.58,1.4L9.25,21ZM18.45,9,17,7.55Zm-12,3A5.31,5.31,0,0,0,4.9,8.1,5.31,5.31,0,0,0,1,6.5,5.31,5.31,0,0,0,4.9,4.9,5.31,5.31,0,0,0,6.5,1,5.31,5.31,0,0,0,8.1,4.9,5.31,5.31,0,0,0,12,6.5,5.46,5.46,0,0,0,6.5,12Z\"/>\n",
              "  </svg>\n",
              "    </button>\n",
              "    <script>\n",
              "      (() => {\n",
              "      const buttonEl =\n",
              "        document.querySelector('#id_9e78d9fe-c6a0-4ac7-bff4-1e31044b3ff6 button.colab-df-generate');\n",
              "      buttonEl.style.display =\n",
              "        google.colab.kernel.accessAllowed ? 'block' : 'none';\n",
              "\n",
              "      buttonEl.onclick = () => {\n",
              "        google.colab.notebook.generateWithVariable('updated_exec_df');\n",
              "      }\n",
              "      })();\n",
              "    </script>\n",
              "  </div>\n",
              "\n",
              "    </div>\n",
              "  </div>\n"
            ],
            "application/vnd.google.colaboratory.intrinsic+json": {
              "type": "dataframe",
              "variable_name": "updated_exec_df",
              "summary": "{\n  \"name\": \"updated_exec_df\",\n  \"rows\": 138,\n  \"fields\": [\n    {\n      \"column\": \"name\",\n      \"properties\": {\n        \"dtype\": \"string\",\n        \"num_unique_values\": 136,\n        \"samples\": [\n          \"Chris_Kempczinski\",\n          \"Darren_Woods\",\n          \"Sundar_Pichai\"\n        ],\n        \"semantic_type\": \"\",\n        \"description\": \"\"\n      }\n    },\n    {\n      \"column\": \"page\",\n      \"properties\": {\n        \"dtype\": \"string\",\n        \"num_unique_values\": 136,\n        \"samples\": [\n          \"https://en.wikipedia.org/wiki/Chris_Kempczinski\",\n          \"https://en.wikipedia.org/wiki/Darren_Woods\",\n          \"https://en.wikipedia.org/wiki/Sundar_Pichai\"\n        ],\n        \"semantic_type\": \"\",\n        \"description\": \"\"\n      }\n    },\n    {\n      \"column\": \"born\",\n      \"properties\": {\n        \"dtype\": \"string\",\n        \"num_unique_values\": 77,\n        \"samples\": [\n          \"1951-05-17 00:00:00\",\n          \"1576-02-29 00:00:00\",\n          \"1959-08-11 00:00:00\"\n        ],\n        \"semantic_type\": \"\",\n        \"description\": \"\"\n      }\n    },\n    {\n      \"column\": \"clean_name\",\n      \"properties\": {\n        \"dtype\": \"string\",\n        \"num_unique_values\": 136,\n        \"samples\": [\n          \"Chris Kempczinski\",\n          \"Darren Woods\",\n          \"Sundar Pichai\"\n        ],\n        \"semantic_type\": \"\",\n        \"description\": \"\"\n      }\n    }\n  ]\n}"
            }
          },
          "metadata": {},
          "execution_count": 16
        }
      ]
    },
    {
      "cell_type": "code",
      "execution_count": 17,
      "metadata": {
        "id": "xahZDjN-az77"
      },
      "outputs": [],
      "source": [
        "# Test with validation rules\n",
        "\n",
        "replace_item = ''\n",
        "\n",
        "failed = False\n",
        "for name in exec_df['clean_name']:\n",
        "  if not name.replace(' ', replace_item).\\\n",
        "          replace('.', replace_item).\\\n",
        "          replace('\\'',replace_item).\\\n",
        "          replace('-',replace_item).isalpha():\n",
        "    print (\"Illegal name %s\"%name)\n",
        "    failed = True\n",
        "\n",
        "if failed:\n",
        "  print('Found illegal names!')"
      ]
    },
    {
      "cell_type": "markdown",
      "metadata": {
        "id": "4aMcbtr36uiu"
      },
      "source": [
        "## 3.1. Data Cleaning: Fixing the Errors\n",
        "\n",
        "One approach we could take is to realize that these are all strings in which accented characters are specially coded for use in (Wikipedia) URLs.  For instance, %C3 is a hex character code for an accented \"u\".  We can use a function called `unqote` to fix this...\n"
      ]
    },
    {
      "cell_type": "code",
      "execution_count": 18,
      "metadata": {
        "colab": {
          "base_uri": "https://localhost:8080/",
          "height": 458
        },
        "id": "-a0Q_Z907L4U",
        "outputId": "f2f62bcd-a5c7-4a2f-ce2f-aa87d8b1eba7"
      },
      "outputs": [
        {
          "output_type": "execute_result",
          "data": {
            "text/plain": [
              "0               Julie Sweet\n",
              "1      Kumar Mangalam Birla\n",
              "2          Shantanu Narayen\n",
              "3           Guillaume Faury\n",
              "4                  Eddie Wu\n",
              "               ...         \n",
              "133             Ann Sarnoff\n",
              "134             Jason Kilar\n",
              "135          Charles Scharf\n",
              "136             John Mackey\n",
              "137             Rich Barton\n",
              "Name: clean_name, Length: 138, dtype: object"
            ],
            "text/html": [
              "<div>\n",
              "<style scoped>\n",
              "    .dataframe tbody tr th:only-of-type {\n",
              "        vertical-align: middle;\n",
              "    }\n",
              "\n",
              "    .dataframe tbody tr th {\n",
              "        vertical-align: top;\n",
              "    }\n",
              "\n",
              "    .dataframe thead th {\n",
              "        text-align: right;\n",
              "    }\n",
              "</style>\n",
              "<table border=\"1\" class=\"dataframe\">\n",
              "  <thead>\n",
              "    <tr style=\"text-align: right;\">\n",
              "      <th></th>\n",
              "      <th>clean_name</th>\n",
              "    </tr>\n",
              "  </thead>\n",
              "  <tbody>\n",
              "    <tr>\n",
              "      <th>0</th>\n",
              "      <td>Julie Sweet</td>\n",
              "    </tr>\n",
              "    <tr>\n",
              "      <th>1</th>\n",
              "      <td>Kumar Mangalam Birla</td>\n",
              "    </tr>\n",
              "    <tr>\n",
              "      <th>2</th>\n",
              "      <td>Shantanu Narayen</td>\n",
              "    </tr>\n",
              "    <tr>\n",
              "      <th>3</th>\n",
              "      <td>Guillaume Faury</td>\n",
              "    </tr>\n",
              "    <tr>\n",
              "      <th>4</th>\n",
              "      <td>Eddie Wu</td>\n",
              "    </tr>\n",
              "    <tr>\n",
              "      <th>...</th>\n",
              "      <td>...</td>\n",
              "    </tr>\n",
              "    <tr>\n",
              "      <th>133</th>\n",
              "      <td>Ann Sarnoff</td>\n",
              "    </tr>\n",
              "    <tr>\n",
              "      <th>134</th>\n",
              "      <td>Jason Kilar</td>\n",
              "    </tr>\n",
              "    <tr>\n",
              "      <th>135</th>\n",
              "      <td>Charles Scharf</td>\n",
              "    </tr>\n",
              "    <tr>\n",
              "      <th>136</th>\n",
              "      <td>John Mackey</td>\n",
              "    </tr>\n",
              "    <tr>\n",
              "      <th>137</th>\n",
              "      <td>Rich Barton</td>\n",
              "    </tr>\n",
              "  </tbody>\n",
              "</table>\n",
              "<p>138 rows × 1 columns</p>\n",
              "</div><br><label><b>dtype:</b> object</label>"
            ]
          },
          "metadata": {},
          "execution_count": 18
        }
      ],
      "source": [
        "from urllib.parse import unquote\n",
        "\n",
        "exec_df['clean_name'].apply(unquote)"
      ]
    },
    {
      "cell_type": "markdown",
      "metadata": {
        "id": "pUv2Jg1WSQ7a"
      },
      "source": [
        "## 3.2. More Generally: Data Validation Tools\n",
        "\n",
        "Are there tools to help us validate data?  Of course!  We see an [example](https://validators.readthedocs.io/en/latest/) of one such tool, simply called `validators`, below.  There are many others in the data cleaning literature."
      ]
    },
    {
      "cell_type": "code",
      "execution_count": 19,
      "metadata": {
        "colab": {
          "base_uri": "https://localhost:8080/",
          "height": 458
        },
        "id": "Peo0N4jLVlEX",
        "outputId": "f5020eec-b753-45fc-af17-a9f39b500a7d"
      },
      "outputs": [
        {
          "output_type": "execute_result",
          "data": {
            "text/plain": [
              "0      True\n",
              "1      True\n",
              "2      True\n",
              "3      True\n",
              "4      True\n",
              "       ... \n",
              "133    True\n",
              "134    True\n",
              "135    True\n",
              "136    True\n",
              "137    True\n",
              "Name: page, Length: 138, dtype: bool"
            ],
            "text/html": [
              "<div>\n",
              "<style scoped>\n",
              "    .dataframe tbody tr th:only-of-type {\n",
              "        vertical-align: middle;\n",
              "    }\n",
              "\n",
              "    .dataframe tbody tr th {\n",
              "        vertical-align: top;\n",
              "    }\n",
              "\n",
              "    .dataframe thead th {\n",
              "        text-align: right;\n",
              "    }\n",
              "</style>\n",
              "<table border=\"1\" class=\"dataframe\">\n",
              "  <thead>\n",
              "    <tr style=\"text-align: right;\">\n",
              "      <th></th>\n",
              "      <th>page</th>\n",
              "    </tr>\n",
              "  </thead>\n",
              "  <tbody>\n",
              "    <tr>\n",
              "      <th>0</th>\n",
              "      <td>True</td>\n",
              "    </tr>\n",
              "    <tr>\n",
              "      <th>1</th>\n",
              "      <td>True</td>\n",
              "    </tr>\n",
              "    <tr>\n",
              "      <th>2</th>\n",
              "      <td>True</td>\n",
              "    </tr>\n",
              "    <tr>\n",
              "      <th>3</th>\n",
              "      <td>True</td>\n",
              "    </tr>\n",
              "    <tr>\n",
              "      <th>4</th>\n",
              "      <td>True</td>\n",
              "    </tr>\n",
              "    <tr>\n",
              "      <th>...</th>\n",
              "      <td>...</td>\n",
              "    </tr>\n",
              "    <tr>\n",
              "      <th>133</th>\n",
              "      <td>True</td>\n",
              "    </tr>\n",
              "    <tr>\n",
              "      <th>134</th>\n",
              "      <td>True</td>\n",
              "    </tr>\n",
              "    <tr>\n",
              "      <th>135</th>\n",
              "      <td>True</td>\n",
              "    </tr>\n",
              "    <tr>\n",
              "      <th>136</th>\n",
              "      <td>True</td>\n",
              "    </tr>\n",
              "    <tr>\n",
              "      <th>137</th>\n",
              "      <td>True</td>\n",
              "    </tr>\n",
              "  </tbody>\n",
              "</table>\n",
              "<p>138 rows × 1 columns</p>\n",
              "</div><br><label><b>dtype:</b> bool</label>"
            ]
          },
          "metadata": {},
          "execution_count": 19
        }
      ],
      "source": [
        "import validators.url\n",
        "\n",
        "# Are all of the URLs valid?\n",
        "exec_df['page'].apply(validators.url)"
      ]
    },
    {
      "cell_type": "markdown",
      "metadata": {
        "id": "0VgkiL-WZkkr"
      },
      "source": [
        "## 3.3. Validation against a master list\n",
        "\n",
        "We can also compare against \"master\" lists (in tables).  For example, company info about stock ticker symbols can be compared against the full list of symbols; states and countries can be compared against definitive lists.\n",
        "\n",
        "Suppose we want to confirm that `company_info_df`, which includes companies' home countries, has valid country codes.  \n"
      ]
    },
    {
      "cell_type": "code",
      "execution_count": null,
      "metadata": {
        "id": "RUGiKa_cyd90"
      },
      "outputs": [],
      "source": [
        "data = urllib.request.urlopen(\\\n",
        "       'https://gist.github.com/jvilledieu/c3afe5bc21da28880a30/raw/a344034b82a11433ba6f149afa47e57567d4a18f/Companies.csv')\n",
        "\n",
        "company_info_df = pd.read_csv(data)\n"
      ]
    },
    {
      "cell_type": "code",
      "execution_count": null,
      "metadata": {
        "id": "KN0oBO4yUXrQ"
      },
      "outputs": [],
      "source": [
        "company_info_df[['name','country_code']]"
      ]
    },
    {
      "cell_type": "markdown",
      "metadata": {
        "id": "8cBNei24Ud7M"
      },
      "source": [
        "Some of these are NaNs -- let's drop them..."
      ]
    },
    {
      "cell_type": "markdown",
      "metadata": {
        "id": "i3j4gtl_UYas"
      },
      "source": [
        "From someone's Github content, here's a nice list of all countries and region codes."
      ]
    },
    {
      "cell_type": "code",
      "execution_count": null,
      "metadata": {
        "id": "V1Q8uOgbadDG"
      },
      "outputs": [],
      "source": [
        "countries_df = pd.read_csv(\"https://raw.githubusercontent.com/lukes/ISO-3166-Countries-with-Regional-Codes/master/all/all.csv\")\n",
        "\n",
        "display(countries_df)"
      ]
    },
    {
      "cell_type": "code",
      "execution_count": null,
      "metadata": {
        "id": "VgK5WYj4afyA"
      },
      "outputs": [],
      "source": [
        "validated = company_info_df[['name','country_code']].dropna().merge(countries_df, left_on=['country_code'], right_on=['alpha-3'],\n",
        "                      how='left', indicator=True)\n",
        "\n",
        "validated[validated['_merge'] != 'both'][['name_x','country_code']].drop_duplicates()"
      ]
    },
    {
      "cell_type": "markdown",
      "source": [
        "Hmm, so Romania is not officially `ROM`.  (In it should be `ROU`.)"
      ],
      "metadata": {
        "id": "ZUnsj3YPswks"
      }
    },
    {
      "cell_type": "markdown",
      "metadata": {
        "id": "QJ4YW3XPeZEm"
      },
      "source": [
        "## 3.4. Record Linking: Working around the Errors\n",
        "\n",
        "Rather than figuring out how to clean our names, we'll instead look at doing approximate matching."
      ]
    },
    {
      "cell_type": "markdown",
      "source": [
        "### Simple Record Linking\n",
        "\n",
        "We'll start with single-attribute record linking.\n",
        "\n",
        "The first method will be \"q-grams\" and Jaccard similarity."
      ],
      "metadata": {
        "id": "iXZuV89Yjxgc"
      }
    },
    {
      "cell_type": "markdown",
      "source": [
        "## Q-Grams, and Computing Jaccard Similarity in a Join\n",
        "\n",
        "Recall that a $q$-gram is simply a $q$-character subset of a string (where the string is padded on the left and right by $q-1$ additional characters, often dollar signs).  We can define a *tokenizer* to take strings and turn them into *sets of q-grams*."
      ],
      "metadata": {
        "id": "T0g-usFAeZMn"
      }
    },
    {
      "cell_type": "code",
      "execution_count": null,
      "metadata": {
        "id": "ZvIBRWhA2lJ3"
      },
      "outputs": [],
      "source": [
        "# We are going to match the strings approximately, via \"n-grams\" or \"q-grams\" (sequences of n or q characters)\n",
        "# Here it's five-grams\n",
        "\n",
        "tok = sm.QgramTokenizer(qval=5,return_set=True)"
      ]
    },
    {
      "cell_type": "markdown",
      "source": [
        "With the tokenizer as a subroutine, we want to define a *Jaccard similarity join*.  This conceptually compares *all pairs* of tuples $r,s$ from tables $R$ and $T$.  For each $r$ and $s$, it computes the sets of q-grams for the join attributes.\n",
        "\n",
        "Then it computes the *Jaccard distance* between the sets:\n",
        "\n",
        "$$|qgrams(r) \\cap qgrams(s)| / |qgrams(r) \\cup qgrams(s)|$$\n",
        "\n",
        "note, above, that these are sets so duplicate q-grams will not be considered."
      ],
      "metadata": {
        "id": "rl2Dkk3KelP8"
      }
    },
    {
      "cell_type": "code",
      "source": [
        "# Elon Musk is the CEO of Tesla and SpaceX so let's drop duplicates\n",
        "\n",
        "updated_exec_df.drop_duplicates(inplace=True)"
      ],
      "metadata": {
        "id": "5pTMufyvtXJV"
      },
      "execution_count": null,
      "outputs": []
    },
    {
      "cell_type": "code",
      "execution_count": null,
      "metadata": {
        "id": "Q8SEUA9I2suK",
        "scrolled": true
      },
      "outputs": [],
      "source": [
        "# Now let's do a similarity join\n",
        "\n",
        "updated_company_ceos_df = company_ceos_df.copy()\n",
        "\n",
        "# We'll reset the index, so there is a unique index field in the company_ceos_df dataframe\n",
        "updated_company_ceos_df.reset_index(inplace=True)\n",
        "\n",
        "output_pairs = ssj.jaccard_join(updated_company_ceos_df, updated_exec_df, 'index', 'page', 'Executive', 'clean_name', tok, 0.35,\n",
        "                                l_out_attrs=['Executive'], r_out_attrs=['name'])\n",
        "\n",
        "output_pairs[output_pairs['_sim_score'] < 1.0]"
      ]
    },
    {
      "cell_type": "code",
      "source": [
        "# CEO birthdays\n",
        "\n",
        "ceo_bdays_df = updated_company_ceos_df.merge(output_pairs,left_on=['Executive'],right_on=['l_Executive']).\\\n",
        "        merge(updated_exec_df.dropna(),left_on=['r_page'],right_on=['page'])\n",
        "\n",
        "ceo_bdays_df"
      ],
      "metadata": {
        "id": "VKEssBAYIZMf"
      },
      "execution_count": null,
      "outputs": []
    },
    {
      "cell_type": "markdown",
      "source": [
        "## 3.5 Alternative Record Linking\n",
        "\n",
        "OK, we have people, what about company categories?  These are in `company_data_df`."
      ],
      "metadata": {
        "id": "Gux_FX7QBql9"
      }
    },
    {
      "cell_type": "markdown",
      "source": [
        "### Duplicate removal\n",
        "\n",
        "There are some duplicate company entries, which will make everything a bit messy.  Let's just take the *first* entry for each."
      ],
      "metadata": {
        "id": "CQ4PVzoFHGnC"
      }
    },
    {
      "cell_type": "code",
      "source": [
        "company_data_df[company_data_df['name'] == 'wells fargo']"
      ],
      "metadata": {
        "id": "PLHHqEYeiMOe"
      },
      "execution_count": null,
      "outputs": []
    },
    {
      "cell_type": "markdown",
      "source": [
        "We'll group companies by name, and take the *first* item in each group."
      ],
      "metadata": {
        "id": "NRXh-7uDfaJj"
      }
    },
    {
      "cell_type": "code",
      "source": [
        "# Let's get rid of 'Unnamed:0' as a column name so we can use it as an ID\n",
        "updated_company_data_df = company_data_df.rename(columns={company_data_df.columns[0]: 'co_id'}).\\\n",
        "    groupby('name').first().reset_index()\n"
      ],
      "metadata": {
        "id": "Kes71KklGjIP"
      },
      "execution_count": null,
      "outputs": []
    },
    {
      "cell_type": "code",
      "source": [
        "updated_company_data_df[updated_company_data_df['name'] == 'wells fargo']"
      ],
      "metadata": {
        "id": "Avj31h4qiTnG"
      },
      "execution_count": null,
      "outputs": []
    },
    {
      "cell_type": "markdown",
      "source": [
        "OK, let's go onwards. We'll try to join from company CEOs to company data...\n",
        "\n",
        "### Join on Lowercase\n",
        "\n",
        "Obviously, company names are lowercased in `company_data_df`. Le's match that in `company_ceos_df`."
      ],
      "metadata": {
        "id": "Fhn2YvDiI86x"
      }
    },
    {
      "cell_type": "code",
      "source": [
        "updated_company_ceos_df['company_lc'] = updated_company_ceos_df['Company'].apply(lambda x: x.lower())\n",
        "\n",
        "duckdb.sql(\"\"\"SELECT *\n",
        "              FROM updated_company_ceos_df cc JOIN updated_company_data_df cd\n",
        "              ON cc.company_lc = cd.name\"\"\")\n"
      ],
      "metadata": {
        "id": "-Y_VX0Q5up5V"
      },
      "execution_count": null,
      "outputs": []
    },
    {
      "cell_type": "markdown",
      "source": [
        "110 companies sounds pretty good.  But is that all of them?\n",
        "\n",
        "`SELECT ... WHERE NOT EXISTS()` allows us to introduce a *correlated subquery*, i.e., a query that relates its conditions to values in the main query."
      ],
      "metadata": {
        "id": "j4cL9-sUvspJ"
      }
    },
    {
      "cell_type": "code",
      "source": [
        "missed_df = duckdb.sql(\"\"\"SELECT *\n",
        "              FROM updated_company_ceos_df cc\n",
        "              WHERE NOT EXISTS(\n",
        "                SELECT  * FROM company_data_df cd\n",
        "                WHERE cc.company_lc = cd.name)\"\"\")\n",
        "\n",
        "len(missed_df)"
      ],
      "metadata": {
        "id": "V2xcjXyBveES"
      },
      "execution_count": null,
      "outputs": []
    },
    {
      "cell_type": "markdown",
      "source": [
        "Wow, 25 companies are missing!  We can see them here..."
      ],
      "metadata": {
        "id": "eTsLugopv5Md"
      }
    },
    {
      "cell_type": "code",
      "source": [
        "missed_df.df()[['company_lc']].sort_values(by='company_lc')"
      ],
      "metadata": {
        "id": "Op1yNvE84tSt"
      },
      "execution_count": null,
      "outputs": []
    },
    {
      "cell_type": "markdown",
      "source": [
        "## Record Linking via Edit Distance\n",
        "\n",
        "Given that the above company names don't match, let's see if we can do better using *edit distance* or *Levenshtein distance*. Here the problem formulation is to find the *smallest number of edits* (insert, replace, or delete a character) necessary to turn string $r$ into string $s$.\n",
        "\n",
        "This is formulated as:\n",
        "![image.png](data:image/png;base64,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)"
      ],
      "metadata": {
        "id": "DN5BmUbeeTh4"
      }
    },
    {
      "cell_type": "markdown",
      "source": [
        "See the slides and [Wikipedia](https://en.wikipedia.org/wiki/Levenshtein_distance) for more details."
      ],
      "metadata": {
        "id": "YKFnwKW4gLrS"
      }
    },
    {
      "cell_type": "markdown",
      "source": [
        "We'll look for matches with edit distance up to 2.  Note this will take quite some time, because it has to compare *all possible pairs of strings* and there are 25 x ~7 million."
      ],
      "metadata": {
        "id": "XHGo-nlSgROT"
      }
    },
    {
      "cell_type": "code",
      "source": [
        "company_pairs = ssj.edit_distance_join(missed_df.df(), updated_company_data_df, 'index', 'co_id', 'company_lc', 'name', 2,\n",
        "                                l_out_attrs=['company_lc'], r_out_attrs=['name'])\n",
        "\n",
        "company_pairs"
      ],
      "metadata": {
        "id": "btUrutY9zUs3"
      },
      "execution_count": null,
      "outputs": []
    },
    {
      "cell_type": "code",
      "source": [
        "company_pairs.sort_values([\"_sim_score\", \"l_company_lc\"], ascending=[True,True])"
      ],
      "metadata": {
        "id": "Hwua6U1c37hU"
      },
      "execution_count": null,
      "outputs": []
    },
    {
      "cell_type": "markdown",
      "source": [
        "OK, so there are a LOT of partial matches.  Sometimes the closest match only requires one edit; other times, two.\n",
        "\n",
        "#### Best Match\n",
        "\n",
        "We want to start by finding the `argmin` values for `l_company_lc`\n",
        "and `r_name`, i.e., the matching names with the most similar score.\n",
        "\n",
        "As a starting point, let's figure out what the best score for each `l_company_lc` *is*..."
      ],
      "metadata": {
        "id": "bfsRlQKg_nFP"
      }
    },
    {
      "cell_type": "code",
      "source": [
        "best_match_score_df = duckdb.sql(\"\"\"\n",
        "  SELECT l_company_lc, MIN(_sim_score) AS best_score\n",
        "  FROM company_pairs\n",
        "  GROUP BY l_company_lc\n",
        "\"\"\").df()\n",
        "\n",
        "best_match_score_df"
      ],
      "metadata": {
        "id": "dy_wZyuM6RWX"
      },
      "execution_count": null,
      "outputs": []
    },
    {
      "cell_type": "markdown",
      "source": [
        "Now we'll look for those matches. There are going to be a lot of ties (and we'll ultimately want to tie-break)."
      ],
      "metadata": {
        "id": "F498mW2T_5TS"
      }
    },
    {
      "cell_type": "code",
      "source": [
        "best_matches_df = duckdb.sql(\"\"\"\n",
        "    SELECT l_index, company_pairs.l_company_lc, _sim_score, r_co_id, r_name\n",
        "    FROM company_pairs\n",
        "    JOIN best_match_score_df ON company_pairs._sim_score = best_match_score_df.best_score\n",
        "         AND company_pairs.l_company_lc = best_match_score_df.l_company_lc\n",
        "    ORDER BY company_Pairs.l_company_lc\n",
        "  \"\"\").df()\n",
        "\n",
        "best_matches_df"
      ],
      "metadata": {
        "id": "MdgFHOM4-QT1"
      },
      "execution_count": null,
      "outputs": []
    },
    {
      "cell_type": "markdown",
      "source": [
        "Let's tie-break by picking the `first` match for each `l_company_lc`. We'll use `GROUP BY` and `first` to do this..."
      ],
      "metadata": {
        "id": "oKQPHUFc__Lx"
      }
    },
    {
      "cell_type": "code",
      "source": [
        "best_matches_df = duckdb.sql(\"\"\"\n",
        "    SELECT l_index, company_pairs.l_company_lc AS co, first(r_co_id) AS match_id, first(r_name) AS match\n",
        "    FROM company_pairs\n",
        "    JOIN best_match_score_df ON company_pairs._sim_score = best_match_score_df.best_score\n",
        "         AND company_pairs.l_company_lc = best_match_score_df.l_company_lc\n",
        "    GROUP BY l_index, company_pairs.l_company_lc\n",
        "    ORDER BY company_pairs.l_company_lc\n",
        "  \"\"\").df()\n",
        "\n",
        "best_matches_df"
      ],
      "metadata": {
        "id": "tvAc4W9x_SFv"
      },
      "execution_count": null,
      "outputs": []
    },
    {
      "cell_type": "markdown",
      "source": [
        "### Concordance Table and Human Curation\n",
        "\n",
        "When doing record linking, we ultimately need to create one \"master list\" of exact and inexact matches, so that a human expert can update mistakes.  For instance, looking above we might want to remove some entries."
      ],
      "metadata": {
        "id": "UFsVCOMNFMRS"
      }
    },
    {
      "cell_type": "code",
      "source": [
        "cleaned_matches_df = best_matches_df[(best_matches_df['co'] != 'bhp') & \\\n",
        "                (best_matches_df['co'] != 'boston consulting group') & \\\n",
        "                (best_matches_df['co'] != 'canonical') & \\\n",
        "                (best_matches_df['co'] != 'adobe systems') & \\\n",
        "                (best_matches_df['co'] != 'capital one financial') & \\\n",
        "                (best_matches_df['co'] != 'fox corporation') & \\\n",
        "                (best_matches_df['co'] != 'solera holdings') & \\\n",
        "                (best_matches_df['co'] != 'target corporation') & \\\n",
        "                (best_matches_df['co'] != 'warner brothers') & \\\n",
        "                (best_matches_df['co'] != 'warnermedia')]"
      ],
      "metadata": {
        "id": "q80sMz0mAHtU"
      },
      "execution_count": null,
      "outputs": []
    },
    {
      "cell_type": "markdown",
      "source": [
        "To create the concordance table, we'll combine *exact match* cases (on lowercase) with the record linked data...\n",
        "\n",
        "Notice that the concordance table is the UNION of two tables."
      ],
      "metadata": {
        "id": "FA2tXLrtFZTR"
      }
    },
    {
      "cell_type": "code",
      "source": [
        "concordance_table_df = duckdb.sql(\n",
        "    \"\"\"\n",
        "      (SELECT index, Company as entry, match\n",
        "      FROM updated_company_ceos_df JOIN cleaned_matches_df\n",
        "        ON updated_company_ceos_df.company_lc = cleaned_matches_df.co\n",
        "      UNION\n",
        "      SELECT index, Company as entry, cd.name AS match\n",
        "      from updated_company_ceos_df cc JOIN company_data_df cd\n",
        "              ON cc.company_lc = cd.name\n",
        "      ) ORDER BY entry\n",
        "    \"\"\"\n",
        ").df()\n",
        "\n",
        "concordance_table_df"
      ],
      "metadata": {
        "id": "9XUFOv67DYEk"
      },
      "execution_count": null,
      "outputs": []
    },
    {
      "cell_type": "markdown",
      "source": [
        "### Done?\n",
        "\n",
        "This is great, we have a few additional companies.\n",
        "\n",
        "In the *exercises* you'll be asked to combine these with the other company data."
      ],
      "metadata": {
        "id": "yJWlDXTMB54w"
      }
    },
    {
      "cell_type": "code",
      "execution_count": null,
      "metadata": {
        "id": "7PeZP1i934NJ"
      },
      "outputs": [],
      "source": [
        "# At last! Company info + CEO info, together!\n",
        "\n",
        "total = updated_company_ceos_df.merge(output_pairs,left_on=['Executive'],right_on=['l_Executive']).\\\n",
        "        merge(updated_exec_df.dropna(),left_on=['r_page'],right_on=['page']).\\\n",
        "        merge(concordance_table_df, left_on='Company', right_on='entry').\\\n",
        "        merge(updated_company_data_df, left_on='match', right_on='name')\\\n",
        "        [['Company','name_y','Executive','r_name','born','_sim_score','industry','country','total employee estimate']]\n",
        "\n",
        "total"
      ]
    },
    {
      "cell_type": "code",
      "source": [
        "duckdb.sql(\"\"\"\n",
        "  CREATE VIEW company_ceo_age AS\n",
        "  SELECT *\n",
        "  FROM updated_company_ceos_df uc\n",
        "    JOIN output_pairs op ON uc.Executive = op.l_Executive\n",
        "    JOIN updated_exec_df e ON r_page = page\n",
        "    JOIN concordance_table_df ct ON ct.entry = Company\n",
        "    JOIN updated_company_data_df cd ON ct.match = cd.name\n",
        "    WHERE born IS NOT NULL\n",
        "\"\"\")"
      ],
      "metadata": {
        "id": "CvISoGu-ydeY"
      },
      "execution_count": null,
      "outputs": []
    },
    {
      "cell_type": "code",
      "source": [
        "duckdb.sql(\"SELECT * FROM company_ceo_age\")"
      ],
      "metadata": {
        "id": "vY0IwxaDzaql"
      },
      "execution_count": null,
      "outputs": []
    },
    {
      "cell_type": "markdown",
      "metadata": {
        "id": "gYn6etdEG7gc"
      },
      "source": [
        "## 3.5 Deduplication\n",
        "\n",
        "We have a series of associations between various companies and their industries.  Let's break this out into a table."
      ]
    },
    {
      "cell_type": "code",
      "source": [
        "industry_df = duckdb.sql(\"\"\"\n",
        "  SELECT industry, count(*) as frequency\n",
        "  FROM updated_company_data_df\n",
        "  WHERE industry IS NOT NULL\n",
        "  GROUP BY industry\n",
        "\"\"\").df()\n",
        "\n",
        "industry_df"
      ],
      "metadata": {
        "id": "j2WpazXV9fmW"
      },
      "execution_count": null,
      "outputs": []
    },
    {
      "cell_type": "markdown",
      "source": [
        "A simple form of deduplication is to find the *most general category* for each industry.  We'll in fact want to use this for identifying what companies are tech companies!\n",
        "\n",
        "Here we want to use *semantic association* between terms.  Fortunately one class of tools that can match on semantics is *Transformers*.  A Transformer is a special machine learning model that maps from data (in this case, phrases) to _vectors_ in a compressed space.  This compressed space is formulated such that *similar vectors have similar semantic meaning*. We'll talk more about Transformers as we go."
      ],
      "metadata": {
        "id": "J-efKoIKAmAA"
      }
    },
    {
      "cell_type": "code",
      "source": [
        "import linktransformer as lt\n",
        "\n",
        "# Here are some basic high-level industry categories\n",
        "categories_df = pd.DataFrame([{\"category\": \"technology\"},\n",
        "                       {\"category\": \"finance\"},\n",
        "                       {\"category\": \"medicine\"},\n",
        "                       {\"category\": \"services\"},\n",
        "                       {\"category\": \"manufacturing\"},\n",
        "                       {\"category\": \"entertainment\"},\n",
        "                       {\"category\": \"religion\"},\n",
        "                       {\"category\": \"government\"},\n",
        "                       {\"category\": \"art\"},\n",
        "                       {\"category\": \"retail\"},\n",
        "                       {\"category\": \"food service\"}])\n",
        "\n",
        "\n",
        "# Let's do a concept-match\n",
        "industry_categories_df = lt.merge(industry_df, categories_df,\n",
        "                         merge_type='1:m',\n",
        "                         left_on=\"industry\",\n",
        "                         right_on=\"category\",\n",
        "                         model=\"all-MiniLM-L6-v2\")"
      ],
      "metadata": {
        "id": "Klkvdd_M_CnG"
      },
      "execution_count": null,
      "outputs": []
    },
    {
      "cell_type": "code",
      "source": [
        "categories_df"
      ],
      "metadata": {
        "id": "CKW0TsJ0EhES"
      },
      "execution_count": null,
      "outputs": []
    },
    {
      "cell_type": "markdown",
      "source": [
        "### Deduplicated categories\n",
        "\n",
        "Here are the frequencies of different categories..."
      ],
      "metadata": {
        "id": "gontgZISCfHy"
      }
    },
    {
      "cell_type": "code",
      "source": [
        "duckdb.sql(\"\"\"\n",
        "  SELECT category, SUM(frequency)\n",
        "  FROM industry_categories_df\n",
        "  WHERE score > 0.3\n",
        "  GROUP BY category\n",
        "\"\"\")"
      ],
      "metadata": {
        "id": "U9RcvRIRCUq5"
      },
      "execution_count": null,
      "outputs": []
    },
    {
      "cell_type": "markdown",
      "source": [
        "Great. Now let's deploy this information to our integration problem. We'll want to know what industries are tech industries, so we can *replace all industries with their broader category*."
      ],
      "metadata": {
        "id": "-kkQw1fFCqlK"
      }
    },
    {
      "cell_type": "markdown",
      "source": [
        "If we just join with this list of industries, we'll get the set of tech companies."
      ],
      "metadata": {
        "id": "CLiPJxYLDM1M"
      }
    },
    {
      "cell_type": "code",
      "source": [
        "tech_categories_df = duckdb.sql(\"\"\"\n",
        "  SELECT industry, frequency, score\n",
        "  FROM industry_categories_df\n",
        "  WHERE category='technology'\n",
        "   AND score > 0.3\n",
        "  ORDER BY score DESC\n",
        "\"\"\").df()\n",
        "\n",
        "tech_categories_df"
      ],
      "metadata": {
        "id": "Is1YRNgaBnKL"
      },
      "execution_count": null,
      "outputs": []
    },
    {
      "cell_type": "code",
      "source": [
        "tech_companies_df = total.merge(tech_categories_df, left_on='industry', right_on='industry')"
      ],
      "metadata": {
        "id": "kPIH9H6-C3J4"
      },
      "execution_count": null,
      "outputs": []
    },
    {
      "cell_type": "markdown",
      "metadata": {
        "id": "bD9nhuQRZnwq"
      },
      "source": [
        "## Section 3 Exercises\n",
        "\n",
        "Is there a correlation between the kind of company and the age of the CEO?\n",
        "\n",
        "Does the company's line of business matter?"
      ]
    },
    {
      "cell_type": "code",
      "execution_count": null,
      "metadata": {
        "id": "w3Zv_oVGZDrm"
      },
      "outputs": [],
      "source": [
        "women_ceos_df = pd.read_html('https://en.wikipedia.org/wiki/List_of_women_CEOs_of_Fortune_500_companies')[0]\n",
        "women_ceos_df\n"
      ]
    },
    {
      "cell_type": "code",
      "source": [
        "company_ceos_2_df = # TODO, load and change to a schema matching company_ceos_df"
      ],
      "metadata": {
        "id": "faun4uabkA_5"
      },
      "execution_count": null,
      "outputs": []
    },
    {
      "cell_type": "code",
      "source": [
        "company_ceos_2_df = pd.DataFrame(columns=['Company', 'Executive', 'Since', 'Title', 'Updated', 'Notes'])\n",
        "company_ceos_2_df['Company'] = women_ceos_df['Company']\n",
        "company_ceos_2_df['Executive'] = women_ceos_df['CEO']\n",
        "company_ceos_2_df['Since'] = women_ceos_df['Start date']\n",
        "company_ceos_2_df['Title'] = 'CEO'\n",
        "company_ceos_2_df['Updated'] = '2024-9-01'\n",
        "company_ceos_2_df['Notes'] = women_ceos_df['Fortune 500 rank'].apply(lambda x: 'Fortune 500 rank: {}'.format(x))\n",
        "company_ceos_2_df"
      ],
      "metadata": {
        "id": "nRIp_JnElDnp"
      },
      "execution_count": null,
      "outputs": []
    },
    {
      "cell_type": "code",
      "source": [
        "pages = []\n",
        "\n",
        "for executive in company_ceos_2_df['Executive']:\n",
        "  url = 'https://en.wikipedia.org/wiki/' + executive.replace(' ', '_')\n",
        "\n",
        "  page = url.split(\"/\")[-1] #extract the person name at the end of the url\n",
        "\n",
        "  # An issue: some of the accent characters won't work.  We need to convert them\n",
        "  # into an HTML URL.  We'll split the URL, then use \"parse.quote\" to change\n",
        "  # the structure, then re-form the URL\n",
        "  url_list = list(urllib.parse.urlsplit(url))\n",
        "  url_list[2] = urllib.parse.quote(url_list[2])\n",
        "  url_ascii = urllib.parse.urlunsplit(url_list)\n",
        "  try:\n",
        "    response = urllib.request.urlopen((url_ascii))\n",
        "    pages.append(response)\n",
        "  except urllib.error.URLError as e:\n",
        "    print(e.reason)\n",
        "\n",
        "rows = []\n",
        "for page in pages:\n",
        "  url = page.geturl()\n",
        "\n",
        "  content = page.read().decode(\"utf-8\")\n",
        "  tree = etree.HTML(content)  #create a DOM tree of the page\n",
        "  bday = tree.xpath('//table[contains(@class,\"vcard\")]//span[@class=\"bday\"]/text()')\n",
        "  if len(bday) > 0:\n",
        "      name = url[url.rfind('/')+1:] # The part of the URL after the last /\n",
        "      rows.append({'name': name, 'page': url,\n",
        "                  'born': datetime.datetime.strptime(bday[0], '%Y-%m-%d')})\n",
        "  else:\n",
        "          rows.append({'name': url[url.rfind('/')+1:], 'page': url\n",
        "                                    , 'born': np.datetime64('NaT')})\n",
        "\n",
        "exec_2_df = pd.DataFrame(rows)\n",
        "exec_2_df['clean_name'] = exec_2_df['name'].apply(lambda x: x.replace('_', ' '))\n",
        "\n",
        "exec_2_df"
      ],
      "metadata": {
        "id": "9esBbT-yI3Ih"
      },
      "execution_count": null,
      "outputs": []
    },
    {
      "cell_type": "code",
      "source": [
        "updated_company_ceos_2_df = company_ceos_2_df.reset_index()\n",
        "updated_company_ceos_2_df['company_lc'] = company_ceos_2_df['Company'].apply(lambda x: x.lower())\n",
        "updated_company_ceos_2_df\n",
        "\n",
        "output_pairs_2 = ssj.jaccard_join(updated_company_ceos_2_df, exec_2_df, 'index', 'page', 'Executive', 'clean_name', tok, 0.35,\n",
        "                                l_out_attrs=['Executive'], r_out_attrs=['name'])\n"
      ],
      "metadata": {
        "id": "H9wJox3xLsqO"
      },
      "execution_count": null,
      "outputs": []
    },
    {
      "cell_type": "code",
      "source": [
        "missed_2_df = duckdb.sql(\"\"\"SELECT *\n",
        "              FROM updated_company_ceos_2_df cc\n",
        "              WHERE NOT EXISTS(\n",
        "                SELECT  * FROM company_data_df cd\n",
        "                WHERE cc.company_lc = cd.name)\"\"\").df()\n",
        "\n",
        "missed_2_df"
      ],
      "metadata": {
        "id": "OlWdUyB3MYTq"
      },
      "execution_count": null,
      "outputs": []
    },
    {
      "cell_type": "code",
      "source": [
        "company_pairs_2 = ssj.edit_distance_join(missed_2_df, updated_company_data_df, 'index', 'co_id', 'company_lc', 'name', 2,\n",
        "                                l_out_attrs=['company_lc'], r_out_attrs=['name'])\n",
        "\n",
        "company_pairs_2"
      ],
      "metadata": {
        "id": "EPugPlhDMOE4"
      },
      "execution_count": null,
      "outputs": []
    },
    {
      "cell_type": "code",
      "source": [
        "best_match_score_2_df = duckdb.sql(\"\"\"\n",
        "  SELECT l_company_lc, MIN(_sim_score) AS best_score\n",
        "  FROM company_pairs_2\n",
        "  GROUP BY l_company_lc\n",
        "\"\"\").df()\n",
        "\n",
        "best_match_score_2_df"
      ],
      "metadata": {
        "id": "FRsTYL0UNsF3"
      },
      "execution_count": null,
      "outputs": []
    },
    {
      "cell_type": "code",
      "source": [
        "best_matches_2_df = duckdb.sql(\"\"\"\n",
        "    SELECT l_index, cp.l_company_lc AS co, first(r_co_id) AS match_id, first(r_name) AS match\n",
        "    FROM company_pairs_2 cp\n",
        "    JOIN best_match_score_2_df bm ON cp._sim_score = bm.best_score\n",
        "         AND cp.l_company_lc = bm.l_company_lc\n",
        "    GROUP BY l_index, cp.l_company_lc\n",
        "    ORDER BY cp.l_company_lc\n",
        "  \"\"\").df()\n",
        "\n",
        "best_matches_2_df"
      ],
      "metadata": {
        "id": "NlSG3IVON1Ka"
      },
      "execution_count": null,
      "outputs": []
    },
    {
      "cell_type": "code",
      "source": [
        "concordance_table_2_df = duckdb.sql(\n",
        "    \"\"\"\n",
        "      (SELECT index, Company as entry, match\n",
        "      FROM updated_company_ceos_2_df JOIN best_matches_2_df\n",
        "        ON updated_company_ceos_2_df.company_lc = best_matches_2_df.co\n",
        "      UNION\n",
        "      SELECT index, Company as entry, cd.name AS match\n",
        "      from updated_company_ceos_2_df cc JOIN company_data_df cd\n",
        "              ON cc.company_lc = cd.name\n",
        "      ) ORDER BY entry\n",
        "    \"\"\"\n",
        ").df()\n",
        "\n",
        "concordance_table_2_df"
      ],
      "metadata": {
        "id": "sgmc54E0OVDk"
      },
      "execution_count": null,
      "outputs": []
    },
    {
      "cell_type": "code",
      "source": [
        "duckdb.sql(\"\"\"\n",
        "  CREATE VIEW company_ceo_2_age AS\n",
        "  SELECT *\n",
        "  FROM updated_company_ceos_2_df uc\n",
        "    JOIN output_pairs_2 op ON uc.Executive = op.l_Executive\n",
        "    JOIN exec_2_df e ON r_page = page\n",
        "    JOIN concordance_table_2_df ct ON ct.entry = Company\n",
        "    JOIN updated_company_data_df cd ON ct.match = cd.name\n",
        "    WHERE born IS NOT NULL\n",
        "\"\"\")"
      ],
      "metadata": {
        "id": "3s8iGvujLdXh"
      },
      "execution_count": null,
      "outputs": []
    },
    {
      "cell_type": "code",
      "source": [
        "submit_df = duckdb.sql('SELECT * FROM company_ceo_2_age').df()\n",
        "submit_df"
      ],
      "metadata": {
        "id": "HoxH_8vHRsbH"
      },
      "execution_count": null,
      "outputs": []
    },
    {
      "cell_type": "code",
      "source": [
        "grader.grade('women_ceo_age', submit_df)"
      ],
      "metadata": {
        "id": "LTGl2oxaRZJP"
      },
      "execution_count": null,
      "outputs": []
    },
    {
      "cell_type": "markdown",
      "source": [
        "## A Unified View ... and Provenance\n",
        "\n",
        "We can create a single view of all company CEO info. Here, we might want to recall *where* we got different data from. We can do this by **tagging** tuples with information.\n"
      ],
      "metadata": {
        "id": "JBcnbrJQSe8V"
      }
    },
    {
      "cell_type": "code",
      "source": [
        "duckdb.sql(\"\"\"\n",
        "  CREATE VIEW company_ceo_age_all AS\n",
        "  SELECT '1' AS provenance, Company, Executive, Since, Title, born, country, domain, industry, \\\"total employee estimate\\\"\n",
        "  FROM company_ceo_age\n",
        "  UNION ALL\n",
        "  SELECT '2' AS provenance, Company, Executive, Since, Title, born, country, domain, industry, \\\"total employee estimate\\\"\n",
        "  FROM company_ceo_2_age\n",
        "\"\"\")"
      ],
      "metadata": {
        "id": "0p6ge213NGB4"
      },
      "execution_count": null,
      "outputs": []
    },
    {
      "cell_type": "markdown",
      "source": [
        "Take a look at General Motors Corp in the results below.  You'll see two named CEOs (who should easily be deduplicable into one!)."
      ],
      "metadata": {
        "id": "zV6e8e_ASrJC"
      }
    },
    {
      "cell_type": "code",
      "source": [
        "duckdb.sql(\"SELECT * FROM company_ceo_age_all WHERE Company='General Motors' ORDER BY Company\").df()"
      ],
      "metadata": {
        "id": "bbqsico4Q9zn"
      },
      "execution_count": null,
      "outputs": []
    },
    {
      "cell_type": "markdown",
      "metadata": {
        "id": "DyC2AIL9UEWx"
      },
      "source": [
        "# 4.0 Simple Analysis of Linked Data: Grouping and Analytics\n",
        "\n",
        "The `groupby` command allows us to coalesce data by groups.  In Pandas a Group is a special object with a set of rows.  We can see this with the `get_group` command."
      ]
    },
    {
      "cell_type": "code",
      "execution_count": null,
      "metadata": {
        "id": "dcshn5qLYL_6"
      },
      "outputs": [],
      "source": [
        "tech_companies_df[['born','Company','Executive']].drop_duplicates().sort_values('born')"
      ]
    },
    {
      "cell_type": "code",
      "execution_count": null,
      "metadata": {
        "id": "LqQ3Rt6NQP9L"
      },
      "outputs": [],
      "source": [
        "tech_companies_df[['born','Company','Executive']].drop_duplicates().groupby(by='born').get_group(datetime.datetime.strptime('1972-06-10', '%Y-%m-%d'))[['Company','Executive','born']]"
      ]
    },
    {
      "cell_type": "markdown",
      "metadata": {
        "id": "PJTA0udcUVDF"
      },
      "source": [
        "We can apply computations, such as `count`, to the items in the group.  Values that are empty (NaN) do not count (no pun intended)."
      ]
    },
    {
      "cell_type": "code",
      "execution_count": null,
      "metadata": {
        "id": "a4NLwFEEUcm0"
      },
      "outputs": [],
      "source": [
        "tech_companies_df[['born','Company','Executive']].drop_duplicates().groupby(by='born').count()"
      ]
    },
    {
      "cell_type": "code",
      "execution_count": null,
      "metadata": {
        "id": "10l0C0f5WM6f"
      },
      "outputs": [],
      "source": [
        "# We can do this in SQL too...\n",
        "\n",
        "# By default, SQL will include the Nan value (called NULL in SQL).  If we want to exclude it,\n",
        "# we need to include WHERE ... IS NOT NULL.\n",
        "\n",
        "duckdb.sql(\"\"\"SELECT born, count(Company)\n",
        "            FROM tech_companies_df\n",
        "            WHERE born IS NOT NULL\n",
        "            GROUP BY born\"\"\")"
      ]
    },
    {
      "cell_type": "code",
      "execution_count": null,
      "metadata": {
        "id": "9_4GKkzJZ_RO"
      },
      "outputs": [],
      "source": [
        "total2 = tech_companies_df.dropna().copy()\n",
        "total2['born'] = total2['born'].astype('datetime64[ns]')"
      ]
    },
    {
      "cell_type": "code",
      "execution_count": null,
      "metadata": {
        "id": "ltqxp7mbGxVO"
      },
      "outputs": [],
      "source": [
        "# Let's look at when the CEOs were born\n",
        "\n",
        "birthdays = total2.groupby(by='born').count()[['Executive']]\n",
        "birthdays.index = pd.to_datetime(birthdays.index, unit='s')\n",
        "\n",
        "birthdays"
      ]
    },
    {
      "cell_type": "markdown",
      "metadata": {
        "id": "O_rnskc1UkwK"
      },
      "source": [
        "We can actually use `resample` over dates, with a parameter, to group eg by decade (10 years, where A is the code for year):"
      ]
    },
    {
      "cell_type": "code",
      "source": [],
      "metadata": {
        "id": "4YsDorBPDs3M"
      },
      "execution_count": null,
      "outputs": []
    },
    {
      "cell_type": "code",
      "execution_count": null,
      "metadata": {
        "id": "SFOeeN-HHEFp"
      },
      "outputs": [],
      "source": [
        "birthdays.resample('10A').count().plot(kind='bar')"
      ]
    },
    {
      "cell_type": "code",
      "execution_count": null,
      "metadata": {
        "id": "UxawNVAjDDej"
      },
      "outputs": [],
      "source": [
        "# Let's get ready to plot\n",
        "\n",
        "%matplotlib inline"
      ]
    },
    {
      "cell_type": "markdown",
      "metadata": {
        "id": "hQ7MXmI9VFT4"
      },
      "source": [
        "Maybe that's a little weird.  Can we do something more along the lines of what we expect, i.e., \"1920s, 1930s, ...\"?"
      ]
    },
    {
      "cell_type": "code",
      "execution_count": null,
      "metadata": {
        "id": "n6I2gOx1U0gc"
      },
      "outputs": [],
      "source": [
        "# Get rid of the nulls!\n",
        "bdays = tech_companies_df[['born']].dropna()\n",
        "\n",
        "bdays = bdays.applymap(lambda bday: str(int(bday.year / 10) * 10) + 's')\n",
        "\n",
        "bdays.reset_index().groupby('born').count().plot(kind='bar')"
      ]
    }
  ],
  "metadata": {
    "colab": {
      "provenance": [],
      "gpuType": "T4",
      "include_colab_link": true
    },
    "dataset_inspector": {
      "cols": {
        "lenName": 24,
        "lenType": 16,
        "lenVar": 40
      },
      "dataset_inspector_section_display": "none",
      "kernels_config": {
        "python": {
          "delete_cmd_postfix": "",
          "delete_cmd_prefix": "del ",
          "library": "var_list.py",
          "varRefreshCmd": "print(var_dic_list())"
        },
        "r": {
          "delete_cmd_postfix": ") ",
          "delete_cmd_prefix": "rm(",
          "library": "var_list.r",
          "varRefreshCmd": "cat(var_dic_list()) "
        }
      },
      "oldHeight": 88.66133400000001,
      "position": {
        "height": "40px",
        "left": "0px",
        "right": "20px",
        "top": "0px",
        "width": "800px"
      },
      "types_to_exclude": [
        "module",
        "function",
        "builtin_function_or_method",
        "instance",
        "_Feature"
      ],
      "window_display": false
    },
    "kernelspec": {
      "display_name": "Python 3",
      "name": "python3"
    },
    "language_info": {
      "codemirror_mode": {
        "name": "ipython",
        "version": 3
      },
      "file_extension": ".py",
      "mimetype": "text/x-python",
      "name": "python",
      "nbconvert_exporter": "python",
      "pygments_lexer": "ipython3",
      "version": "3.6.8"
    },
    "accelerator": "GPU"
  },
  "nbformat": 4,
  "nbformat_minor": 0
}