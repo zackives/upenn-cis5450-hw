{
  "cells": [
    {
      "cell_type": "markdown",
      "metadata": {
        "id": "view-in-github",
        "colab_type": "text"
      },
      "source": [
        "<a href=\"https://colab.research.google.com/github/zackives/upenn-cis5450-hw/blob/main/Student_version_Homework_0.ipynb\" target=\"_parent\"><img src=\"https://colab.research.google.com/assets/colab-badge.svg\" alt=\"Open In Colab\"/></a>"
      ]
    },
    {
      "cell_type": "markdown",
      "metadata": {
        "id": "whOFv2wpMlhb"
      },
      "source": [
        "# Homework 0: Getting Started (10 points)\n",
        "\n",
        "Fall 2025\n",
        "\n",
        "For this initial assignment, our primary goal is to familiarize you with the Jupyter/Python and Apache Spark \"software stack\" we will use through the semester.\n",
        "\n",
        "**This class assumes you are comfortable programming in Python.**\n",
        "\n",
        "We will be using **Google Colab** to do the majority of work in the class, since it offers a standard environment regardless of your personal machine. This very file is a Jupyter **notebook** that you can edit and use to run Python code. Its file extension is “.ipynb” for (I)nteractive (Py)thon (N)ote(b)ook.\n",
        "\n",
        "Notebooks are divided into Cells. Some Cells are text (written in Markdown). You won’t need to edit these. The other Cells are executable code and will have `[ ]` to the left of them. After running one of these Cells, a number will appear inside the brackets, indicating the order in which the Cells were run.\n",
        "\n",
        "\n",
        "<br>\n",
        "\n",
        "#### **Please make a COPY of this notebook!**\n",
        "\n",
        "Please make a COPY of this notebook when you are getting started; nobody should have edit privileges which means that while you can type and run cells here, **it will NOT save**. Make a copy to your own Colab!!"
      ]
    },
    {
      "cell_type": "markdown",
      "metadata": {
        "id": "jK6AEVjH0_ws"
      },
      "source": [
        "# Part 1: Cloud Environment Setup\n",
        "\n",
        "If you've gotten to this point, you have already successfully logged into Google Colab!  Most likely you'll want to ``Save a Copy in Drive`` for your own use as you edit your code.  We suggest you don't rename the file as you do so.\n",
        "\n",
        "Since this initial homework uses the whole \"big data\" stack, including Apache Spark, we will first need to do some software setup.\n",
        "\n",
        "Generally speaking we will be running command-line options (eg to install software on the host machine) using the `!` operation, and we will be using `pip` to install Python libraries.\n",
        "\n"
      ]
    },
    {
      "cell_type": "markdown",
      "metadata": {
        "id": "2VnR6DBF1BE6"
      },
      "source": [
        "## 1.1 Installing Spark on Google Colab\n",
        "\n",
        "For big data analysis on a cluster, we'll need to learn to use Apache Spark.  You don't need to fully follow the details here to install Spark on Colab, but you do need to execute the cell!\n",
        "\n",
        "Select it and hit [Shift]-[Enter] to run, or click on the \"play\" triangle to the left."
      ]
    },
    {
      "cell_type": "code",
      "execution_count": null,
      "metadata": {
        "id": "aSKXFI3D-6k2"
      },
      "outputs": [],
      "source": [
        "%set_env SPARK_VERSION=3.5.6\n",
        "\n",
        "%set_env HW_ID=cis5450_25f_HW0\n",
        "\n",
        "%set_env OPENAI_API_KEY=*your-key-here*"
      ]
    },
    {
      "cell_type": "code",
      "execution_count": null,
      "metadata": {
        "colab": {
          "background_save": true
        },
        "id": "Xm4lrIFhMVHR",
        "outputId": "57a2fb6b-9d22-4a63-c14f-ab4d062bb173"
      },
      "outputs": [
        {
          "name": "stdout",
          "output_type": "stream",
          "text": [
            "--2025-08-24 18:48:01--  https://downloads.apache.org/spark/spark-3.5.6/spark-3.5.6-bin-hadoop3.tgz\n",
            "Resolving downloads.apache.org (downloads.apache.org)... 135.181.214.104, 88.99.208.237, 2a01:4f9:3a:2c57::2, ...\n",
            "Connecting to downloads.apache.org (downloads.apache.org)|135.181.214.104|:443... connected.\n",
            "HTTP request sent, awaiting response... 200 OK\n",
            "Length: 400923510 (382M) [application/x-gzip]\n",
            "Saving to: ‘spark-3.5.6-bin-hadoop3.tgz’\n",
            "\n",
            "spark-3.5.6-bin-had 100%[===================>] 382.35M  12.9MB/s    in 32s     \n",
            "\n",
            "2025-08-24 18:48:34 (12.1 MB/s) - ‘spark-3.5.6-bin-hadoop3.tgz’ saved [400923510/400923510]\n",
            "\n",
            "Collecting findspark\n",
            "  Downloading findspark-2.0.1-py2.py3-none-any.whl.metadata (352 bytes)\n",
            "Downloading findspark-2.0.1-py2.py3-none-any.whl (4.4 kB)\n",
            "Installing collected packages: findspark\n",
            "Successfully installed findspark-2.0.1\n"
          ]
        }
      ],
      "source": [
        "## Let's install Apache Spark on Colab\n",
        "\n",
        "!wget -nc https://downloads.apache.org/spark/spark-$SPARK_VERSION/spark-$SPARK_VERSION-bin-hadoop3.tgz\n",
        "!tar xf spark-$SPARK_VERSION-bin-hadoop3.tgz\n",
        "!pip install findspark\n",
        "\n",
        "import os\n",
        "\n",
        "os.environ[\"SPARK_HOME\"] = \"/content/spark-\" + os.environ['SPARK_VERSION'] + \"-bin-hadoop3\""
      ]
    },
    {
      "cell_type": "markdown",
      "metadata": {
        "id": "g3Y85s0L9vX5"
      },
      "source": [
        "Good, the software should be installed.\n",
        "\n",
        "Now you need to run three more Cells that configure Jupyter for Apache Spark, set up the environment, and connect to Spark."
      ]
    },
    {
      "cell_type": "code",
      "execution_count": null,
      "metadata": {
        "id": "N69M3ZWgMYXH"
      },
      "outputs": [],
      "source": [
        "import findspark\n",
        "\n",
        "findspark.init()\n",
        "\n",
        "import pyspark\n",
        "from pyspark.sql import SparkSession\n",
        "from pyspark.sql.types import *\n",
        "import pyspark.sql.functions as F\n",
        "from pyspark.sql import SQLContext"
      ]
    },
    {
      "cell_type": "code",
      "execution_count": null,
      "metadata": {
        "id": "Qmxb7iPIMZyH"
      },
      "outputs": [],
      "source": [
        "try:\n",
        "    if(spark == None):\n",
        "        spark = SparkSession.builder.appName('Initial').getOrCreate()\n",
        "        sqlContext=SQLContext(spark)\n",
        "except NameError:\n",
        "    spark = SparkSession.builder.appName('Initial').getOrCreate()\n",
        "    sqlContext=SQLContext(spark)\n"
      ]
    },
    {
      "cell_type": "markdown",
      "metadata": {
        "id": "Tn3wuswcj3fw"
      },
      "source": [
        "## 1.2 Autograding and the PennGrader\n",
        "\n",
        "<img align=\"right\" src = \"https://imgur.com/rNd3gIg.png\" width= \"200\"/>\n",
        "\n",
        "Next you'll need to set up the PennGrader, which we'll be using throughout the semester to help you with your homeworks.\n",
        "\n",
        "PennGrader is not only **awesome**, but its initial version was built by an equally awesome person: CIS 5450 alumnus, Leo Murri, who later became a TA for the course.  Today Leo works as a data scientist at Amazon!\n",
        "\n",
        "PennGrader was developed to provide students with *instant* feedback on their answer. You can submit your answer and know whether it's right or wrong instantly. We then record your most recent answer in our backend database."
      ]
    },
    {
      "cell_type": "code",
      "execution_count": null,
      "metadata": {
        "id": "AFixFKy2kAev"
      },
      "outputs": [],
      "source": [
        "%%capture\n",
        "!pip install penngrader-client"
      ]
    },
    {
      "cell_type": "markdown",
      "metadata": {
        "id": "_PFKrty7lK5N"
      },
      "source": [
        "Let's try it out! Fill in the cell below with your 8-digit Penn ID and then run the following cell to initialize the grader."
      ]
    },
    {
      "cell_type": "code",
      "execution_count": null,
      "metadata": {
        "id": "kcS79C9blJBm"
      },
      "outputs": [],
      "source": [
        "#PLEASE ENSURE YOUR PENN-ID IS ENTERED CORRECTLY. IF NOT, THE AUTOGRADER WON'T KNOW WHO\n",
        "#TO ASSIGN POINTS TO YOU IN OUR BACKEND\n",
        "STUDENT_ID = 99999999 # YOUR PENN-ID GOES HERE AS AN INTEGER#\n",
        "\n",
        "SECRET = STUDENT_ID"
      ]
    },
    {
      "cell_type": "code",
      "execution_count": null,
      "metadata": {
        "id": "8ToIBcSTdJ0j"
      },
      "outputs": [],
      "source": [
        "%%writefile notebook-config.yaml\n",
        "\n",
        "grader_api_url: 'https://23whrwph9h.execute-api.us-east-1.amazonaws.com/default/Grader23'\n",
        "grader_api_key: 'flfkE736fA6Z8GxMDJe2q8Kfk8UDqjsG3GVqOFOa'"
      ]
    },
    {
      "cell_type": "code",
      "execution_count": null,
      "metadata": {
        "id": "x62rNEosdQdZ"
      },
      "outputs": [],
      "source": [
        "from penngrader.grader import *\n",
        "\n",
        "# Import useful libraries\n",
        "import pandas as pd\n",
        "import numpy as np\n",
        "import seaborn as sns\n",
        "from string import ascii_letters\n",
        "import matplotlib.pyplot as plt\n",
        "import datetime as dt\n",
        "import requests\n",
        "from lxml import html\n",
        "import math"
      ]
    },
    {
      "cell_type": "code",
      "execution_count": null,
      "metadata": {
        "id": "wd0oMe8glNnA"
      },
      "outputs": [],
      "source": [
        "grader = PennGrader('notebook-config.yaml', os.environ['HW_ID'], STUDENT_ID, SECRET)"
      ]
    },
    {
      "cell_type": "markdown",
      "metadata": {
        "id": "KVm1kMgrgG6E"
      },
      "source": [
        "# Part 2: Your First CIS 5450 Notebook\n",
        "\n",
        "The rest of the assignment will try to illustrate a few aspects of data analytics...  Don't be concerned if you don't yet know all of the operations, libraries, etc. because that's what we'll be covering soon!"
      ]
    },
    {
      "cell_type": "markdown",
      "metadata": {
        "id": "hpAxQ5Ac1O5v"
      },
      "source": [
        "## 2.1 A Simple Program to Read from the Web and Invoke Spark\n",
        "\n",
        "The cell below uses the **Pandas** library to read a table from the given web page (the Wikipedia information on films in the year 2024).  The code loads this into a list of **DataFrame**s called `films_2010`.  We then pull the table at index 3, then do some simple **data wrangling** on `top_films` to set up the appropriate types.\n",
        "\n",
        "Select the Cell below and then select the Run button which appeared over the brackets."
      ]
    },
    {
      "cell_type": "code",
      "execution_count": null,
      "metadata": {
        "id": "-IG5hBbY97J8",
        "colab": {
          "base_uri": "https://localhost:8080/"
        },
        "outputId": "ddab7b8d-e367-432c-820d-7b7927ebce3f"
      },
      "outputs": [
        {
          "output_type": "stream",
          "name": "stdout",
          "text": [
            "Collecting money-parser\n",
            "  Downloading money_parser-0.0.1-py3-none-any.whl.metadata (5.1 kB)\n",
            "Downloading money_parser-0.0.1-py3-none-any.whl (6.4 kB)\n",
            "Installing collected packages: money-parser\n",
            "Successfully installed money-parser-0.0.1\n",
            "Requirement already satisfied: html5lib in /usr/local/lib/python3.12/dist-packages (1.1)\n",
            "Requirement already satisfied: six>=1.9 in /usr/local/lib/python3.12/dist-packages (from html5lib) (1.17.0)\n",
            "Requirement already satisfied: webencodings in /usr/local/lib/python3.12/dist-packages (from html5lib) (0.5.1)\n"
          ]
        }
      ],
      "source": [
        "!pip install money-parser\n",
        "!pip install html5lib"
      ]
    },
    {
      "cell_type": "code",
      "execution_count": null,
      "metadata": {
        "id": "K0c5Tsrjhou0",
        "colab": {
          "base_uri": "https://localhost:8080/",
          "height": 450
        },
        "outputId": "f3397ca0-9754-4d66-9070-6b4d067b4f37"
      },
      "outputs": [
        {
          "output_type": "stream",
          "name": "stderr",
          "text": [
            "/tmp/ipython-input-1944792602.py:14: FutureWarning: Passing literal html to 'read_html' is deprecated and will be removed in a future version. To read from a literal string, wrap it in a 'StringIO' object.\n",
            "  films_2025 = pd.read_html(response.text)\n"
          ]
        },
        {
          "output_type": "execute_result",
          "data": {
            "text/plain": [
              "                                          Title           Distributor  \\\n",
              "Rank                                                                    \n",
              "1                                    Ne Zha 2 †       Beijing Enlight   \n",
              "2                                 Lilo & Stitch                Disney   \n",
              "3                             A Minecraft Movie          Warner Bros.   \n",
              "4                      Jurassic World Rebirth †             Universal   \n",
              "5                    How to Train Your Dragon †             Universal   \n",
              "6                                    Superman †          Warner Bros.   \n",
              "7                                          F1 †  Warner Bros. / Apple   \n",
              "8     Mission: Impossible – The Final Reckoning             Paramount   \n",
              "9                      Detective Chinatown 1900                 Wanda   \n",
              "10            The Fantastic Four: First Steps †                Disney   \n",
              "\n",
              "           Worldwide gross Revenue (millions)  \n",
              "Rank                                           \n",
              "1     $2,212,930,000[3][4]            2212.93  \n",
              "2           $1,031,870,197            1031.87  \n",
              "3             $955,149,195             955.15  \n",
              "4             $844,141,000             844.14  \n",
              "5             $626,992,829             626.99  \n",
              "6             $604,475,181             604.48  \n",
              "7             $603,749,586             603.75  \n",
              "8             $597,913,515             597.91  \n",
              "9          $508,922,947[5]             508.92  \n",
              "10            $490,051,951             490.05  "
            ],
            "text/html": [
              "\n",
              "  <div id=\"df-b0a5b039-9904-4d45-ac61-492f26170dec\" class=\"colab-df-container\">\n",
              "    <div>\n",
              "<style scoped>\n",
              "    .dataframe tbody tr th:only-of-type {\n",
              "        vertical-align: middle;\n",
              "    }\n",
              "\n",
              "    .dataframe tbody tr th {\n",
              "        vertical-align: top;\n",
              "    }\n",
              "\n",
              "    .dataframe thead th {\n",
              "        text-align: right;\n",
              "    }\n",
              "</style>\n",
              "<table border=\"1\" class=\"dataframe\">\n",
              "  <thead>\n",
              "    <tr style=\"text-align: right;\">\n",
              "      <th></th>\n",
              "      <th>Title</th>\n",
              "      <th>Distributor</th>\n",
              "      <th>Worldwide gross</th>\n",
              "      <th>Revenue (millions)</th>\n",
              "    </tr>\n",
              "    <tr>\n",
              "      <th>Rank</th>\n",
              "      <th></th>\n",
              "      <th></th>\n",
              "      <th></th>\n",
              "      <th></th>\n",
              "    </tr>\n",
              "  </thead>\n",
              "  <tbody>\n",
              "    <tr>\n",
              "      <th>1</th>\n",
              "      <td>Ne Zha 2 †</td>\n",
              "      <td>Beijing Enlight</td>\n",
              "      <td>$2,212,930,000[3][4]</td>\n",
              "      <td>2212.93</td>\n",
              "    </tr>\n",
              "    <tr>\n",
              "      <th>2</th>\n",
              "      <td>Lilo &amp; Stitch</td>\n",
              "      <td>Disney</td>\n",
              "      <td>$1,031,870,197</td>\n",
              "      <td>1031.87</td>\n",
              "    </tr>\n",
              "    <tr>\n",
              "      <th>3</th>\n",
              "      <td>A Minecraft Movie</td>\n",
              "      <td>Warner Bros.</td>\n",
              "      <td>$955,149,195</td>\n",
              "      <td>955.15</td>\n",
              "    </tr>\n",
              "    <tr>\n",
              "      <th>4</th>\n",
              "      <td>Jurassic World Rebirth †</td>\n",
              "      <td>Universal</td>\n",
              "      <td>$844,141,000</td>\n",
              "      <td>844.14</td>\n",
              "    </tr>\n",
              "    <tr>\n",
              "      <th>5</th>\n",
              "      <td>How to Train Your Dragon †</td>\n",
              "      <td>Universal</td>\n",
              "      <td>$626,992,829</td>\n",
              "      <td>626.99</td>\n",
              "    </tr>\n",
              "    <tr>\n",
              "      <th>6</th>\n",
              "      <td>Superman †</td>\n",
              "      <td>Warner Bros.</td>\n",
              "      <td>$604,475,181</td>\n",
              "      <td>604.48</td>\n",
              "    </tr>\n",
              "    <tr>\n",
              "      <th>7</th>\n",
              "      <td>F1 †</td>\n",
              "      <td>Warner Bros. / Apple</td>\n",
              "      <td>$603,749,586</td>\n",
              "      <td>603.75</td>\n",
              "    </tr>\n",
              "    <tr>\n",
              "      <th>8</th>\n",
              "      <td>Mission: Impossible – The Final Reckoning</td>\n",
              "      <td>Paramount</td>\n",
              "      <td>$597,913,515</td>\n",
              "      <td>597.91</td>\n",
              "    </tr>\n",
              "    <tr>\n",
              "      <th>9</th>\n",
              "      <td>Detective Chinatown 1900</td>\n",
              "      <td>Wanda</td>\n",
              "      <td>$508,922,947[5]</td>\n",
              "      <td>508.92</td>\n",
              "    </tr>\n",
              "    <tr>\n",
              "      <th>10</th>\n",
              "      <td>The Fantastic Four: First Steps †</td>\n",
              "      <td>Disney</td>\n",
              "      <td>$490,051,951</td>\n",
              "      <td>490.05</td>\n",
              "    </tr>\n",
              "  </tbody>\n",
              "</table>\n",
              "</div>\n",
              "    <div class=\"colab-df-buttons\">\n",
              "\n",
              "  <div class=\"colab-df-container\">\n",
              "    <button class=\"colab-df-convert\" onclick=\"convertToInteractive('df-b0a5b039-9904-4d45-ac61-492f26170dec')\"\n",
              "            title=\"Convert this dataframe to an interactive table.\"\n",
              "            style=\"display:none;\">\n",
              "\n",
              "  <svg xmlns=\"http://www.w3.org/2000/svg\" height=\"24px\" viewBox=\"0 -960 960 960\">\n",
              "    <path d=\"M120-120v-720h720v720H120Zm60-500h600v-160H180v160Zm220 220h160v-160H400v160Zm0 220h160v-160H400v160ZM180-400h160v-160H180v160Zm440 0h160v-160H620v160ZM180-180h160v-160H180v160Zm440 0h160v-160H620v160Z\"/>\n",
              "  </svg>\n",
              "    </button>\n",
              "\n",
              "  <style>\n",
              "    .colab-df-container {\n",
              "      display:flex;\n",
              "      gap: 12px;\n",
              "    }\n",
              "\n",
              "    .colab-df-convert {\n",
              "      background-color: #E8F0FE;\n",
              "      border: none;\n",
              "      border-radius: 50%;\n",
              "      cursor: pointer;\n",
              "      display: none;\n",
              "      fill: #1967D2;\n",
              "      height: 32px;\n",
              "      padding: 0 0 0 0;\n",
              "      width: 32px;\n",
              "    }\n",
              "\n",
              "    .colab-df-convert:hover {\n",
              "      background-color: #E2EBFA;\n",
              "      box-shadow: 0px 1px 2px rgba(60, 64, 67, 0.3), 0px 1px 3px 1px rgba(60, 64, 67, 0.15);\n",
              "      fill: #174EA6;\n",
              "    }\n",
              "\n",
              "    .colab-df-buttons div {\n",
              "      margin-bottom: 4px;\n",
              "    }\n",
              "\n",
              "    [theme=dark] .colab-df-convert {\n",
              "      background-color: #3B4455;\n",
              "      fill: #D2E3FC;\n",
              "    }\n",
              "\n",
              "    [theme=dark] .colab-df-convert:hover {\n",
              "      background-color: #434B5C;\n",
              "      box-shadow: 0px 1px 3px 1px rgba(0, 0, 0, 0.15);\n",
              "      filter: drop-shadow(0px 1px 2px rgba(0, 0, 0, 0.3));\n",
              "      fill: #FFFFFF;\n",
              "    }\n",
              "  </style>\n",
              "\n",
              "    <script>\n",
              "      const buttonEl =\n",
              "        document.querySelector('#df-b0a5b039-9904-4d45-ac61-492f26170dec button.colab-df-convert');\n",
              "      buttonEl.style.display =\n",
              "        google.colab.kernel.accessAllowed ? 'block' : 'none';\n",
              "\n",
              "      async function convertToInteractive(key) {\n",
              "        const element = document.querySelector('#df-b0a5b039-9904-4d45-ac61-492f26170dec');\n",
              "        const dataTable =\n",
              "          await google.colab.kernel.invokeFunction('convertToInteractive',\n",
              "                                                    [key], {});\n",
              "        if (!dataTable) return;\n",
              "\n",
              "        const docLinkHtml = 'Like what you see? Visit the ' +\n",
              "          '<a target=\"_blank\" href=https://colab.research.google.com/notebooks/data_table.ipynb>data table notebook</a>'\n",
              "          + ' to learn more about interactive tables.';\n",
              "        element.innerHTML = '';\n",
              "        dataTable['output_type'] = 'display_data';\n",
              "        await google.colab.output.renderOutput(dataTable, element);\n",
              "        const docLink = document.createElement('div');\n",
              "        docLink.innerHTML = docLinkHtml;\n",
              "        element.appendChild(docLink);\n",
              "      }\n",
              "    </script>\n",
              "  </div>\n",
              "\n",
              "\n",
              "    <div id=\"df-9abc8fe0-0fd4-4a8c-9a15-e87468932dae\">\n",
              "      <button class=\"colab-df-quickchart\" onclick=\"quickchart('df-9abc8fe0-0fd4-4a8c-9a15-e87468932dae')\"\n",
              "                title=\"Suggest charts\"\n",
              "                style=\"display:none;\">\n",
              "\n",
              "<svg xmlns=\"http://www.w3.org/2000/svg\" height=\"24px\"viewBox=\"0 0 24 24\"\n",
              "     width=\"24px\">\n",
              "    <g>\n",
              "        <path d=\"M19 3H5c-1.1 0-2 .9-2 2v14c0 1.1.9 2 2 2h14c1.1 0 2-.9 2-2V5c0-1.1-.9-2-2-2zM9 17H7v-7h2v7zm4 0h-2V7h2v10zm4 0h-2v-4h2v4z\"/>\n",
              "    </g>\n",
              "</svg>\n",
              "      </button>\n",
              "\n",
              "<style>\n",
              "  .colab-df-quickchart {\n",
              "      --bg-color: #E8F0FE;\n",
              "      --fill-color: #1967D2;\n",
              "      --hover-bg-color: #E2EBFA;\n",
              "      --hover-fill-color: #174EA6;\n",
              "      --disabled-fill-color: #AAA;\n",
              "      --disabled-bg-color: #DDD;\n",
              "  }\n",
              "\n",
              "  [theme=dark] .colab-df-quickchart {\n",
              "      --bg-color: #3B4455;\n",
              "      --fill-color: #D2E3FC;\n",
              "      --hover-bg-color: #434B5C;\n",
              "      --hover-fill-color: #FFFFFF;\n",
              "      --disabled-bg-color: #3B4455;\n",
              "      --disabled-fill-color: #666;\n",
              "  }\n",
              "\n",
              "  .colab-df-quickchart {\n",
              "    background-color: var(--bg-color);\n",
              "    border: none;\n",
              "    border-radius: 50%;\n",
              "    cursor: pointer;\n",
              "    display: none;\n",
              "    fill: var(--fill-color);\n",
              "    height: 32px;\n",
              "    padding: 0;\n",
              "    width: 32px;\n",
              "  }\n",
              "\n",
              "  .colab-df-quickchart:hover {\n",
              "    background-color: var(--hover-bg-color);\n",
              "    box-shadow: 0 1px 2px rgba(60, 64, 67, 0.3), 0 1px 3px 1px rgba(60, 64, 67, 0.15);\n",
              "    fill: var(--button-hover-fill-color);\n",
              "  }\n",
              "\n",
              "  .colab-df-quickchart-complete:disabled,\n",
              "  .colab-df-quickchart-complete:disabled:hover {\n",
              "    background-color: var(--disabled-bg-color);\n",
              "    fill: var(--disabled-fill-color);\n",
              "    box-shadow: none;\n",
              "  }\n",
              "\n",
              "  .colab-df-spinner {\n",
              "    border: 2px solid var(--fill-color);\n",
              "    border-color: transparent;\n",
              "    border-bottom-color: var(--fill-color);\n",
              "    animation:\n",
              "      spin 1s steps(1) infinite;\n",
              "  }\n",
              "\n",
              "  @keyframes spin {\n",
              "    0% {\n",
              "      border-color: transparent;\n",
              "      border-bottom-color: var(--fill-color);\n",
              "      border-left-color: var(--fill-color);\n",
              "    }\n",
              "    20% {\n",
              "      border-color: transparent;\n",
              "      border-left-color: var(--fill-color);\n",
              "      border-top-color: var(--fill-color);\n",
              "    }\n",
              "    30% {\n",
              "      border-color: transparent;\n",
              "      border-left-color: var(--fill-color);\n",
              "      border-top-color: var(--fill-color);\n",
              "      border-right-color: var(--fill-color);\n",
              "    }\n",
              "    40% {\n",
              "      border-color: transparent;\n",
              "      border-right-color: var(--fill-color);\n",
              "      border-top-color: var(--fill-color);\n",
              "    }\n",
              "    60% {\n",
              "      border-color: transparent;\n",
              "      border-right-color: var(--fill-color);\n",
              "    }\n",
              "    80% {\n",
              "      border-color: transparent;\n",
              "      border-right-color: var(--fill-color);\n",
              "      border-bottom-color: var(--fill-color);\n",
              "    }\n",
              "    90% {\n",
              "      border-color: transparent;\n",
              "      border-bottom-color: var(--fill-color);\n",
              "    }\n",
              "  }\n",
              "</style>\n",
              "\n",
              "      <script>\n",
              "        async function quickchart(key) {\n",
              "          const quickchartButtonEl =\n",
              "            document.querySelector('#' + key + ' button');\n",
              "          quickchartButtonEl.disabled = true;  // To prevent multiple clicks.\n",
              "          quickchartButtonEl.classList.add('colab-df-spinner');\n",
              "          try {\n",
              "            const charts = await google.colab.kernel.invokeFunction(\n",
              "                'suggestCharts', [key], {});\n",
              "          } catch (error) {\n",
              "            console.error('Error during call to suggestCharts:', error);\n",
              "          }\n",
              "          quickchartButtonEl.classList.remove('colab-df-spinner');\n",
              "          quickchartButtonEl.classList.add('colab-df-quickchart-complete');\n",
              "        }\n",
              "        (() => {\n",
              "          let quickchartButtonEl =\n",
              "            document.querySelector('#df-9abc8fe0-0fd4-4a8c-9a15-e87468932dae button');\n",
              "          quickchartButtonEl.style.display =\n",
              "            google.colab.kernel.accessAllowed ? 'block' : 'none';\n",
              "        })();\n",
              "      </script>\n",
              "    </div>\n",
              "\n",
              "  <div id=\"id_37ce2cba-8663-4331-a6b5-38073c602e29\">\n",
              "    <style>\n",
              "      .colab-df-generate {\n",
              "        background-color: #E8F0FE;\n",
              "        border: none;\n",
              "        border-radius: 50%;\n",
              "        cursor: pointer;\n",
              "        display: none;\n",
              "        fill: #1967D2;\n",
              "        height: 32px;\n",
              "        padding: 0 0 0 0;\n",
              "        width: 32px;\n",
              "      }\n",
              "\n",
              "      .colab-df-generate:hover {\n",
              "        background-color: #E2EBFA;\n",
              "        box-shadow: 0px 1px 2px rgba(60, 64, 67, 0.3), 0px 1px 3px 1px rgba(60, 64, 67, 0.15);\n",
              "        fill: #174EA6;\n",
              "      }\n",
              "\n",
              "      [theme=dark] .colab-df-generate {\n",
              "        background-color: #3B4455;\n",
              "        fill: #D2E3FC;\n",
              "      }\n",
              "\n",
              "      [theme=dark] .colab-df-generate:hover {\n",
              "        background-color: #434B5C;\n",
              "        box-shadow: 0px 1px 3px 1px rgba(0, 0, 0, 0.15);\n",
              "        filter: drop-shadow(0px 1px 2px rgba(0, 0, 0, 0.3));\n",
              "        fill: #FFFFFF;\n",
              "      }\n",
              "    </style>\n",
              "    <button class=\"colab-df-generate\" onclick=\"generateWithVariable('top_films')\"\n",
              "            title=\"Generate code using this dataframe.\"\n",
              "            style=\"display:none;\">\n",
              "\n",
              "  <svg xmlns=\"http://www.w3.org/2000/svg\" height=\"24px\"viewBox=\"0 0 24 24\"\n",
              "       width=\"24px\">\n",
              "    <path d=\"M7,19H8.4L18.45,9,17,7.55,7,17.6ZM5,21V16.75L18.45,3.32a2,2,0,0,1,2.83,0l1.4,1.43a1.91,1.91,0,0,1,.58,1.4,1.91,1.91,0,0,1-.58,1.4L9.25,21ZM18.45,9,17,7.55Zm-12,3A5.31,5.31,0,0,0,4.9,8.1,5.31,5.31,0,0,0,1,6.5,5.31,5.31,0,0,0,4.9,4.9,5.31,5.31,0,0,0,6.5,1,5.31,5.31,0,0,0,8.1,4.9,5.31,5.31,0,0,0,12,6.5,5.46,5.46,0,0,0,6.5,12Z\"/>\n",
              "  </svg>\n",
              "    </button>\n",
              "    <script>\n",
              "      (() => {\n",
              "      const buttonEl =\n",
              "        document.querySelector('#id_37ce2cba-8663-4331-a6b5-38073c602e29 button.colab-df-generate');\n",
              "      buttonEl.style.display =\n",
              "        google.colab.kernel.accessAllowed ? 'block' : 'none';\n",
              "\n",
              "      buttonEl.onclick = () => {\n",
              "        google.colab.notebook.generateWithVariable('top_films');\n",
              "      }\n",
              "      })();\n",
              "    </script>\n",
              "  </div>\n",
              "\n",
              "    </div>\n",
              "  </div>\n"
            ],
            "application/vnd.google.colaboratory.intrinsic+json": {
              "type": "dataframe",
              "variable_name": "top_films",
              "summary": "{\n  \"name\": \"top_films\",\n  \"rows\": 10,\n  \"fields\": [\n    {\n      \"column\": \"Rank\",\n      \"properties\": {\n        \"dtype\": \"number\",\n        \"std\": 3,\n        \"min\": 1,\n        \"max\": 10,\n        \"num_unique_values\": 10,\n        \"samples\": [\n          9,\n          2,\n          6\n        ],\n        \"semantic_type\": \"\",\n        \"description\": \"\"\n      }\n    },\n    {\n      \"column\": \"Title\",\n      \"properties\": {\n        \"dtype\": \"string\",\n        \"num_unique_values\": 10,\n        \"samples\": [\n          \"Detective Chinatown 1900\",\n          \"Lilo & Stitch\",\n          \"Superman \\u2020\"\n        ],\n        \"semantic_type\": \"\",\n        \"description\": \"\"\n      }\n    },\n    {\n      \"column\": \"Distributor\",\n      \"properties\": {\n        \"dtype\": \"string\",\n        \"num_unique_values\": 7,\n        \"samples\": [\n          \"Beijing Enlight\",\n          \"Disney\",\n          \"Paramount\"\n        ],\n        \"semantic_type\": \"\",\n        \"description\": \"\"\n      }\n    },\n    {\n      \"column\": \"Worldwide gross\",\n      \"properties\": {\n        \"dtype\": \"string\",\n        \"num_unique_values\": 10,\n        \"samples\": [\n          \"$508,922,947[5]\",\n          \"$1,031,870,197\",\n          \"$604,475,181\"\n        ],\n        \"semantic_type\": \"\",\n        \"description\": \"\"\n      }\n    },\n    {\n      \"column\": \"Revenue (millions)\",\n      \"properties\": {\n        \"dtype\": \"string\",\n        \"num_unique_values\": 10,\n        \"samples\": [\n          \"508.92\",\n          \"1031.87\",\n          \"604.48\"\n        ],\n        \"semantic_type\": \"\",\n        \"description\": \"\"\n      }\n    }\n  ]\n}"
            }
          },
          "metadata": {},
          "execution_count": 5
        }
      ],
      "source": [
        "import pandas as pd\n",
        "from money_parser import price_dec\n",
        "import requests\n",
        "\n",
        "def extract_number(x):\n",
        "  items = str(x).split('[')\n",
        "  return round(price_dec(items[0]) / 1000000, 2)\n",
        "headers = {\n",
        "    'User-Agent': 'Mozilla/5.0 (Windows NT 10.0; Win64; x64) AppleWebKit/537.36 (KHTML, like Gecko) Chrome/91.0.4472.124 Safari/537.36'\n",
        "}\n",
        "\n",
        "url = 'https://en.wikipedia.org/wiki/2025_in_film'\n",
        "response = requests.get(url, headers=headers)\n",
        "films_2025 = pd.read_html(response.text)\n",
        "\n",
        "top_films = films_2025[1]\n",
        "\n",
        "top_films.set_index('Rank', inplace=True)\n",
        "\n",
        "top_films['Revenue (millions)'] = top_films['Worldwide gross'].apply(extract_number)\n",
        "\n",
        "top_films"
      ]
    },
    {
      "cell_type": "markdown",
      "metadata": {
        "id": "lHYYZNCe-eM1"
      },
      "source": [
        "Can we programmatically compute how many entries were scored as top films?"
      ]
    },
    {
      "cell_type": "code",
      "execution_count": null,
      "metadata": {
        "id": "FfBjaH1U-hIh"
      },
      "outputs": [],
      "source": [
        "# You can use the Python len() function on a dataframe to figure out how many rows!\n",
        "\n",
        "# TODO: Update dataframe_length with your code here!\n",
        "dataframe_length = 0"
      ]
    },
    {
      "cell_type": "code",
      "execution_count": null,
      "metadata": {
        "colab": {
          "base_uri": "https://localhost:8080/"
        },
        "id": "st8grxXxk1cy",
        "outputId": "af727598-8bcb-43af-a278-6ada5240d032"
      },
      "outputs": [
        {
          "name": "stdout",
          "output_type": "stream",
          "text": [
            "You earned 0/4 points.\n",
            "\n",
            "But, don't worry you can re-submit and we will keep only your latest score.\n"
          ]
        }
      ],
      "source": [
        "# Run this cell to submit to PennGrader!\n",
        "\n",
        "grader.grade(test_case_id = 'length_test', answer = dataframe_length)"
      ]
    },
    {
      "cell_type": "markdown",
      "metadata": {
        "id": "k5aP5_h8srJ9"
      },
      "source": [
        "Now we will copy the table over to **Apache Spark**, which is a big data engine capable of processing giant tables.\n",
        "\n",
        "We will **query** the table to get top films from Disney."
      ]
    },
    {
      "cell_type": "code",
      "execution_count": null,
      "metadata": {
        "id": "tUWgHOoBgF6K"
      },
      "outputs": [],
      "source": [
        "from pyspark.sql.types import *\n",
        "\n",
        "# The 'schema' specifies the column names and data types\n",
        "schema = StructType([StructField('Title', StringType(), nullable=True), \\\n",
        "            StructField('Distributor', StringType(), nullable=False), \\\n",
        "            StructField('Gross', StringType(), nullable=False), \\\n",
        "            StructField('Revenue_M', DecimalType(), nullable=False)])\n",
        "\n",
        "# This loads a Pandas DataFrame into Apache Spark\n",
        "top_films_spark = spark.createDataFrame(top_films, \\\n",
        "                                         schema=schema)\n",
        "\n",
        "# Now use Spark to filter only those rows where the distributor is 'Disney'\n",
        "disney_films = top_films_spark.filter(top_films_spark.Distributor == 'Disney')\n",
        "display(disney_films.collect())"
      ]
    },
    {
      "cell_type": "markdown",
      "metadata": {
        "id": "CO7JiYf3gzbS"
      },
      "source": [
        "Congratulations, you have just run a very simple Spark program!\n",
        "\n",
        "## 2.2 Something a Little More Fun\n",
        "Running the cell below will create a scatter plot.\n",
        "\n",
        "**Your task is to edit this cell such that:***\n",
        "\n",
        "1. The text (which says “CIS 5450 student”) should be replaced with your full name.\n",
        "2. The number of values sampled should be 500, and you should  change the figure title to match!\n",
        "\n",
        "4. The x-axis should be labeled “Index”.\n",
        "\n",
        "You may run this cell repeatedly to see the output."
      ]
    },
    {
      "cell_type": "code",
      "execution_count": null,
      "metadata": {
        "id": "stqXhjIOMbOG"
      },
      "outputs": [],
      "source": [
        "# We’ll be using Matplotlib to plot a visualization\n",
        "%matplotlib inline\n",
        "\n",
        "import matplotlib.pyplot as plt\n",
        "import numpy as np\n",
        "\n",
        "# Create a Spark dataset with values 0 thru 499\n",
        "rdd = spark.sparkContext.parallelize(range(500))\n",
        "\n",
        "# TODO: Sample 500 values from the RDD\n",
        "y = np.array(rdd.takeSample(True, 505, 1))\n",
        "# Create an array with the indices\n",
        "x = np.array(range(len(y)))\n",
        "\n",
        "# Create a plot with a caption, X and Y legends, etc\n",
        "x_label = ''\n",
        "y_label = 'Value'\n",
        "student = 'CIS 5450 student'\n",
        "\n",
        "plt.title(str(len(y)) + ' random samples from the RDD')\n",
        "plt.xlabel(x_label)\n",
        "plt.ylabel(y_label)\n",
        "plt.figtext(0.995, 0.01, student, ha='right', va='bottom')\n",
        "# Scatter plot that fits within the box\n",
        "plt.scatter(x, y)\n",
        "plt.tight_layout()\n",
        "\n",
        "# Now fit a trend line to the data and plot it over the scatter plot\n",
        "m, c = np.polyfit(x, y, 1)\n",
        "plt.plot(x, m*x + c)\n",
        "\n",
        "# Save the SVG\n",
        "# plt.savefig('hw0.svg')"
      ]
    },
    {
      "cell_type": "markdown",
      "metadata": {
        "id": "daKoWpQZg7EJ"
      },
      "source": [
        "The following test cell prints your name and tests whether you followed the directions."
      ]
    },
    {
      "cell_type": "code",
      "execution_count": null,
      "metadata": {
        "id": "MXhK2uIFg2BJ"
      },
      "outputs": [],
      "source": [
        "print(\"Your name is:\", student)\n",
        "\n",
        "# Run this cell to submit to PennGrader!\n",
        "grader.grade(test_case_id = 'name_test', answer = student)"
      ]
    },
    {
      "cell_type": "markdown",
      "metadata": {
        "id": "P-lbvzjjKEhY"
      },
      "source": [
        "# Part 3: AI over Text\n",
        "\n",
        "You've heard all about Large Language Models. We will use them in some aspects of our study of data importing and wrangling.\n",
        "\n",
        "Next you'll need an OpenAI API key for the course. You can get one from our Ed Discussion forum.  Substitute it for this.\n"
      ]
    },
    {
      "cell_type": "code",
      "execution_count": null,
      "metadata": {
        "colab": {
          "background_save": true
        },
        "id": "eRW-bcceKWNn"
      },
      "outputs": [],
      "source": [
        "%set_env AZURE_OPENAI_API_KEY="
      ]
    },
    {
      "cell_type": "code",
      "execution_count": null,
      "metadata": {
        "colab": {
          "background_save": true
        },
        "id": "O_D4c3r6KOer"
      },
      "outputs": [],
      "source": [
        "!pip install llama-index\n",
        "!pip install langchain\n",
        "!pip install langchain-community langchain-core\n",
        "!pip install llama-index-llms-openai\n",
        "!pip install -qU langchain-openai"
      ]
    },
    {
      "cell_type": "markdown",
      "metadata": {
        "id": "InVrD1DpKe_J"
      },
      "source": [
        "Let's load some documents from Wikipedia."
      ]
    },
    {
      "cell_type": "code",
      "execution_count": null,
      "metadata": {
        "colab": {
          "background_save": true
        },
        "id": "YvSDqRdhKhj9"
      },
      "outputs": [],
      "source": [
        "!mkdir to_index\n",
        "\n",
        "!wget https://en.wikipedia.org/wiki/Large_language_model -O llm.html\n",
        "!wget https://en.wikipedia.org/wiki/Data_integration -O di.html\n",
        "!wget https://research.cs.wisc.edu/dibook/ -O book.html\n",
        "!mv *.html to_index"
      ]
    },
    {
      "cell_type": "markdown",
      "metadata": {
        "id": "o-29vyPmKmM3"
      },
      "source": [
        "We can index the files (or really, pieces of the files) using LlamaIndex and use this to search."
      ]
    },
    {
      "cell_type": "code",
      "execution_count": null,
      "metadata": {
        "colab": {
          "background_save": true
        },
        "id": "TrOPzLZ8Kr6E"
      },
      "outputs": [],
      "source": [
        "import sys\n",
        "import os\n",
        "\n",
        "from langchain_openai import AzureChatOpenAI\n",
        "from llama_index.core import SimpleDirectoryReader, readers, VectorStoreIndex, PromptHelper\n",
        "from llama_index.llms.openai import OpenAI\n",
        "\n",
        "endpoint = \"https://zives-cis5450-openai.openai.azure.com/\"\n",
        "model_name = \"gpt-4.1-mini\"\n",
        "deployment = \"gpt-4.1-mini\"\n",
        "\n",
        "subscription_key = str(os.getenv('AZURE_OPENAI_API_KEY'))\n",
        "api_version = \"2024-12-01-preview\"\n",
        "\n",
        "llm = AzureChatOpenAI(\n",
        "    api_version=api_version,\n",
        "    azure_endpoint=endpoint,\n",
        "    api_key=subscription_key,\n",
        "    max_tokens=256,\n",
        ")\n",
        "\n",
        "prompt_helper = PromptHelper(4096,\n",
        "                              256,\n",
        "                              0.1,\n",
        "                              chunk_size_limit=512)\n",
        "documents = SimpleDirectoryReader('to_index').load_data()\n",
        "index = VectorStoreIndex.from_documents(\n",
        "    documents,\n",
        "    llm_predictor=llm,\n",
        "    prompt_helper=prompt_helper,\n",
        "    persistent=True\n",
        ")\n"
      ]
    },
    {
      "cell_type": "markdown",
      "metadata": {
        "id": "fXs9ukpsKxw-"
      },
      "source": [
        "Now you can run the following cell to ask queries against the indexed content in the database. Press the Stop button when you're done."
      ]
    },
    {
      "cell_type": "code",
      "execution_count": null,
      "metadata": {
        "colab": {
          "background_save": true
        },
        "id": "O39X2L-qKvoq"
      },
      "outputs": [],
      "source": [
        "from IPython.display import Markdown, display\n",
        "\n",
        "while True:\n",
        "    query = input(\"What do you want to ask the Chat Bot? \")\n",
        "    response = index.as_query_engine().query(query)\n",
        "    display(Markdown(f\"The Chat Bot says: <b>{response.response}</b>\"))\n"
      ]
    },
    {
      "cell_type": "markdown",
      "metadata": {
        "id": "VzLJBEcl8r2X"
      },
      "source": [
        "# Part 4: Submitting Your Homework\n",
        "\n",
        "First, note that it's easy to \"break\" your notebook by changing something...  So you should *ALWAYS* clear output and re-run your code, just to make sure that hasn't happened.\n",
        "\n",
        "When you are done, select the \"Runtime\" menu at the top of the window. Then, select \"Restart and run all\". Please make sure all cells complete!\n"
      ]
    },
    {
      "cell_type": "markdown",
      "metadata": {
        "id": "cvJC6H9k1gYD"
      },
      "source": [
        "## 4.1 Submission to Gradescope\n",
        "\n",
        "Now go to the File menu and choose \"Download .ipynb\" and also \"Download .py\".  Go to [Gradescope](https://www.gradescope.com/courses/1105021) and:\n",
        "\n",
        "1. (If you didn't read the above carefully) from \"File\" --> Download *both* .ipynb and .py files\n",
        "1. Rename these downloaded files `homework0.ipynb` and `homework0.py`, respectively\n",
        "1. Sign in using your Penn email address (if you are a SEAS student we recommend using the Google login) and ensure  your class is \"BAN_CIS-5450-001 202530\"\n",
        "1. Select Homework 0\n",
        "1. Upload both files\n",
        "1. PLEASE CHECK THE AUTOGRADER OUTPUT TO ENSURE YOUR SUBMISSION IS PROCESSED CORRECTLY!\n",
        "\n",
        "**NOTE: in future HW, we will apply a penalty if we have to re-upload your submission to Gradescope after the deadline.**.\n",
        "\n",
        "You should be set! Note that this assignment has 8 autograded points and 2 manually graded points! The autograded points will show upon submission, but the manually graded portion will be graded by your TAs after the deadline has passed."
      ]
    },
    {
      "cell_type": "code",
      "execution_count": null,
      "metadata": {
        "id": "LylP2pEW_yGD"
      },
      "outputs": [],
      "source": []
    }
  ],
  "metadata": {
    "colab": {
      "provenance": [],
      "include_colab_link": true
    },
    "kernelspec": {
      "display_name": "Python 3",
      "name": "python3"
    }
  },
  "nbformat": 4,
  "nbformat_minor": 0
}